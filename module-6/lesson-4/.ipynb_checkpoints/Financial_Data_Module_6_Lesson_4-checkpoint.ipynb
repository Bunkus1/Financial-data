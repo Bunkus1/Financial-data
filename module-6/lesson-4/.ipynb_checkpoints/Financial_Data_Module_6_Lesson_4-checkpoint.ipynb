{
 "cells": [
  {
   "cell_type": "markdown",
   "metadata": {
    "id": "Sg8phJCh1ZkC"
   },
   "source": [
    "\n",
    "## FINANCIAL DATA\n",
    "MODULE 6 | LESSON 4\n",
    "\n",
    "\n",
    "---\n",
    "\n"
   ]
  },
  {
   "cell_type": "markdown",
   "metadata": {
    "id": "UzY6AuaGKvZE"
   },
   "source": [
    "# **FUNDAMENTAL ANALYSIS**"
   ]
  },
  {
   "cell_type": "markdown",
   "metadata": {
    "id": "35WenbSd1eN7"
   },
   "source": [
    "|  |  |\n",
    "|:---|:---|\n",
    "|**Reading Time** |  25 minutes |\n",
    "|**Prior Knowledge** | Application Programming Interface (API)  |\n",
    "|**Keywords** |Urllib module, Application Programming Interface (API), Fundamental analysis   |   \t\n",
    "\n",
    "---"
   ]
  },
  {
   "cell_type": "markdown",
   "metadata": {
    "id": "UdXYmBsFlXzn"
   },
   "source": [
    "\n",
    "*In the last lesson, we used technical analysis to evaluate stock price histories and help decide when to buy or sell a security. In this lesson, we use fundamental analysis to evaluate companies.*"
   ]
  },
  {
   "cell_type": "markdown",
   "metadata": {
    "id": "ZXeZ3aP6xrCC"
   },
   "source": [
    "## 1. Fundamental Analysis\n",
    "\n",
    "We discussed fundamental analysis in Module 6, Lesson 4 of Financial Markets. [The following required reading goes both deeper and more broadly into various metrics and ratios](https://pressbooks.rampages.us/businessfoundation/chapter/12-8/)\n",
    "\n",
    "\n",
    "In order to use the library, [you will need to register for an API key here](https://www.alphavantage.co/support/#api-key), which is very similar to what you needed to access the Twitter API in Lesson 1 of this module:<\n",
    "\n",
    "\n",
    "Then, set the value of api_key in the next line of code to this key string value that you received.\n"
   ]
  },
  {
   "cell_type": "code",
   "execution_count": null,
   "metadata": {
    "id": "_bOAhQCWd0xk"
   },
   "outputs": [],
   "source": [
    "api_key = \"XXXXXXXXXXXXXXXX\"  # Paste your API key from https://www.alphavantage.co/support/#api-key between the quotes"
   ]
  },
  {
   "cell_type": "markdown",
   "metadata": {
    "id": "-A-byfxztaJL"
   },
   "source": [
    "Now you can use any of the specific data sets listed below (OVERVIEW, EARNINGS\n",
    "CASH_FLOW, BALANCE_SHEET, INCOME_STATEMENT) to find the financial statement information or fundamental analysis metric of interest. By default, the data set is set to \"OVERVIEW\" which already includes several of the ratios you will be reading about. With access to the financial statements as provided below, you can also calculate many more financial ratios.\n",
    "\n",
    "Set the \"ticker\" to the ticker of your choice. \n",
    "[Explore the other data fields available to you](https://www.alphavantage.co/documentation/#balance-sheet)"
   ]
  },
  {
   "cell_type": "code",
   "execution_count": null,
   "metadata": {
    "colab": {
     "base_uri": "https://localhost:8080/"
    },
    "id": "C1sAeYYXeQPQ",
    "outputId": "f1d29d68-0e16-4bc9-ce6c-31fb387abfe6"
   },
   "outputs": [],
   "source": [
    "import json\n",
    "\n",
    "import requests\n",
    "\n",
    "# Update these two values according to what you are looking for\n",
    "ticker = \"MSFT\"\n",
    "data_set = \"OVERVIEW\"\n",
    "\n",
    "\"\"\"\n",
    "For data_set values you can choose from any of the following:\n",
    "EARNINGS\n",
    "CASH_FLOW\n",
    "BALANCE_SHEET\n",
    "INCOME_STATEMENT\n",
    "\"\"\"\n",
    "url = (\n",
    "    \"https://www.alphavantage.co/query?function=\"\n",
    "    + data_set\n",
    "    + \"&symbol=\"\n",
    "    + ticker\n",
    "    + \"&apikey=\"\n",
    "    + api_key\n",
    ")\n",
    "\n",
    "r = requests.get(url)\n",
    "data = r.json()\n",
    "\n",
    "print(data)\n",
    "\n",
    "print(json.dumps(data, indent=1))"
   ]
  },
  {
   "cell_type": "markdown",
   "metadata": {
    "id": "JU_uUjgA3rLg"
   },
   "source": [
    "[This required reading has a great discussion about using financial analysis and fundamental analysis in the real world](https://www.scirp.org/html/8-1501685_88850.htm)\n"
   ]
  },
  {
   "cell_type": "markdown",
   "metadata": {
    "id": "SRPr-W1qBxd-"
   },
   "source": [
    "## 2. The Urllib Module \n",
    "\n",
    "URL stands for uniform resource locator, the unique identifier used to locate a resource on the internet: in other words, a website address. When you look over the code for the FundamentalAnalysis repo, you will recognize the JSON import from Lesson 1. Notice too the references to the Urllib module, which helps our code interact with websites.\n",
    "\n",
    "Read the two required readings at the following URLs so you understand more about how the code above uses this Urllib module:\n",
    "* [\"What is the urllib module in Python 3?\"](https://www.educative.io/edpresso/what-is-the-urllib-module-in-python-3)\n",
    "* [\"Python Urllib Module\"](https://www.geeksforgeeks.org/python-urllib-module/)\n"
   ]
  },
  {
   "cell_type": "markdown",
   "metadata": {
    "id": "g0PmhqkD2HOQ"
   },
   "source": [
    "## 3. Conclusion\n",
    "\n",
    "In this lesson, we performed fundamental analysis with the help of a repo that does all the relevant calculations. It also uses the Urllib module, which we learned more about. We also used an API (application programming interface), like we did in Lesson 1. In this module, we learned about sentiment analysis, technical analysis, and fundamental analysis. We also focused on time series analysis and correlation in the last lesson.\n",
    "\n",
    "As we can see in this module, financial engineering techniques, even just those used to forecast stock prices, can be quite varied. In each of these lessons, we have presented a single approach to provide a small sample of the wide-ranging types of analysis that are being pursued, actively developed, and combined in the search for better, more predictive models. This innovative process is both disciplined and creative: IT requires sufficient understanding and command of the domain knowledge (for example, regarding the specific markets) and technical knowledge (the quantitative and coding techniques). This knowledge is necessary for improving existing techniques, borrowing techniques from other fields to apply to the market or some other financial topic, or a novel combination of both of these in a thoughtful new approach."
   ]
  },
  {
   "cell_type": "markdown",
   "metadata": {
    "id": "4cnnWEWR2obD"
   },
   "source": [
    "**References**\n",
    "\n",
    "* Ma, Lijuan et al. \"Fundamental Analysis in China: An Empirical Study of the Relationship between Financial Ratios and Stock Prices.\" *Theoretical Economics Letters*, vol. 8, no. 15, pp. 3411-3437, 2018, https://www.scirp.org/html/8-1501685_88850.htm.\n",
    "\n",
    "* Edpresso Team. \"What is the urllib module in Python 3?\" *Educative*. https://www.educative.io/edpresso/what-is-the-urllib-module-in-python-3.\n",
    "\n",
    "* \"Python Urllib Module.\" *Geeks for Geeks*, 13 Oct 2021. https://www.geeksforgeeks.org/python-urllib-module/.\n",
    "\n",
    "* Avasthi, Manika. \"12.8 Analyzing Financial Statements.\" *Foundations of Business*. https://pressbooks.rampages.us/businessfoundation/chapter/12-8/  .\n",
    "\n",
    "* Bouma, Jeroen. \"Fundamental Analysis.\" *GitHub*. https://github.com/JerBouma/FundamentalAnalysis.\n",
    "\n",
    "* \"API Documentation.\" *Financial Modeling Prep*. https://site.financialmodelingprep.com/developer/docs."
   ]
  },
  {
   "cell_type": "markdown",
   "metadata": {},
   "source": [
    "---\n",
    "Copyright © 2022 WorldQuant University. This\n",
    "content is licensed solely for personal use. Redistribution or\n",
    "publication of this material is strictly prohibited.\n"
   ]
  }
 ],
 "metadata": {
  "colab": {
   "name": "Financial Data_Module 6_Lesson 4.ipynb",
   "provenance": []
  },
  "kernelspec": {
   "display_name": "Python 3 (ipykernel)",
   "language": "python",
   "name": "python3"
  },
  "language_info": {
   "codemirror_mode": {
    "name": "ipython",
    "version": 3
   },
   "file_extension": ".py",
   "mimetype": "text/x-python",
   "name": "python",
   "nbconvert_exporter": "python",
   "pygments_lexer": "ipython3",
   "version": "3.9.7"
  }
 },
 "nbformat": 4,
 "nbformat_minor": 4
}
