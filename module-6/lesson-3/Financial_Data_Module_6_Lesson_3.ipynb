{
 "cells": [
  {
   "cell_type": "markdown",
   "metadata": {
    "id": "ngJDjhyn3iOR"
   },
   "source": [
    "## FINANCIAL DATA\n",
    "MODULE 6 | LESSON 3\n",
    "\n",
    "\n",
    "---"
   ]
  },
  {
   "cell_type": "markdown",
   "metadata": {
    "id": "mNcIOiq8ZlVK"
   },
   "source": [
    "# **TECHNICAL ANALYSIS**"
   ]
  },
  {
   "cell_type": "markdown",
   "metadata": {
    "id": "K0HBSUuq3rq6"
   },
   "source": [
    "\n",
    "|  |  |\n",
    "|:---|:---|\n",
    "|**Reading Time** |  35 minutes |\n",
    "|**Prior Knowledge** | Python  |\n",
    "|**Keywords** |Trend, Momentum, Average Directional Index (ADX), Moving Average Convergence/Divergence (MACD), <br> Parabolic SAR (Stop and Reverse), Relative Strength Index (RSI), Stochastic Oscillator  |   \t\n",
    "\n",
    "---"
   ]
  },
  {
   "cell_type": "markdown",
   "metadata": {
    "id": "C-aRVumPZw7U"
   },
   "source": [
    "*In the last lesson, we analyzed the prices of various cryptocurrencies by finding their correlations. In this lesson, we analyze prices again, but looking for patterns identified by technical analysis.\n",
    "We discussed technical analysis in the Financial Markets course in Module 6, Lesson 4. In short, \"technical analysis is a security analysis discipline for forecasting the direction of prices through the study of past market data, primarily price and volume\" (\"Technical Analysis\" 1). We find that a freely available repository does most of the coding work for us, but we also take a closer look at some of this code so we understand what it is doing and how to modify it if we want it to do something different.*"
   ]
  },
  {
   "cell_type": "markdown",
   "metadata": {
    "id": "ezSiasfobg8x"
   },
   "source": [
    "## 1. The TA Library"
   ]
  },
  {
   "cell_type": "markdown",
   "metadata": {
    "id": "AYJAnEN1brhl"
   },
   "source": [
    "As mentioned the TA (technical analysis) repo already provides the code for so much of the technical analysis that we might want to do. [Read more about TA here.](https://github.com/bukosabino/ta)\n",
    "\n",
    "Install the TA library and download the `datas.csv`, which is just price and volume data. The next few blocks of code calculate each of the 42 indicators supported by the repo. In the following sections, we will take a close look at a few of the indicators related to trend and momentum.\n",
    "\n",
    "The required reading, \"Technical Analysis,\" 1-8, will give you a good overview of technical analysis, its history, and how it can be used. \n",
    "Also required reading are the sections of this text that relate to the indicators discussed below: ADX (Average Directional Index), MACD (Moving Average Convergence/Divergence), Parabolic SAR (Stop And Reverse), RSI (Relative Strength Index), and the Stochastic Oscillator.\n"
   ]
  },
  {
   "cell_type": "code",
   "execution_count": null,
   "metadata": {
    "colab": {
     "base_uri": "https://localhost:8080/"
    },
    "id": "NiwRdH2D7ySw",
    "outputId": "f0b8b794-a3eb-4d1d-ce1d-419d6af6f850"
   },
   "outputs": [],
   "source": [
    "import matplotlib as mpl\n",
    "import matplotlib.pyplot as plt\n",
    "import numpy as np\n",
    "import pandas as pd\n",
    "from ta import add_all_ta_features\n",
    "from ta.utils import dropna\n",
    "\n",
    "mpl.style.use(\"seaborn\")\n",
    "\n",
    "# Load data\n",
    "df = pd.read_csv(\"data/ta-test-data.csv.gz\", sep=\",\")\n",
    "\n",
    "# Clean NaN values\n",
    "df = dropna(df)\n",
    "\n",
    "# Add all ta features\n",
    "df = add_all_ta_features(\n",
    "    df, open=\"Open\", high=\"High\", low=\"Low\", close=\"Close\", volume=\"Volume_BTC\"\n",
    ")"
   ]
  },
  {
   "cell_type": "code",
   "execution_count": null,
   "metadata": {
    "colab": {
     "base_uri": "https://localhost:8080/",
     "height": 488
    },
    "id": "jkHmJGvEiraD",
    "outputId": "90721aa7-5d12-44f9-ad3f-9aab2f9eff51"
   },
   "outputs": [],
   "source": [
    "df.head()  # Check to make sure we"
   ]
  },
  {
   "cell_type": "markdown",
   "metadata": {
    "id": "ZsJYa1pfVmp1"
   },
   "source": [
    "## 2. Average Directional Index (ADX)\n",
    "\n",
    "\n"
   ]
  },
  {
   "cell_type": "markdown",
   "metadata": {
    "id": "3rFnXNLbdgV4"
   },
   "source": [
    "Average Directional Index (ADI) is a standard trend indicator. Read about it [in the required reading](https://www.mrao.cam.ac.uk/~mph/Technical_Analysis.pdf (102)). Although we have already imported the TA library, find the code for the `ADXIndicator` class below for ease of reference. <br>"
   ]
  },
  {
   "cell_type": "code",
   "execution_count": null,
   "metadata": {
    "id": "ILJlQNlDKSYH"
   },
   "outputs": [],
   "source": [
    "from ta.utils import IndicatorMixin, _ema, _get_min_max\n",
    "\n",
    "\n",
    "class ADXIndicator(IndicatorMixin):\n",
    "    \"\"\"Average Directional Movement Index (ADX)\n",
    "    The Plus Directional Indicator (+DI) and Minus Directional Indicator (-DI)\n",
    "    are derived from smoothed averages of these differences, and measure trend\n",
    "    direction over time. These two indicators are often referred to\n",
    "    collectively as the Directional Movement Indicator (DMI).\n",
    "    The Average Directional Index (ADX) is in turn derived from the smoothed\n",
    "    averages of the difference between +DI and -DI, and measures the strength\n",
    "    of the trend (regardless of direction) over time.\n",
    "    Using these three indicators together, chartists can determine both the\n",
    "    direction and strength of the trend.\n",
    "    http://stockcharts.com/school/doku.php?id=chart_school:technical_indicators:average_directional_index_adx\n",
    "    Args:\n",
    "        high(pandas.Series): dataset 'High' column.\n",
    "        low(pandas.Series): dataset 'Low' column.\n",
    "        close(pandas.Series): dataset 'Close' column.\n",
    "        window(int): n period.\n",
    "        fillna(bool): if True, fill nan values.\n",
    "    \"\"\"\n",
    "\n",
    "    def __init__(\n",
    "        self,\n",
    "        high: pd.Series,\n",
    "        low: pd.Series,\n",
    "        close: pd.Series,\n",
    "        window: int = 14,\n",
    "        fillna: bool = False,\n",
    "    ):\n",
    "        self._high = high\n",
    "        self._low = low\n",
    "        self._close = close\n",
    "        self._window = window\n",
    "        self._fillna = fillna\n",
    "        self._run()\n",
    "\n",
    "    def _run(self):\n",
    "        if self._window == 0:\n",
    "            raise ValueError(\"window may not be 0\")\n",
    "\n",
    "        close_shift = self._close.shift(1)\n",
    "        pdm = _get_min_max(self._high, close_shift, \"max\")\n",
    "        pdn = _get_min_max(self._low, close_shift, \"min\")\n",
    "        diff_directional_movement = pdm - pdn\n",
    "\n",
    "        self._trs_initial = np.zeros(self._window - 1)\n",
    "        self._trs = np.zeros(len(self._close) - (self._window - 1))\n",
    "        self._trs[0] = diff_directional_movement.dropna()[\n",
    "            0 : self._window  # noqa E203\n",
    "        ].sum()  # noqa E203\n",
    "        diff_directional_movement = diff_directional_movement.reset_index(drop=True)\n",
    "\n",
    "        for i in range(1, len(self._trs) - 1):\n",
    "            self._trs[i] = (\n",
    "                self._trs[i - 1]\n",
    "                - (self._trs[i - 1] / float(self._window))\n",
    "                + diff_directional_movement[self._window + i]\n",
    "            )\n",
    "\n",
    "        diff_up = self._high - self._high.shift(1)\n",
    "        diff_down = self._low.shift(1) - self._low\n",
    "        pos = abs(((diff_up > diff_down) & (diff_up > 0)) * diff_up)\n",
    "        neg = abs(((diff_down > diff_up) & (diff_down > 0)) * diff_down)\n",
    "\n",
    "        self._dip = np.zeros(len(self._close) - (self._window - 1))\n",
    "        self._dip[0] = pos.dropna()[0 : self._window].sum()  # noqa E203\n",
    "\n",
    "        pos = pos.reset_index(drop=True)\n",
    "\n",
    "        for i in range(1, len(self._dip) - 1):\n",
    "            self._dip[i] = (\n",
    "                self._dip[i - 1]\n",
    "                - (self._dip[i - 1] / float(self._window))\n",
    "                + pos[self._window + i]\n",
    "            )\n",
    "\n",
    "        self._din = np.zeros(len(self._close) - (self._window - 1))\n",
    "        self._din[0] = neg.dropna()[0 : self._window].sum()  # noqa E203\n",
    "\n",
    "        neg = neg.reset_index(drop=True)\n",
    "\n",
    "        for i in range(1, len(self._din) - 1):\n",
    "            self._din[i] = (\n",
    "                self._din[i - 1]\n",
    "                - (self._din[i - 1] / float(self._window))\n",
    "                + neg[self._window + i]\n",
    "            )\n",
    "\n",
    "    def adx(self) -> pd.Series:\n",
    "        \"\"\"Average Directional Index (ADX)\n",
    "        Returns:\n",
    "            pandas.Series: New feature generated.tr\n",
    "        \"\"\"\n",
    "        dip = np.zeros(len(self._trs))\n",
    "\n",
    "        for idx, value in enumerate(self._trs):\n",
    "            dip[idx] = 100 * (self._dip[idx] / value)\n",
    "\n",
    "        din = np.zeros(len(self._trs))\n",
    "\n",
    "        for idx, value in enumerate(self._trs):\n",
    "            din[idx] = 100 * (self._din[idx] / value)\n",
    "\n",
    "        directional_index = 100 * np.abs((dip - din) / (dip + din))\n",
    "\n",
    "        adx_series = np.zeros(len(self._trs))\n",
    "        adx_series[self._window] = directional_index[\n",
    "            0 : self._window  # noqa E203\n",
    "        ].mean()\n",
    "\n",
    "        for i in range(self._window + 1, len(adx_series)):\n",
    "            adx_series[i] = (\n",
    "                (adx_series[i - 1] * (self._window - 1)) + directional_index[i - 1]\n",
    "            ) / float(self._window)\n",
    "\n",
    "        adx_series = np.concatenate((self._trs_initial, adx_series), axis=0)\n",
    "        adx_series = pd.Series(data=adx_series, index=self._close.index)\n",
    "\n",
    "        adx_series = self._check_fillna(adx_series, value=20)\n",
    "        return pd.Series(adx_series, name=\"adx\")\n",
    "\n",
    "    def adx_pos(self) -> pd.Series:\n",
    "        \"\"\"Plus Directional Indicator (+DI)\n",
    "        Returns:\n",
    "            pandas.Series: New feature generated.\n",
    "        \"\"\"\n",
    "        dip = np.zeros(len(self._close))\n",
    "        for i in range(1, len(self._trs) - 1):\n",
    "            dip[i + self._window] = 100 * (self._dip[i] / self._trs[i])\n",
    "\n",
    "        adx_pos_series = self._check_fillna(\n",
    "            pd.Series(dip, index=self._close.index), value=20\n",
    "        )\n",
    "        return pd.Series(adx_pos_series, name=\"adx_pos\")\n",
    "\n",
    "    def adx_neg(self) -> pd.Series:\n",
    "        \"\"\"Minus Directional Indicator (-DI)\n",
    "        Returns:\n",
    "            pandas.Series: New feature generated.\n",
    "        \"\"\"\n",
    "        din = np.zeros(len(self._close))\n",
    "        for i in range(1, len(self._trs) - 1):\n",
    "            din[i + self._window] = 100 * (self._din[i] / self._trs[i])\n",
    "\n",
    "        adx_neg_series = self._check_fillna(\n",
    "            pd.Series(din, index=self._close.index), value=20\n",
    "        )\n",
    "        return pd.Series(adx_neg_series, name=\"adx_neg\")"
   ]
  },
  {
   "cell_type": "markdown",
   "metadata": {
    "id": "qDFMDyIteglX"
   },
   "source": [
    "Now we'll take a look at a somewhat arbitrary window of the sample data. The code to show the positive and negative ADX are there but commented out so the graph is legible."
   ]
  },
  {
   "cell_type": "code",
   "execution_count": null,
   "metadata": {
    "colab": {
     "base_uri": "https://localhost:8080/",
     "height": 362
    },
    "id": "hWbOjqz_i5Ev",
    "outputId": "b506ce81-ac5b-426e-8851-04b2ca909c2f"
   },
   "outputs": [],
   "source": [
    "fig, ax1 = plt.subplots()\n",
    "ax2 = ax1.twinx()\n",
    "ax1.plot(df[40000:41000].Close, \"g-\", label=\"Close\")\n",
    "# ax2.plot(df[40000:41000].trend_adx_pos, 'b-', label='ADX Pos')\n",
    "# ax2.plot(df[40000:41000].trend_adx_neg, 'r-', label='ADX Neg' )\n",
    "ax2.plot(df[40000:41000].trend_adx, \"k-\", label=\"ADX\")\n",
    "\n",
    "ax1.set_ylabel(\"Price\", color=\"g\")\n",
    "ax2.set_ylabel(\"ADX\", color=\"b\")\n",
    "\n",
    "plt.title(\"ADX and Price\", color=\"k\")\n",
    "plt.legend()\n",
    "plt.show()"
   ]
  },
  {
   "cell_type": "markdown",
   "metadata": {
    "id": "AXcapKP2gxnR"
   },
   "source": [
    "Let's see if the guidelines from the \"Technical Analysis\" text suggest a winning strategy here: <br>\n",
    "\"Generally, ADX readings below 20 indicate trend weakness, and readings above 40 indicate trend strength. An extremely strong trend is indicated by readings above 50.\" <br>\n",
    "As a simplistic assessment of this indicator, take a minute to visually inspect the graph and note whether buying or selling (depending on the direction of the trend at the time) appears to be a profitable strategy. Where does the black ADX line cross, say, 50 (on the right-hand side y-axis) just before a steep increase or decrease in the price (the green line)? Certainly, a strategy that involved buying the stock given the peak ADX (about 75) just after 46200 would have performed well if it was held until ADX declined again to 25 (at about 46250). Similarly, the next time that ADX surpassed 50 (at around 46480) would have been a good time to buy, and when ADX got as low as 25, that would have been a good time to sell. This visual thought experiment is far from scientific, but it should give you a sense for how a trend indicator can be used.\n"
   ]
  },
  {
   "cell_type": "markdown",
   "metadata": {
    "id": "9cS0q6_mmLAA"
   },
   "source": [
    "## 3. Moving Average Convergence/Divergence"
   ]
  },
  {
   "cell_type": "markdown",
   "metadata": {
    "id": "N2JcmrH0mPLr"
   },
   "source": [
    "As you study the required reading about Moving Average Convergence/Divergence (MACD) in \"Technical Analysis\" (104-108), ensure you understand how to compute and interpret it. <br>\n",
    "Again, the code from the TA library for the MACD class is provided below for your reference. \n",
    "\n"
   ]
  },
  {
   "cell_type": "code",
   "execution_count": null,
   "metadata": {
    "id": "iULPGmZSssCi"
   },
   "outputs": [],
   "source": [
    "class MACD(IndicatorMixin):\n",
    "    \"\"\"Moving Average Convergence Divergence (MACD)\n",
    "    Is a trend-following momentum indicator that shows the relationship between\n",
    "    two moving averages of prices.\n",
    "    Args:\n",
    "        close(pandas.Series): dataset 'Close' column.\n",
    "        window_fast(int): n period short-term.\n",
    "        window_slow(int): n period long-term.\n",
    "        window_sign(int): n period to signal.\n",
    "        fillna(bool): if True, fill nan values.\n",
    "    \"\"\"\n",
    "\n",
    "    def __init__(\n",
    "        self,\n",
    "        close: pd.Series,\n",
    "        window_slow: int = 26,\n",
    "        window_fast: int = 12,\n",
    "        window_sign: int = 9,\n",
    "        fillna: bool = False,\n",
    "    ):\n",
    "        self._close = close\n",
    "        self._window_slow = window_slow\n",
    "        self._window_fast = window_fast\n",
    "        self._window_sign = window_sign\n",
    "        self._fillna = fillna\n",
    "        self._run()\n",
    "\n",
    "    def _run(self):\n",
    "        self._emafast = _ema(self._close, self._window_fast, self._fillna)\n",
    "        self._emaslow = _ema(self._close, self._window_slow, self._fillna)\n",
    "        self._macd = self._emafast - self._emaslow\n",
    "        self._macd_signal = _ema(self._macd, self._window_sign, self._fillna)\n",
    "        self._macd_diff = self._macd - self._macd_signal\n",
    "\n",
    "    def macd(self) -> pd.Series:\n",
    "        \"\"\"MACD Line\n",
    "        Returns:\n",
    "            pandas.Series: New feature generated.\n",
    "        \"\"\"\n",
    "        macd_series = self._check_fillna(self._macd, value=0)\n",
    "        return pd.Series(\n",
    "            macd_series, name=f\"MACD_{self._window_fast}_{self._window_slow}\"\n",
    "        )\n",
    "\n",
    "    def macd_signal(self) -> pd.Series:\n",
    "        \"\"\"Signal Line\n",
    "        Returns:\n",
    "            pandas.Series: New feature generated.\n",
    "        \"\"\"\n",
    "\n",
    "        macd_signal_series = self._check_fillna(self._macd_signal, value=0)\n",
    "        return pd.Series(\n",
    "            macd_signal_series,\n",
    "            name=f\"MACD_sign_{self._window_fast}_{self._window_slow}\",\n",
    "        )\n",
    "\n",
    "    def macd_diff(self) -> pd.Series:\n",
    "        \"\"\"MACD Histogram\n",
    "        Returns:\n",
    "            pandas.Series: New feature generated.\n",
    "        \"\"\"\n",
    "        macd_diff_series = self._check_fillna(self._macd_diff, value=0)\n",
    "        return pd.Series(\n",
    "            macd_diff_series, name=f\"MACD_diff_{self._window_fast}_{self._window_slow}\"\n",
    "        )"
   ]
  },
  {
   "cell_type": "code",
   "execution_count": null,
   "metadata": {
    "colab": {
     "base_uri": "https://localhost:8080/",
     "height": 362
    },
    "id": "MzEZP-OcZkTS",
    "outputId": "558dabed-96f0-44a9-b6f5-929461e7c842"
   },
   "outputs": [],
   "source": [
    "fig, ax1 = plt.subplots()\n",
    "ax2 = ax1.twinx()\n",
    "ax1.plot(df[40640:42000].Close, \"g-\", label=\"Close\")\n",
    "# ax2.plot(df[40640:42000].trend_macd, 'b-', label='MACD')\n",
    "# ax2.plot(df[40640:42000].trend_macd_signal, 'r-', label='MACD Signal' )\n",
    "ax2.plot(df[40640:42000].trend_macd_diff, \"k-\", label=\"MACD Difference\")\n",
    "\n",
    "ax1.set_ylabel(\"Price\", color=\"g\")\n",
    "ax2.set_ylabel(\"MACD Levels\", color=\"b\")\n",
    "\n",
    "ax2.set_ylim(-20, 20)\n",
    "ax2.axhline(0)\n",
    "\n",
    "plt.title(\"Price + MACD, MACD Signal and MACD Difference\", color=\"k\")\n",
    "plt.legend()\n",
    "plt.show()"
   ]
  },
  {
   "cell_type": "markdown",
   "metadata": {
    "id": "611tMyCEVrSi"
   },
   "source": [
    "\n",
    "\n",
    "As you read through the code above, make sure you understand how the code works and how to use the built-in functions. For example, [see this required reading to ensure you are familiar with the built-in function \"enumerate.\"](https://www.w3resource.com/python/built-in-function/enumerate.php)\n",
    "\n"
   ]
  },
  {
   "cell_type": "markdown",
   "metadata": {
    "id": "SlZqBOuIPqWu"
   },
   "source": [
    "## 4. Other Trend and Momentum Indicators"
   ]
  },
  {
   "cell_type": "markdown",
   "metadata": {
    "id": "6PlN669mPvn3"
   },
   "source": [
    "\n",
    "[Watch this required reading video about parabolic SAR (which we discussed in passing in Financial Markets)](https://www.youtube.com/watch?v=kFTcvDsU1ik)\n",
    "\n",
    "[Watch this required reading video about how all three of these trend indicators (ADX, MACD, and parabolic SAR) can be used together](https://www.youtube.com/watch?v=hCo9ax0W2Bw)\n",
    "\n",
    "[Watch this required reading video about relative strength index (RSI)](https://www.youtube.com/watch?v=01spTWPsRNY)\n",
    "\n",
    "[Watch this required reading video about the stochastic oscillator](https://www.youtube.com/watch?v=bb9ms3fUK7k)"
   ]
  },
  {
   "cell_type": "markdown",
   "metadata": {
    "id": "dEWEw20WjClt"
   },
   "source": [
    "## 5. Conclusion\n",
    "\n",
    "We just used some interesting functions to calculate different metrics that might contain information about when to buy or sell a security. These indicators were based exclusively on current and previous prices--without any other information about the stock or the company. In the next lesson, we do take into account data that is specific to the companies we are investigating. This is generally financial data that is available from the financial statements, in addition to the current stock price. That is, we are moving from technical analysis to fundamental analysis."
   ]
  },
  {
   "cell_type": "markdown",
   "metadata": {
    "id": "6gApAEXs5AlZ"
   },
   "source": [
    "**References**\n",
    "\n",
    "* eVidhya. \"ADX MACD Parabolic SAR strategy | Forex strategies.\" https://www.youtube.com/watch?v=hCo9ax0W2Bw\n",
    "\n",
    "* ForexBoat. \"Stochastic Oscillator Settings & Trading Strategy in Forex.\" https://www.youtube.com/watch?v=bb9ms3fUK7k\n",
    "\n",
    "* ForexBoat. \"Parabolic SAR Indicator Formula and Strategy.\" https://www.youtube.com/watch?v=kFTcvDsU1ik\n",
    "\n",
    "* Padial, Darío López. \"Technical Analysis Library in Python.\" *GitHub*. https://github.com/bukosabino/ta\n",
    "\n",
    "* Stas Serfes. \"How to Use the RSI Indicator on ThinkOrSwim (Relative Strength Index).\" https://www.youtube.com/watch?v=01spTWPsRNY\n",
    "\n",
    "* *Technical Analysis*, PDF book, 2011, Creative Commons Attribution-Share, available from: https://www.mrao.cam.ac.uk/~mph/Technical_Analysis.pdf\n",
    "\n",
    "* W3resource. \"Python: enumerate() function\" https://www.w3resource.com/python/built-in-function/enumerate.php"
   ]
  },
  {
   "cell_type": "markdown",
   "metadata": {},
   "source": [
    "---\n",
    "Copyright © 2022 WorldQuant University. This\n",
    "content is licensed solely for personal use. Redistribution or\n",
    "publication of this material is strictly prohibited.\n"
   ]
  }
 ],
 "metadata": {
  "colab": {
   "name": "Financial Data_Module 6_Lesson 3.ipynb",
   "provenance": []
  },
  "kernelspec": {
   "display_name": "Python 3 (ipykernel)",
   "language": "python",
   "name": "python3"
  },
  "language_info": {
   "codemirror_mode": {
    "name": "ipython",
    "version": 3
   },
   "file_extension": ".py",
   "mimetype": "text/x-python",
   "name": "python",
   "nbconvert_exporter": "python",
   "pygments_lexer": "ipython3",
   "version": "3.9.6"
  }
 },
 "nbformat": 4,
 "nbformat_minor": 4
}
