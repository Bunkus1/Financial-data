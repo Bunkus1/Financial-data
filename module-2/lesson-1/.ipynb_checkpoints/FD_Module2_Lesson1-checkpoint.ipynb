{
 "cells": [
  {
   "cell_type": "markdown",
   "metadata": {},
   "source": [
    "\n",
    "## FINANCIAL DATA\n",
    "MODULE 2 | LESSON 1\n",
    "\n",
    "\n",
    "---\n"
   ]
  },
  {
   "cell_type": "markdown",
   "metadata": {},
   "source": [
    "# ANALYZING PRICES OF STOCKS, BITCOIN, AND BONDS"
   ]
  },
  {
   "cell_type": "markdown",
   "metadata": {},
   "source": [
    "|  |  |\n",
    "|:---|:---|\n",
    "|**Reading Time** |  30 minutes |\n",
    "|**Prior Knowledge** | Basic Python, Algebra|\n",
    "|**Keywords** | Stock, Bitcoin, Bond Prices, ETFs, Simple Returns, Analyzing and Charting Data in Python |\n",
    "\n",
    "---\n"
   ]
  },
  {
   "cell_type": "markdown",
   "metadata": {},
   "source": [
    "*For the first lesson of this module, we will recap some of the concepts you learned during the Financial Markets class. We will examine stocks, bonds, and cryptocurrency prices during this lesson. Finally, we will also demonstrate how to pull price data with Python and do some basic price analysis of equities, Bitcoin, and bond data.*"
   ]
  },
  {
   "cell_type": "code",
   "execution_count": 2,
   "metadata": {},
   "outputs": [],
   "source": [
    "import datetime\n",
    "\n",
    "import numpy as np\n",
    "import pandas_datareader.data as web #remote data access\n",
    "from IPython.display import VimeoVideo"
   ]
  },
  {
   "cell_type": "markdown",
   "metadata": {
    "tags": []
   },
   "source": [
    "## 1. Pull Equities Data from Amazon and Ford, along with Bitcoin Data\n",
    "The following code pulls the last five years of equity price data from Ford and Amazon along with the daily Bitcoin prices over the same time period. The reason we chose Ford and Amazon here is to give examples from different sectors. While Amazon has been around for a while now, it still represents a newer, popular tech stock while Ford is very much a part of the old guard, trading publicly since 1956.\n"
   ]
  },
  {
   "cell_type": "code",
   "execution_count": 3,
   "metadata": {},
   "outputs": [],
   "source": [
    "# start = datetime.date.today() - datetime.timedelta(days=5*365)\n",
    "# end = datetime.date.today()\n",
    "start = datetime.date(2016, 11, 16)\n",
    "end = datetime.date(2021, 11, 18)\n",
    "df = web.DataReader([\"AMZN\", \"F\", \"BTC-USD\"], \"yahoo\", start, end)[\"Adj Close\"]"
   ]
  },
  {
   "cell_type": "markdown",
   "metadata": {},
   "source": [
    "### 1.1 Taking a look at the data\n",
    "Unless you're extremely familiar with the dataset you're working with, it's almost always a good idea to take a look at the first few rows of the data to get an idea on how it looks. We can accomplish this using the *head()* method. You can pass a numerical parameter in this (for example, 10) and it will return the top 10 rows of the data set. By default, it returns the first five."
   ]
  },
  {
   "cell_type": "code",
   "execution_count": 4,
   "metadata": {},
   "outputs": [
    {
     "data": {
      "text/html": [
       "<div>\n",
       "<style scoped>\n",
       "    .dataframe tbody tr th:only-of-type {\n",
       "        vertical-align: middle;\n",
       "    }\n",
       "\n",
       "    .dataframe tbody tr th {\n",
       "        vertical-align: top;\n",
       "    }\n",
       "\n",
       "    .dataframe thead th {\n",
       "        text-align: right;\n",
       "    }\n",
       "</style>\n",
       "<table border=\"1\" class=\"dataframe\">\n",
       "  <thead>\n",
       "    <tr style=\"text-align: right;\">\n",
       "      <th>Symbols</th>\n",
       "      <th>AMZN</th>\n",
       "      <th>F</th>\n",
       "      <th>BTC-USD</th>\n",
       "    </tr>\n",
       "    <tr>\n",
       "      <th>Date</th>\n",
       "      <th></th>\n",
       "      <th></th>\n",
       "      <th></th>\n",
       "    </tr>\n",
       "  </thead>\n",
       "  <tbody>\n",
       "    <tr>\n",
       "      <th>2016-11-16</th>\n",
       "      <td>37.324501</td>\n",
       "      <td>9.612692</td>\n",
       "      <td>744.197998</td>\n",
       "    </tr>\n",
       "    <tr>\n",
       "      <th>2016-11-17</th>\n",
       "      <td>37.820000</td>\n",
       "      <td>9.508552</td>\n",
       "      <td>740.976990</td>\n",
       "    </tr>\n",
       "    <tr>\n",
       "      <th>2016-11-18</th>\n",
       "      <td>38.007999</td>\n",
       "      <td>9.420437</td>\n",
       "      <td>751.585022</td>\n",
       "    </tr>\n",
       "    <tr>\n",
       "      <th>2016-11-19</th>\n",
       "      <td>NaN</td>\n",
       "      <td>NaN</td>\n",
       "      <td>751.616028</td>\n",
       "    </tr>\n",
       "    <tr>\n",
       "      <th>2016-11-20</th>\n",
       "      <td>NaN</td>\n",
       "      <td>NaN</td>\n",
       "      <td>731.026001</td>\n",
       "    </tr>\n",
       "  </tbody>\n",
       "</table>\n",
       "</div>"
      ],
      "text/plain": [
       "Symbols          AMZN         F     BTC-USD\n",
       "Date                                       \n",
       "2016-11-16  37.324501  9.612692  744.197998\n",
       "2016-11-17  37.820000  9.508552  740.976990\n",
       "2016-11-18  38.007999  9.420437  751.585022\n",
       "2016-11-19        NaN       NaN  751.616028\n",
       "2016-11-20        NaN       NaN  731.026001"
      ]
     },
     "execution_count": 4,
     "metadata": {},
     "output_type": "execute_result"
    }
   ],
   "source": [
    "df.head()"
   ]
  },
  {
   "cell_type": "markdown",
   "metadata": {},
   "source": [
    "Right off the bat, we can see in Figure 1 that it was a smart idea to take a look at this data first. Can you guess why we have null values here?\n",
    "\n",
    "The answer is simple—equities only trade Monday through Friday, which means there’s no price data available on the weekends. Bitcoin does not have this same characteristic as it trades seven days a week, which is why 2016-11-19 and 2016-11-20 are populated in this case. "
   ]
  },
  {
   "cell_type": "markdown",
   "metadata": {},
   "source": [
    "### 1.2 Digging a little deeper into the data\n",
    "We can use the pandas *describe()* method to show summary stats of our data. We can see that Bitcoin has a much higher number of observations (count) than our two stocks, which, as just discussed, is because of stocks not being traded on weekends. The other summary stats are relatively basic, like mean and standard deviation along with showing minimum, maximum, and a few quantiles. This might be something you are interested in, but it is hard to compare these investments with this data alone since each asset had a different starting price five years ago. For a better comparison, we will have to examine returns in more depth in an upcoming lesson."
   ]
  },
  {
   "cell_type": "code",
   "execution_count": 23,
   "metadata": {},
   "outputs": [
    {
     "data": {
      "text/html": [
       "<div>\n",
       "<style scoped>\n",
       "    .dataframe tbody tr th:only-of-type {\n",
       "        vertical-align: middle;\n",
       "    }\n",
       "\n",
       "    .dataframe tbody tr th {\n",
       "        vertical-align: top;\n",
       "    }\n",
       "\n",
       "    .dataframe thead th {\n",
       "        text-align: right;\n",
       "    }\n",
       "</style>\n",
       "<table border=\"1\" class=\"dataframe\">\n",
       "  <thead>\n",
       "    <tr style=\"text-align: right;\">\n",
       "      <th>Symbols</th>\n",
       "      <th>AMZN</th>\n",
       "      <th>F</th>\n",
       "      <th>BTC-USD</th>\n",
       "    </tr>\n",
       "  </thead>\n",
       "  <tbody>\n",
       "    <tr>\n",
       "      <th>count</th>\n",
       "      <td>1261.000000</td>\n",
       "      <td>1261.000000</td>\n",
       "      <td>1830.000000</td>\n",
       "    </tr>\n",
       "    <tr>\n",
       "      <th>mean</th>\n",
       "      <td>101.126327</td>\n",
       "      <td>9.478732</td>\n",
       "      <td>14312.445825</td>\n",
       "    </tr>\n",
       "    <tr>\n",
       "      <th>std</th>\n",
       "      <td>43.754087</td>\n",
       "      <td>2.350869</td>\n",
       "      <td>16194.644300</td>\n",
       "    </tr>\n",
       "    <tr>\n",
       "      <th>min</th>\n",
       "      <td>37.016998</td>\n",
       "      <td>3.943265</td>\n",
       "      <td>731.026001</td>\n",
       "    </tr>\n",
       "    <tr>\n",
       "      <th>25%</th>\n",
       "      <td>71.352501</td>\n",
       "      <td>8.315459</td>\n",
       "      <td>4633.707520</td>\n",
       "    </tr>\n",
       "    <tr>\n",
       "      <th>50%</th>\n",
       "      <td>90.648499</td>\n",
       "      <td>9.189799</td>\n",
       "      <td>8273.409668</td>\n",
       "    </tr>\n",
       "    <tr>\n",
       "      <th>75%</th>\n",
       "      <td>153.904999</td>\n",
       "      <td>10.207150</td>\n",
       "      <td>11801.969238</td>\n",
       "    </tr>\n",
       "    <tr>\n",
       "      <th>max</th>\n",
       "      <td>186.570496</td>\n",
       "      <td>19.814661</td>\n",
       "      <td>67566.828125</td>\n",
       "    </tr>\n",
       "  </tbody>\n",
       "</table>\n",
       "</div>"
      ],
      "text/plain": [
       "Symbols         AMZN            F       BTC-USD\n",
       "count    1261.000000  1261.000000   1830.000000\n",
       "mean      101.126327     9.478732  14312.445825\n",
       "std        43.754087     2.350869  16194.644300\n",
       "min        37.016998     3.943265    731.026001\n",
       "25%        71.352501     8.315459   4633.707520\n",
       "50%        90.648499     9.189799   8273.409668\n",
       "75%       153.904999    10.207150  11801.969238\n",
       "max       186.570496    19.814661  67566.828125"
      ]
     },
     "execution_count": 23,
     "metadata": {},
     "output_type": "execute_result"
    }
   ],
   "source": [
    "df.describe()"
   ]
  },
  {
   "cell_type": "markdown",
   "metadata": {},
   "source": [
    "In the following video, we will recap what's been done so far and show how to pull price data using Python's built-in libraries.\n"
   ]
  },
  {
   "cell_type": "code",
   "execution_count": 24,
   "metadata": {},
   "outputs": [
    {
     "data": {
      "text/html": [
       "\n",
       "        <iframe\n",
       "            width=\"600\"\n",
       "            height=\"300\"\n",
       "            src=\"https://player.vimeo.com/video/706651332?h=84a123c14c\"\n",
       "            frameborder=\"0\"\n",
       "            allowfullscreen\n",
       "        ></iframe>\n",
       "        "
      ],
      "text/plain": [
       "<IPython.lib.display.VimeoVideo at 0x7f599f6d49a0>"
      ]
     },
     "execution_count": 24,
     "metadata": {},
     "output_type": "execute_result"
    }
   ],
   "source": [
    "VimeoVideo(\"706651332\", h=\"84a123c14c\", width=600)"
   ]
  },
  {
   "cell_type": "markdown",
   "metadata": {},
   "source": [
    "##### [Access video transcript here](https://drive.google.com/file/d/1c6-7UwtiIlRk8kjvp5_76gsTgCdoFUG7/view?usp=sharing)"
   ]
  },
  {
   "cell_type": "markdown",
   "metadata": {},
   "source": [
    "### 1.3 Charting prices over 2020\n",
    "If we ever want to get a quick plot of the DataFrame's data, we can use the aptly named plot() method. As shown below to chart the 2020 returns of these 3 assets"
   ]
  },
  {
   "cell_type": "code",
   "execution_count": 22,
   "metadata": {},
   "outputs": [
    {
     "data": {
      "image/png": "[encoded data removed]",
      "text/plain": [
       "<Figure size 432x288 with 1 Axes>"
      ]
     },
     "metadata": {
      "needs_background": "light"
     },
     "output_type": "display_data"
    }
   ],
   "source": [
    "df[\"2020-01-01\":\"2020-12-31\"].plot();"
   ]
  },
  {
   "cell_type": "markdown",
   "metadata": {},
   "source": [
    "The above code and chart demonstrate how we can easily pass in a date range to the plot method in order to chart a subset of the data. If no date range is supplied, by default, the plot will encapsulate the entire data set. Once again, the following chart illustrates why using price alone is not ideal for comparing two assets. The scale of Bitcoin’s price versus a low-price stock like Ford makes it very hard to compare the two when deciding which stock is better to invest in.\n",
    "\n"
   ]
  },
  {
   "cell_type": "markdown",
   "metadata": {},
   "source": [
    "## 2. Calculating Return on Investment\n",
    "If we invested \\\\$1,000 into each of these assets five years ago, how much money would we have today? To answer this question, we first need to determine how many shares of each stock we could buy with \\\\$1,000 at the start of our date range. For the purposes of this exercise, we will use 11/21/2016 as our starting point because it’s the first weekday of our data set. \n",
    "\n",
    "From our data above, we can see the starting prices of AMZN, F, and Bitcoin were \\\\$780, \\\\$9.604, and \\\\$739.248 respectively. Now, we need to divide \\\\$1,000 by each of these numbers to see how many shares we will have:\n",
    "\n",
    "AMZN = 1000/780 = 1.282 shares\n",
    "F = 1000/9.604 = 104.123 shares\n",
    "Bitcoin = 1000/739.248 = 1.353 shares\n",
    "It’s a relatively recent phenomenon that retail brokers offer fractional shares, but this tends to be the case nowadays for most commonly used brokers. For this exercise, we will assume we can have fractional shares.\n",
    "\n",
    "Now, to determine how much money we would have today, we look at the most recent date in our data set (11/18/2021), get the prices of each asset, and multiply our number of shares by this number. We can find this by looking at the bottom of our data set in Figure 4 using the *tail()* method:"
   ]
  },
  {
   "cell_type": "code",
   "execution_count": 25,
   "metadata": {},
   "outputs": [
    {
     "data": {
      "text/html": [
       "<div>\n",
       "<style scoped>\n",
       "    .dataframe tbody tr th:only-of-type {\n",
       "        vertical-align: middle;\n",
       "    }\n",
       "\n",
       "    .dataframe tbody tr th {\n",
       "        vertical-align: top;\n",
       "    }\n",
       "\n",
       "    .dataframe thead th {\n",
       "        text-align: right;\n",
       "    }\n",
       "</style>\n",
       "<table border=\"1\" class=\"dataframe\">\n",
       "  <thead>\n",
       "    <tr style=\"text-align: right;\">\n",
       "      <th>Symbols</th>\n",
       "      <th>AMZN</th>\n",
       "      <th>F</th>\n",
       "      <th>BTC-USD</th>\n",
       "    </tr>\n",
       "    <tr>\n",
       "      <th>Date</th>\n",
       "      <th></th>\n",
       "      <th></th>\n",
       "      <th></th>\n",
       "    </tr>\n",
       "  </thead>\n",
       "  <tbody>\n",
       "    <tr>\n",
       "      <th>2021-11-17</th>\n",
       "      <td>177.450</td>\n",
       "      <td>19.628</td>\n",
       "      <td>60368.012</td>\n",
       "    </tr>\n",
       "    <tr>\n",
       "      <th>2021-11-18</th>\n",
       "      <td>184.803</td>\n",
       "      <td>19.331</td>\n",
       "      <td>56942.137</td>\n",
       "    </tr>\n",
       "    <tr>\n",
       "      <th>2021-11-19</th>\n",
       "      <td>NaN</td>\n",
       "      <td>NaN</td>\n",
       "      <td>58119.578</td>\n",
       "    </tr>\n",
       "  </tbody>\n",
       "</table>\n",
       "</div>"
      ],
      "text/plain": [
       "Symbols        AMZN       F    BTC-USD\n",
       "Date                                  \n",
       "2021-11-17  177.450  19.628  60368.012\n",
       "2021-11-18  184.803  19.331  56942.137\n",
       "2021-11-19      NaN     NaN  58119.578"
      ]
     },
     "execution_count": 25,
     "metadata": {},
     "output_type": "execute_result"
    }
   ],
   "source": [
    "np.round(df.tail(3), 3)"
   ]
  },
  {
   "cell_type": "markdown",
   "metadata": {},
   "source": [
    "From here, we can get our final asset values:\n",
    "\n",
    "- AMZN = 1.282 * 184.803 = \\\\$236.92\n",
    "- F = 104.123 * 19.331 = \\\\$2,012.80\n",
    "- Bitcoin = 1.353 * 56942.14 = \\\\$77,042.72\n",
    "\n",
    "Wow. All three of these assets have at least doubled the initial \\\\$1,000 that was invested. Bitcoin is clearly the standout asset in this case, turning \\\\$1,000 into a whopping \\$77,042.72. While Bitcoin clearly outperformed the other two assets over the last five years, past performance does not necessarily indicate future performance. \n",
    "\n",
    "These assets were relatively easy to compare here since we started with \\\\$1,000 in each. If we had started with different values, we would need to calculate the returns for an apples-to-apples comparison. In a future lesson, we will go over simple and log returns, but for the purpose of simplicity, we will use simple returns:\n",
    "\n",
    "Simple Returns Formula\n",
    "\n",
    "$R_{simple} = \\frac{p_1 - p_0}{p_0}$\n",
    "\n",
    "where\n",
    "\n",
    "$p_1 = \\textrm{final value}$\n",
    "$p_0 = \\textrm{initial value}$\n",
    "This will be easy in our case since \\$1,000 is the initial value in all three situations:\n",
    "\n",
    "- AMZN = (236.92 - 1000)/1000 = -0.7631 = -76.31%\n",
    "- F = (2012.80 - 1000)/1000 = 1.0128 = 101.28%\n",
    "- Bitcoin = (77042.72 - 1000)/1000 = 76.04272 = 7,604.27%\n",
    "\n",
    "Bitcoin’s return here is off the charts compared to the other two assets. Bitcoin is a relatively new—some would even say riskier—asset than the other two. Higher risk equals higher potential for rewards, and thus far, investing in Bitcoin has paid off handsomely. "
   ]
  },
  {
   "cell_type": "markdown",
   "metadata": {},
   "source": [
    "## 3. Comparing Equities and Bitcoin to Bonds\n",
    "Let's introduce one more asset class here—bonds. As you recall from the Financial Markets class, bonds not only have the return of principal but they also return a coupon, usually annually or quarterly. To simplify things, we will use an exchange traded fund (ETF), which tracks bonds. The ETF is the Vanguard Long-Term Bond Index Fund ETF or BLV for short. This fund intends to track the performance of the Bloomberg Barclays U.S. Long Government/Credit Float Adjusted Index. This index includes investment grade corporate, U.S. government, and international dollar-denominated bonds that have maturities greater than 10 years. At least 80% of the fund's total assets will be invested in bonds held in the index mentioned above (Vanguard).\n",
    "\n",
    "The following code snippet will pull BLV data and join it with our current DataFrame, df"
   ]
  },
  {
   "cell_type": "code",
   "execution_count": 31,
   "metadata": {},
   "outputs": [],
   "source": [
    "df = df.join(web.DataReader([\"BLV\"], \"yahoo\", start, end)[\"Adj Close\"])"
   ]
  },
  {
   "cell_type": "code",
   "execution_count": 32,
   "metadata": {},
   "outputs": [
    {
     "data": {
      "text/html": [
       "<div>\n",
       "<style scoped>\n",
       "    .dataframe tbody tr th:only-of-type {\n",
       "        vertical-align: middle;\n",
       "    }\n",
       "\n",
       "    .dataframe tbody tr th {\n",
       "        vertical-align: top;\n",
       "    }\n",
       "\n",
       "    .dataframe thead th {\n",
       "        text-align: right;\n",
       "    }\n",
       "</style>\n",
       "<table border=\"1\" class=\"dataframe\">\n",
       "  <thead>\n",
       "    <tr style=\"text-align: right;\">\n",
       "      <th>Symbols</th>\n",
       "      <th>AMZN</th>\n",
       "      <th>F</th>\n",
       "      <th>BTC-USD</th>\n",
       "      <th>BLV</th>\n",
       "    </tr>\n",
       "    <tr>\n",
       "      <th>Date</th>\n",
       "      <th></th>\n",
       "      <th></th>\n",
       "      <th></th>\n",
       "      <th></th>\n",
       "    </tr>\n",
       "  </thead>\n",
       "  <tbody>\n",
       "    <tr>\n",
       "      <th>2021-11-15</th>\n",
       "      <td>177.283997</td>\n",
       "      <td>19.529490</td>\n",
       "      <td>63557.871094</td>\n",
       "      <td>100.102310</td>\n",
       "    </tr>\n",
       "    <tr>\n",
       "      <th>2021-11-16</th>\n",
       "      <td>177.035004</td>\n",
       "      <td>19.460655</td>\n",
       "      <td>60161.246094</td>\n",
       "      <td>99.837990</td>\n",
       "    </tr>\n",
       "    <tr>\n",
       "      <th>2021-11-17</th>\n",
       "      <td>177.449997</td>\n",
       "      <td>19.627823</td>\n",
       "      <td>60368.011719</td>\n",
       "      <td>100.513443</td>\n",
       "    </tr>\n",
       "    <tr>\n",
       "      <th>2021-11-18</th>\n",
       "      <td>184.802994</td>\n",
       "      <td>19.331329</td>\n",
       "      <td>56942.136719</td>\n",
       "      <td>100.846252</td>\n",
       "    </tr>\n",
       "    <tr>\n",
       "      <th>2021-11-19</th>\n",
       "      <td>NaN</td>\n",
       "      <td>NaN</td>\n",
       "      <td>58119.578125</td>\n",
       "      <td>NaN</td>\n",
       "    </tr>\n",
       "  </tbody>\n",
       "</table>\n",
       "</div>"
      ],
      "text/plain": [
       "Symbols           AMZN          F       BTC-USD         BLV\n",
       "Date                                                       \n",
       "2021-11-15  177.283997  19.529490  63557.871094  100.102310\n",
       "2021-11-16  177.035004  19.460655  60161.246094   99.837990\n",
       "2021-11-17  177.449997  19.627823  60368.011719  100.513443\n",
       "2021-11-18  184.802994  19.331329  56942.136719  100.846252\n",
       "2021-11-19         NaN        NaN  58119.578125         NaN"
      ]
     },
     "execution_count": 32,
     "metadata": {},
     "output_type": "execute_result"
    }
   ],
   "source": [
    "df.tail()"
   ]
  },
  {
   "cell_type": "markdown",
   "metadata": {},
   "source": [
    "### 3.1 Calculate log returns, remove unused columns, and drop nulls\n",
    "\n",
    "We need to remove the nulls for the weekend dates"
   ]
  },
  {
   "cell_type": "code",
   "execution_count": 34,
   "metadata": {},
   "outputs": [],
   "source": [
    "df = df.dropna()\n",
    "df[\"Amazon\"] = np.log(df.AMZN) - np.log(df.AMZN.shift(1))\n",
    "df[\"Ford\"] = np.log(df.F) - np.log(df.F.shift(1))\n",
    "df[\"Bitcoin\"] = np.log(df[\"BTC-USD\"]) - np.log(df[\"BTC-USD\"].shift(1))\n",
    "df = df.iloc[1:, 3:]"
   ]
  },
  {
   "cell_type": "code",
   "execution_count": 35,
   "metadata": {},
   "outputs": [
    {
     "data": {
      "text/html": [
       "<div>\n",
       "<style scoped>\n",
       "    .dataframe tbody tr th:only-of-type {\n",
       "        vertical-align: middle;\n",
       "    }\n",
       "\n",
       "    .dataframe tbody tr th {\n",
       "        vertical-align: top;\n",
       "    }\n",
       "\n",
       "    .dataframe thead th {\n",
       "        text-align: right;\n",
       "    }\n",
       "</style>\n",
       "<table border=\"1\" class=\"dataframe\">\n",
       "  <thead>\n",
       "    <tr style=\"text-align: right;\">\n",
       "      <th>Symbols</th>\n",
       "      <th>BLV</th>\n",
       "      <th>Amazon</th>\n",
       "      <th>Ford</th>\n",
       "      <th>Bitcoin</th>\n",
       "    </tr>\n",
       "    <tr>\n",
       "      <th>Date</th>\n",
       "      <th></th>\n",
       "      <th></th>\n",
       "      <th></th>\n",
       "      <th></th>\n",
       "    </tr>\n",
       "  </thead>\n",
       "  <tbody>\n",
       "    <tr>\n",
       "      <th>2016-11-17</th>\n",
       "      <td>71.110321</td>\n",
       "      <td>0.013188</td>\n",
       "      <td>-0.010893</td>\n",
       "      <td>-0.004338</td>\n",
       "    </tr>\n",
       "    <tr>\n",
       "      <th>2016-11-18</th>\n",
       "      <td>70.720924</td>\n",
       "      <td>0.004959</td>\n",
       "      <td>-0.009310</td>\n",
       "      <td>0.014215</td>\n",
       "    </tr>\n",
       "    <tr>\n",
       "      <th>2016-11-21</th>\n",
       "      <td>70.911713</td>\n",
       "      <td>0.025765</td>\n",
       "      <td>0.002548</td>\n",
       "      <td>-0.016551</td>\n",
       "    </tr>\n",
       "    <tr>\n",
       "      <th>2016-11-22</th>\n",
       "      <td>70.943466</td>\n",
       "      <td>0.006810</td>\n",
       "      <td>0.008446</td>\n",
       "      <td>0.016234</td>\n",
       "    </tr>\n",
       "    <tr>\n",
       "      <th>2016-11-23</th>\n",
       "      <td>70.689125</td>\n",
       "      <td>-0.006656</td>\n",
       "      <td>0.000841</td>\n",
       "      <td>-0.009028</td>\n",
       "    </tr>\n",
       "  </tbody>\n",
       "</table>\n",
       "</div>"
      ],
      "text/plain": [
       "Symbols           BLV    Amazon      Ford   Bitcoin\n",
       "Date                                               \n",
       "2016-11-17  71.110321  0.013188 -0.010893 -0.004338\n",
       "2016-11-18  70.720924  0.004959 -0.009310  0.014215\n",
       "2016-11-21  70.911713  0.025765  0.002548 -0.016551\n",
       "2016-11-22  70.943466  0.006810  0.008446  0.016234\n",
       "2016-11-23  70.689125 -0.006656  0.000841 -0.009028"
      ]
     },
     "execution_count": 35,
     "metadata": {},
     "output_type": "execute_result"
    }
   ],
   "source": [
    "df.head()"
   ]
  },
  {
   "cell_type": "markdown",
   "metadata": {},
   "source": [
    "### 3.2 Show summary stats for the returns"
   ]
  },
  {
   "cell_type": "code",
   "execution_count": 36,
   "metadata": {},
   "outputs": [
    {
     "data": {
      "text/html": [
       "<div>\n",
       "<style scoped>\n",
       "    .dataframe tbody tr th:only-of-type {\n",
       "        vertical-align: middle;\n",
       "    }\n",
       "\n",
       "    .dataframe tbody tr th {\n",
       "        vertical-align: top;\n",
       "    }\n",
       "\n",
       "    .dataframe thead th {\n",
       "        text-align: right;\n",
       "    }\n",
       "</style>\n",
       "<table border=\"1\" class=\"dataframe\">\n",
       "  <thead>\n",
       "    <tr style=\"text-align: right;\">\n",
       "      <th>Symbols</th>\n",
       "      <th>BLV</th>\n",
       "      <th>Amazon</th>\n",
       "      <th>Ford</th>\n",
       "      <th>Bitcoin</th>\n",
       "    </tr>\n",
       "  </thead>\n",
       "  <tbody>\n",
       "    <tr>\n",
       "      <th>count</th>\n",
       "      <td>1260.000000</td>\n",
       "      <td>1260.000000</td>\n",
       "      <td>1260.000000</td>\n",
       "      <td>1260.000000</td>\n",
       "    </tr>\n",
       "    <tr>\n",
       "      <th>mean</th>\n",
       "      <td>86.213516</td>\n",
       "      <td>0.001270</td>\n",
       "      <td>0.000554</td>\n",
       "      <td>0.003442</td>\n",
       "    </tr>\n",
       "    <tr>\n",
       "      <th>std</th>\n",
       "      <td>11.807353</td>\n",
       "      <td>0.018430</td>\n",
       "      <td>0.022682</td>\n",
       "      <td>0.049623</td>\n",
       "    </tr>\n",
       "    <tr>\n",
       "      <th>min</th>\n",
       "      <td>69.827003</td>\n",
       "      <td>-0.082535</td>\n",
       "      <td>-0.116674</td>\n",
       "      <td>-0.464730</td>\n",
       "    </tr>\n",
       "    <tr>\n",
       "      <th>25%</th>\n",
       "      <td>75.399229</td>\n",
       "      <td>-0.007017</td>\n",
       "      <td>-0.009646</td>\n",
       "      <td>-0.016410</td>\n",
       "    </tr>\n",
       "    <tr>\n",
       "      <th>50%</th>\n",
       "      <td>81.098164</td>\n",
       "      <td>0.001525</td>\n",
       "      <td>0.000000</td>\n",
       "      <td>0.002848</td>\n",
       "    </tr>\n",
       "    <tr>\n",
       "      <th>75%</th>\n",
       "      <td>98.874371</td>\n",
       "      <td>0.010588</td>\n",
       "      <td>0.010146</td>\n",
       "      <td>0.025839</td>\n",
       "    </tr>\n",
       "    <tr>\n",
       "      <th>max</th>\n",
       "      <td>107.821144</td>\n",
       "      <td>0.124131</td>\n",
       "      <td>0.210596</td>\n",
       "      <td>0.225119</td>\n",
       "    </tr>\n",
       "  </tbody>\n",
       "</table>\n",
       "</div>"
      ],
      "text/plain": [
       "Symbols          BLV       Amazon         Ford      Bitcoin\n",
       "count    1260.000000  1260.000000  1260.000000  1260.000000\n",
       "mean       86.213516     0.001270     0.000554     0.003442\n",
       "std        11.807353     0.018430     0.022682     0.049623\n",
       "min        69.827003    -0.082535    -0.116674    -0.464730\n",
       "25%        75.399229    -0.007017    -0.009646    -0.016410\n",
       "50%        81.098164     0.001525     0.000000     0.002848\n",
       "75%        98.874371     0.010588     0.010146     0.025839\n",
       "max       107.821144     0.124131     0.210596     0.225119"
      ]
     },
     "execution_count": 36,
     "metadata": {},
     "output_type": "execute_result"
    }
   ],
   "source": [
    "df.describe()"
   ]
  },
  {
   "cell_type": "markdown",
   "metadata": {},
   "source": [
    "### 3.3 Converting Daily Returns to Annual"
   ]
  },
  {
   "cell_type": "code",
   "execution_count": 37,
   "metadata": {},
   "outputs": [
    {
     "data": {
      "text/html": [
       "<div>\n",
       "<style scoped>\n",
       "    .dataframe tbody tr th:only-of-type {\n",
       "        vertical-align: middle;\n",
       "    }\n",
       "\n",
       "    .dataframe tbody tr th {\n",
       "        vertical-align: top;\n",
       "    }\n",
       "\n",
       "    .dataframe thead th {\n",
       "        text-align: right;\n",
       "    }\n",
       "</style>\n",
       "<table border=\"1\" class=\"dataframe\">\n",
       "  <thead>\n",
       "    <tr style=\"text-align: right;\">\n",
       "      <th>Symbols</th>\n",
       "      <th>Bitcoin</th>\n",
       "      <th>Ford</th>\n",
       "    </tr>\n",
       "  </thead>\n",
       "  <tbody>\n",
       "    <tr>\n",
       "      <th>count</th>\n",
       "      <td>1260.000000</td>\n",
       "      <td>1260.000000</td>\n",
       "    </tr>\n",
       "    <tr>\n",
       "      <th>mean</th>\n",
       "      <td>0.003442</td>\n",
       "      <td>0.000554</td>\n",
       "    </tr>\n",
       "    <tr>\n",
       "      <th>std</th>\n",
       "      <td>0.049623</td>\n",
       "      <td>0.022682</td>\n",
       "    </tr>\n",
       "    <tr>\n",
       "      <th>min</th>\n",
       "      <td>-0.464730</td>\n",
       "      <td>-0.116674</td>\n",
       "    </tr>\n",
       "    <tr>\n",
       "      <th>25%</th>\n",
       "      <td>-0.016410</td>\n",
       "      <td>-0.009646</td>\n",
       "    </tr>\n",
       "    <tr>\n",
       "      <th>50%</th>\n",
       "      <td>0.002848</td>\n",
       "      <td>0.000000</td>\n",
       "    </tr>\n",
       "    <tr>\n",
       "      <th>75%</th>\n",
       "      <td>0.025839</td>\n",
       "      <td>0.010146</td>\n",
       "    </tr>\n",
       "    <tr>\n",
       "      <th>max</th>\n",
       "      <td>0.225119</td>\n",
       "      <td>0.210596</td>\n",
       "    </tr>\n",
       "  </tbody>\n",
       "</table>\n",
       "</div>"
      ],
      "text/plain": [
       "Symbols      Bitcoin         Ford\n",
       "count    1260.000000  1260.000000\n",
       "mean        0.003442     0.000554\n",
       "std         0.049623     0.022682\n",
       "min        -0.464730    -0.116674\n",
       "25%        -0.016410    -0.009646\n",
       "50%         0.002848     0.000000\n",
       "75%         0.025839     0.010146\n",
       "max         0.225119     0.210596"
      ]
     },
     "execution_count": 37,
     "metadata": {},
     "output_type": "execute_result"
    }
   ],
   "source": [
    "(df.describe()[[\"Bitcoin\", \"Ford\"]])"
   ]
  },
  {
   "cell_type": "code",
   "execution_count": 39,
   "metadata": {},
   "outputs": [
    {
     "data": {
      "text/plain": [
       "Symbols\n",
       "Bitcoin    250.550839\n",
       "Ford        22.425014\n",
       "dtype: float64"
      ]
     },
     "execution_count": 39,
     "metadata": {},
     "output_type": "execute_result"
    }
   ],
   "source": [
    "((df[[\"Bitcoin\", \"Ford\"]].mean() + 1).pow(365) - 1) * 100"
   ]
  },
  {
   "cell_type": "markdown",
   "metadata": {},
   "source": [
    "We can run the same analysis on BLV as we did on the above stocks to get the total simple return over a five-year period using a slightly different method. This time, we’ll calculate the simple return and then just multiply that number by 1+ `returnRate`. \n",
    "\n",
    "BLV 5 year return = (103.02-73.463)/103.02 = 0.2869 = 28.69%\n",
    "\n",
    "If we started with \\\\$1,000, after five years, we would’ve ended up with (1+0.2869) * 1000 = \\\\$1,286.90.\n",
    "\n",
    "While this is still a positive return, it’s a much lower return than what we would’ve gotten with Ford, Amazon, or Bitcoin. This is to be expected for the most part as bonds return a quarterly/annual coupon along with returning the principal. For this reason, bonds (especially government bonds) are considered safer assets than stocks or cryptocurrencies. One major thing to consider is if a company goes bankrupt, you may not get your principal back in a bond. That being said, the same goes for stocks. Bondholders also have less credit risk than stockholders: If you own a bond in Ford and your friend owns Ford stock, but Ford declares bankruptcy tomorrow, the bondholder will be paid off first in the bankruptcy proceedings and the equity owner will only get what’s left over, making bonds a safer investment. \n",
    "\n",
    "The downside to this is that it's hard to achieve the level of total returns that a stock or cryptocurrency can achieve with a bond. There is a risk-reward tradeoff. Think back to the reading in this lesson for a moment. What we just discussed here is mentioned in the reading comparing a high-variance investment to a low-variance investment. What you choose is entirely up to your risk preferences. Always take into consideration the risk-reward tradeoff.\n",
    "\n",
    "Most investors hold a mix of stocks/cryptocurrencies and bonds. A rule of thumb that’s commonly used to determine this mix is to subtract your age from 100; the resulting number is the percentage of assets that should be in risky assets, like stocks. In other words, a 26-year-old should be putting (100-26) = 74% of their assets in stocks and 26% in bonds. The reason for this is that, while you’re young, you have more time to wait out the potential down cycles in a market so you can be riskier with your money.\n",
    "\n",
    "In this next video, we'll go over some Python DataFrame tricks to transform data more easily along with showing how to calculate returns and visualize the data for easy comparison."
   ]
  },
  {
   "cell_type": "code",
   "execution_count": 38,
   "metadata": {},
   "outputs": [
    {
     "data": {
      "text/html": [
       "\n",
       "        <iframe\n",
       "            width=\"600\"\n",
       "            height=\"300\"\n",
       "            src=\"https://player.vimeo.com/video/706651387?h=a0b53c000e\"\n",
       "            frameborder=\"0\"\n",
       "            allowfullscreen\n",
       "        ></iframe>\n",
       "        "
      ],
      "text/plain": [
       "<IPython.lib.display.VimeoVideo at 0x7f59a0038580>"
      ]
     },
     "execution_count": 38,
     "metadata": {},
     "output_type": "execute_result"
    }
   ],
   "source": [
    "VimeoVideo(\"706651387\", h=\"a0b53c000e\", width=600)"
   ]
  },
  {
   "cell_type": "markdown",
   "metadata": {},
   "source": [
    "##### [Access video transcript here](https://drive.google.com/file/d/1MlwM_Ox9NvKBpM1nfmGdJa_Gh34XDRhE/view?usp=sharing)"
   ]
  },
  {
   "cell_type": "markdown",
   "metadata": {},
   "source": [
    "## 4. Conclusion\n",
    "\n",
    "This lesson was a starting point for pulling in and analyzing price data in Python. In the next lesson, we will go into some more specifics on different types of stocks and compare them using similar methods."
   ]
  },
  {
   "cell_type": "markdown",
   "metadata": {},
   "source": [
    "**References**\n",
    "\n",
    "- “BLV Long-Term Bond ETF.” *Vanguard*, https://institutional.vanguard.com/investments/product-details/fund/0927"
   ]
  }
 ],
 "metadata": {
  "kernelspec": {
   "display_name": "Python 3 (ipykernel)",
   "language": "python",
   "name": "python3"
  },
  "language_info": {
   "codemirror_mode": {
    "name": "ipython",
    "version": 3
   },
   "file_extension": ".py",
   "mimetype": "text/x-python",
   "name": "python",
   "nbconvert_exporter": "python",
   "pygments_lexer": "ipython3",
   "version": "3.9.6"
  }
 },
 "nbformat": 4,
 "nbformat_minor": 4
}
