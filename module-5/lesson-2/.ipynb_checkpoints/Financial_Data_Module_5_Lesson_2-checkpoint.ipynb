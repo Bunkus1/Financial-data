{
 "cells": [
  {
   "cell_type": "markdown",
   "metadata": {
    "id": "_ZpgINJJKRK1"
   },
   "source": [
    "\n",
    "## FINANCIAL DATA\n",
    "MODULE 5 | LESSON 2\n",
    "\n",
    "\n",
    "---\n",
    "\n"
   ]
  },
  {
   "cell_type": "markdown",
   "metadata": {
    "id": "1iLmkUxrIyOM"
   },
   "source": [
    "# **THE RISK-ADJUSTED DISCOUNT RATE**#"
   ]
  },
  {
   "cell_type": "markdown",
   "metadata": {
    "id": "Wv7elAk7IzML"
   },
   "source": [
    "|  |  |\n",
    "|:---|:---|\n",
    "|**Reading Time** |  30 minutes |\n",
    "|**Prior Knowledge** | CAPM (Capital Asset Pricing Model), Probability of Default, Recovery Rate, Variance, Standard deviation, Correlation   |\n",
    "|**Keywords** |Market Risk Premium, Expected Risk Premium, Risk-free rate, DataReader |   \n",
    "\n",
    "---"
   ]
  },
  {
   "cell_type": "markdown",
   "metadata": {
    "id": "em5ng78z08Wt"
   },
   "source": [
    "\n",
    "\n",
    "*In the last lesson, we went into detail about the calculation of market-implied probability of default. We also took the first steps in the multi-step process of gathering the inputs to this calculation.  We downloaded data from a bond database, cleaned the data, and transformed the \"maturity date\" into \"time to maturity.\" Then, we used a mask to filter the bonds to fit our desired parameters*.  \n",
    "\n",
    "*In this lesson, we will estimate the risk-adjusted discount rate. This is the discount rate that sets the bond's expected cash flows equal to the price of the bond.  In order to do this, we need to estimate the risk-free interest rate, the expected risk premium for the bond, the market risk premium, and the beta of the bond*.  "
   ]
  },
  {
   "cell_type": "markdown",
   "metadata": {
    "id": "Tjeuxgqy3uI6"
   },
   "source": [
    "**Note:** The code that was introduced in the previous lesson is below, followed by the new code and text for this lesson."
   ]
  },
  {
   "cell_type": "code",
   "execution_count": null,
   "metadata": {
    "colab": {
     "base_uri": "https://localhost:8080/"
    },
    "id": "02Qlu1eDXuBQ",
    "outputId": "64c6e8fc-1ae4-4799-de89-3148f736c000"
   },
   "outputs": [],
   "source": [
    "# Python libraries to install\n",
    "# Lesson 1\n",
    "import time\n",
    "from datetime import date\n",
    "from datetime import datetime as dt\n",
    "from datetime import timedelta\n",
    "\n",
    "# Lesson 2 (in addition to above)\n",
    "import numpy as np\n",
    "import pandas as pd\n",
    "import pandas_datareader as dr\n",
    "from selenium import webdriver\n",
    "from selenium.webdriver.chrome.options import Options\n",
    "from selenium.webdriver.chrome.service import Service\n",
    "from selenium.webdriver.common.by import By\n",
    "from selenium.webdriver.support import expected_conditions as EC\n",
    "from selenium.webdriver.support.ui import Select, WebDriverWait\n",
    "from webdriver_manager.chrome import ChromeDriverManager"
   ]
  },
  {
   "cell_type": "code",
   "execution_count": null,
   "metadata": {
    "id": "6q2wjaumXuBR"
   },
   "outputs": [],
   "source": [
    "# Required\n",
    "company_ticker = \"HES\"\n",
    "# or Try:\n",
    "# 'F'\n",
    "# 'KHC'\n",
    "# 'DVN'\n",
    "\n",
    "# Optional\n",
    "company_name = \"Hess\"\n",
    "# or Try:\n",
    "# 'Ford Motor'\n",
    "# 'Kraft Heinz Co'\n",
    "# 'Devon Energy'\n",
    "\n",
    "# Optional Input Choices:\n",
    "# ALL, Annual, Anytime, Bi-Monthly, Monthly, N/A, None, Pays At Maturity, Quarterly, Semi-Annual, Variable\n",
    "coupon_frequency = \"Semi-Annual\""
   ]
  },
  {
   "cell_type": "code",
   "execution_count": null,
   "metadata": {
    "colab": {
     "base_uri": "https://localhost:8080/",
     "height": 882
    },
    "id": "5I_RzCXEXuBS",
    "outputId": "23cf19cc-a7d1-4ea6-a118-35303184d702"
   },
   "outputs": [],
   "source": [
    "# Selenium script\n",
    "options = Options()\n",
    "options.add_argument(\"--headless\")\n",
    "options.add_argument(\"--no-sandbox\")\n",
    "options.add_argument(\"--disable-dev-shm-usage\")\n",
    "driver = webdriver.Chrome(\n",
    "    service=Service(ChromeDriverManager().install()), options=options\n",
    ")\n",
    "\n",
    "# store starting time\n",
    "begin = time.time()\n",
    "\n",
    "# FINRA's TRACE Bond Center\n",
    "driver.get(\"http://finra-markets.morningstar.com/BondCenter/Results.jsp\")\n",
    "\n",
    "# click agree\n",
    "WebDriverWait(driver, 10).until(\n",
    "    EC.element_to_be_clickable((By.CSS_SELECTOR, \".button_blue.agree\"))\n",
    ").click()\n",
    "\n",
    "# click edit search\n",
    "WebDriverWait(driver, 10).until(\n",
    "    EC.element_to_be_clickable((By.CSS_SELECTOR, \"a.qs-ui-btn.blue\"))\n",
    ").click()\n",
    "\n",
    "# input Issuer Name\n",
    "WebDriverWait(driver, 10).until(\n",
    "    EC.presence_of_element_located((By.CSS_SELECTOR, \"input[id=firscreener-issuer]\"))\n",
    ")\n",
    "inputElement = driver.find_element_by_id(\"firscreener-issuer\")\n",
    "inputElement.send_keys(company_name)\n",
    "\n",
    "# input Symbol\n",
    "WebDriverWait(driver, 10).until(\n",
    "    EC.presence_of_element_located((By.CSS_SELECTOR, \"input[id=firscreener-cusip]\"))\n",
    ")\n",
    "inputElement = driver.find_element_by_id(\"firscreener-cusip\")\n",
    "inputElement.send_keys(company_ticker)\n",
    "\n",
    "# click advanced search\n",
    "WebDriverWait(driver, 10).until(\n",
    "    EC.element_to_be_clickable((By.CSS_SELECTOR, \"a.ms-display-switcher.hide\"))\n",
    ").click()\n",
    "\n",
    "# input Coupon Frequency\n",
    "WebDriverWait(driver, 10).until(\n",
    "    EC.presence_of_element_located((By.CSS_SELECTOR, \"select[name=interestFrequency]\"))\n",
    ")\n",
    "Select(\n",
    "    (driver.find_elements_by_css_selector(\"select[name=interestFrequency]\"))[0]\n",
    ").select_by_visible_text(coupon_frequency)\n",
    "\n",
    "# click show results\n",
    "WebDriverWait(driver, 10).until(\n",
    "    EC.element_to_be_clickable((By.CSS_SELECTOR, \"input.button_blue[type=submit]\"))\n",
    ").click()\n",
    "\n",
    "# wait for results\n",
    "WebDriverWait(driver, 10).until(\n",
    "    EC.presence_of_element_located(\n",
    "        (By.CSS_SELECTOR, \".rtq-grid-row.rtq-grid-rzrow .rtq-grid-cell-ctn\")\n",
    "    )\n",
    ")\n",
    "\n",
    "# create DataFrame from scrape\n",
    "frames = []\n",
    "for page in range(1, 11):\n",
    "    bonds = []\n",
    "    WebDriverWait(driver, 10).until(\n",
    "        EC.presence_of_element_located(\n",
    "            (By.CSS_SELECTOR, (f\"a.qs-pageutil-btn[value='{str(page)}']\"))\n",
    "        )\n",
    "    )  # wait for page marker to be on expected page\n",
    "    time.sleep(2)\n",
    "\n",
    "    headers = [\n",
    "        title.text\n",
    "        for title in driver.find_elements_by_css_selector(\n",
    "            \".rtq-grid-row.rtq-grid-rzrow .rtq-grid-cell-ctn\"\n",
    "        )[1:]\n",
    "    ]\n",
    "\n",
    "    tablerows = driver.find_elements_by_css_selector(\n",
    "        \"div.rtq-grid-bd > div.rtq-grid-row\"\n",
    "    )\n",
    "    for tablerow in tablerows:\n",
    "        tablerowdata = tablerow.find_elements_by_css_selector(\"div.rtq-grid-cell\")\n",
    "        bond = [item.text for item in tablerowdata[1:]]\n",
    "        bonds.append(bond)\n",
    "\n",
    "        # Convert to DataFrame\n",
    "        df = pd.DataFrame(bonds, columns=headers)\n",
    "\n",
    "    frames.append(df)\n",
    "\n",
    "    try:\n",
    "        driver.find_element_by_css_selector(\"a.qs-pageutil-next\").click()\n",
    "    except:  # noqa E722\n",
    "        break\n",
    "\n",
    "bond_prices_df = pd.concat(frames)\n",
    "\n",
    "# store end time\n",
    "end = time.time()\n",
    "\n",
    "# total time taken\n",
    "print(f\"Total runtime of the program is {end - begin} seconds\")\n",
    "\n",
    "bond_prices_df"
   ]
  },
  {
   "cell_type": "code",
   "execution_count": null,
   "metadata": {
    "id": "vZMU2dKWXuBV"
   },
   "outputs": [],
   "source": [
    "def bond_dataframe_filter(df):\n",
    "    # Drop bonds with missing yields and missing credit ratings\n",
    "    df[\"Yield\"].replace(\"\", np.nan, inplace=True)\n",
    "    df[\"Moody's®\"].replace({\"WR\": np.nan, \"\": np.nan}, inplace=True)\n",
    "    df[\"S&P\"].replace({\"NR\": np.nan, \"\": np.nan}, inplace=True)\n",
    "    df = df.dropna(subset=[\"Yield\"])\n",
    "    df = df.dropna(subset=[\"Moody's®\"])\n",
    "    df = df.dropna(subset=[\"S&P\"])\n",
    "\n",
    "    # Create Maturity Years column that aligns with Semi-Annual Payments from corporate bonds\n",
    "    df[\"Yield\"] = df[\"Yield\"].astype(float)\n",
    "    df[\"Coupon\"] = df[\"Coupon\"].astype(float)\n",
    "    df[\"Price\"] = df[\"Price\"].astype(float)\n",
    "    now = dt.strptime(date.today().strftime(\"%m/%d/%Y\"), \"%m/%d/%Y\")\n",
    "    df[\"Maturity\"] = pd.to_datetime(df[\"Maturity\"]).dt.strftime(\"%m/%d/%Y\")\n",
    "    daystillmaturity = []\n",
    "    yearstillmaturity = []\n",
    "    for maturity in df[\"Maturity\"]:\n",
    "        daystillmaturity.append((dt.strptime(maturity, \"%m/%d/%Y\") - now).days)\n",
    "        yearstillmaturity.append((dt.strptime(maturity, \"%m/%d/%Y\") - now).days / 360)\n",
    "    df = df.reset_index(drop=True)\n",
    "    df[\"Maturity\"] = pd.Series(daystillmaturity)\n",
    "    df[\"Maturity Years\"] = (\n",
    "        round(pd.Series(yearstillmaturity) / 0.5) * 0.5\n",
    "    )  # Better for Semi-Annual Payments\n",
    "\n",
    "    # Target bonds with short-term maturities\n",
    "    df[\"Maturity\"] = df[\"Maturity\"].astype(float)\n",
    "    years_mask = (df[\"Maturity Years\"] > 0) & (df[\"Maturity Years\"] <= 5)\n",
    "    df = df.loc[years_mask]\n",
    "    return df"
   ]
  },
  {
   "cell_type": "code",
   "execution_count": null,
   "metadata": {
    "colab": {
     "base_uri": "https://localhost:8080/",
     "height": 246
    },
    "id": "BWbL_ydTXuBW",
    "outputId": "109fe35e-7640-4a1c-ca3a-dfe8971c3166"
   },
   "outputs": [],
   "source": [
    "bond_df_result = bond_dataframe_filter(bond_prices_df)\n",
    "bond_df_result"
   ]
  },
  {
   "cell_type": "markdown",
   "metadata": {
    "id": "pxCzgMGRXuBX"
   },
   "source": [
    "\n",
    "## 1. Discounting Expected Cashflows\n",
    "\n",
    "To calculate the probability of default using current corporate bond prices, we will use bond valuation techniques. The valuation of corporate bonds is similar to that of any risky asset; it is dependent on the present value of future expected cash flows, discounted at a risk-adjusted rate (similar to Discounted Cash Flow analysis).\n",
    "\n",
    "\\begin{equation*}\n",
    "BOND\\ PRICE = \\frac{ECF_1}{1+d}\\ +\\ \\frac{ECF_2}{(1+d)^2}\\ +\\ \\frac{ECF_3}{(1+d)^3}\n",
    "\\end{equation*}\n",
    "\n",
    "$ECF = Expected\\ Cash\\ Flow$<br>\n",
    "$d = Discount\\ Rate$<br>\n",
    "\n",
    "Corporate bond valuation also accounts for the probability of the bond defaulting and not paying back the principal in full.\n",
    "\n",
    "We now need to estimate the expected cash flows and the risk-adjusted discount rate.\n",
    "\n",
    "## 2. Estimating Expected Cash Flows\n",
    "The first step in valuing the bond is to find the expected cash flow at each period. This is done by adding the product of the default payout and the probability of default (P) with the product of the promised payment (coupon payments and repayment of principal) and the probability of not defaulting (1-P), which is also referred to as the probability of survival.\n",
    "\n",
    "$ECF_1 = (P)*(Default\\ Payout)\\ +\\ (1-P)*(Coupon\\ Payment)$<br>\n",
    "$ECF_2 = (1-P)*\\{(P)\\ *(Default\\ Payout)\\ +\\ (1-P)*(Coupon\\ Payment)\\}$<br>\n",
    "$ECF_3 = (1-P)^2*\\{(P)\\ *(Default\\ Payout)\\ +\\ (1-P)*(Coupon\\ Payment\\ +\\ Principal)\\}$<br>\n",
    "\n",
    "$P = Probability\\ of\\ Default$<br>\n",
    "$Default\\ Payout = Principal\\ *\\ Recovery\\ Rate$<br>\n",
    "\n",
    "If the bond defaults, the default payout is the product of recovery rate and the principal. In the following example, the principal will be at par value for the bond (e.g. $100). The recovery rate is the percentage of the loss recovered from a bond in default. The recovery rate varies by industry, the degree of seniority in the capital structure, the amount of leverage in the capital structure in total, and whether a particular security is secured or otherwise collateralized. We assume a 40% recovery rate for the corporate bonds in the following example, which is a common baseline assumption in practice.\n",
    "\n",
    "The code in the below function shows how the expected cash flow is calculated at each period. We then use the solve function from the Python library `SymPy` to calculate the probability of default that will equate future expected cash flows with the current price of the corporate bond when discounted at the risk-adjusted rate. Running the cell below defines the function for use, but it will not run the function. We will wait to run the function until after the risk-adjusted discount rate is calculated."
   ]
  },
  {
   "cell_type": "markdown",
   "metadata": {
    "id": "cMitjYbhXuBY"
   },
   "source": [
    "## 3. The Market Risk Premium and the Expected Risk Premium\n",
    "After the expected cash flows are calculated, they are discounted back to period 0 at a risk-adjusted discount rate (d) to calculate the bond’s price. A risk-adjusted discount rate is the rate obtained by combining an expected risk premium with the risk-free rate during the calculation of the present value of a risky investment.\n",
    "\n",
    "**_Risk-adjusted Discount Rate = Risk-free Interest Rate + Expected Risk Premium_**\n",
    "\n",
    "\n",
    "We use the (risk-adjusted) discount rate in order to account for the liquidity, maturity, and tax considerations that cause corporate bonds to have an observed spread over the yield on a risk-free bond like the bonds issued by the government in a stable economy. (We grouped all of these factors together under the term \"credit spread\" in the Financial Markets course.) The minimum required return expected for a bond investor is equal to the sum of the following, which accounts for this spread between corporate bonds and risk-free bonds:\n",
    "\n",
    "* **Default Risk Premium** – Compensates investors for the business’ likelihood of default.\n",
    "* **Liquidity Premium** – Compensates investors for investing in less liquid securities such as bonds. Government bonds typically are more liquid than corporate bonds. Government bonds are available in greater supply than even the most liquid corporates and have demand from a wider set of institutional investors. In addition, government bonds can be used more readily as collateral in repo transactions and for centrally cleared derivatives.\n",
    "* **Maturity Premium** – Compensates investors for the risk associated with bonds that mature many years into the future, which inherently carry more risk.\n",
    "* **Taxation Premium** – Compensates investors for the taxable income that bonds generate. Interest income on U.S. corporate bonds is taxable by both the federal and state governments. Government debt, however, is exempt from taxes at the state level.\n",
    "* **Projected Inflation** – Accounts for the devaluation of currency over time.\n",
    "* **Risk-free Rate** – Refers to the rate of return an investor can expect on a riskless security (such as a T-bill).\n",
    "\n",
    "We begin our calculation of the risk-adjusted discount rate by first turning our attention to estimating the expected risk premium.\n",
    "\n",
    "The expected risk premium is obtained by subtracting the risk-free rate of return from the market rate of return and then multiplying the result by the beta that adjusts based on the magnitude of the investment risk involved. By carefully selecting a proxy short-term corporate bond's beta to the overall market, we can calculate an expected risk premium that will result in a risk-adjusted discount rate that incorporates liquidity, maturity, and tax considerations to produce a more accurate probability of default when using the bond valuation technique.\n",
    "\n",
    "**_Expected Risk Premium = (Market Rate of Return - Risk-free Rate of Return) * Beta_**\n",
    "\n",
    "\n",
    "To calculate the expected risk premium, we must first calculate the market rate of return. We can use the capital asset pricing model (CAPM) to determine the market rate of return.\n",
    "\n",
    "$$r_m = r_f\\ +(\\beta*MRP)$$<br>\n",
    "$r_m = Market\\ Rate\\ of\\ Return$<br>\n",
    "$r_f = Riskfree\\ Rate$<br>\n",
    "$\\beta = Beta$<br>\n",
    "$MRP = Market\\ Risk\\ Premium$<br>\n",
    "\n",
    "CAPM is an equilibrium model that takes the risk-free rate, the stock market's beta, and the market risk premium as inputs. Let's now determine the value for each of these inputs.\n",
    "\n",
    "Government securities are assumed to be risk-free, at least from a credit standpoint. With this assumption, the appropriate rate to use in the market rate of return calculation is the government security having approximately the same duration as the asset being valued and sufficient liquidity so that the yield does not have an embedded liquidity risk premium. Equities are assumed to have a long duration, so a long-term government bond yield is an appropriate proxy for the risk-free rate.\n",
    "\n",
    "In this step, the yield on the 10-year U.S. Treasury note will be used as the risk-free rate.  We can scrape the current yield on the 10-year U.S. Treasury note from Yahoo Finance using the code below."
   ]
  },
  {
   "cell_type": "code",
   "execution_count": null,
   "metadata": {
    "colab": {
     "base_uri": "https://localhost:8080/"
    },
    "id": "h9Nnk2ajXuBY",
    "outputId": "150a4e4c-ce59-491c-ece4-20b2421d060a"
   },
   "outputs": [],
   "source": [
    "# Ten-Year Risk-free Rate\n",
    "timespan = 100\n",
    "current_date = date.today()\n",
    "past_date = current_date - timedelta(days=timespan)\n",
    "ten_year_risk_free_rate_df = dr.DataReader(\"^TNX\", \"yahoo\", past_date, current_date)\n",
    "ten_year_risk_free_rate = (\n",
    "    ten_year_risk_free_rate_df.iloc[len(ten_year_risk_free_rate_df) - 1, 5]\n",
    ") / 100\n",
    "ten_year_risk_free_rate"
   ]
  },
  {
   "cell_type": "markdown",
   "metadata": {
    "id": "fWWppcEAXuBY"
   },
   "source": [
    "The market risk premium should be the expected return on the market index less the expected return (or yield) on the long-term government bond. For our purposes, we use the annual [market risk premium](http://pages.stern.nyu.edu/~adamodar/New_Home_Page/datafile/ctryprem.html) provided by Aswath Damodaran, a professor at the Stern School of Business at New York University."
   ]
  },
  {
   "cell_type": "code",
   "execution_count": null,
   "metadata": {
    "id": "lWQaHG1cXuBY"
   },
   "outputs": [],
   "source": [
    "# Market Risk Premium\n",
    "market_risk_premium = 0.0472"
   ]
  },
  {
   "cell_type": "markdown",
   "metadata": {
    "id": "sfL9DqXEXuBY"
   },
   "source": [
    "According to asset pricing theory, beta represents the type of risk, systematic risk, that cannot be diversified away. By definition, the market itself has a beta of 1. As a result, beta will be equal to 1 when calculating the market rate of return."
   ]
  },
  {
   "cell_type": "code",
   "execution_count": null,
   "metadata": {
    "id": "3XYXKMqBXuBZ"
   },
   "outputs": [],
   "source": [
    "# Market Equity Beta\n",
    "stock_market_beta = 1"
   ]
  },
  {
   "cell_type": "markdown",
   "metadata": {
    "id": "EIeQV-QDXuBZ"
   },
   "source": [
    "We now have all the inputs required to calculate the market rate of return."
   ]
  },
  {
   "cell_type": "code",
   "execution_count": null,
   "metadata": {
    "colab": {
     "base_uri": "https://localhost:8080/"
    },
    "id": "XGHCv74lXuBZ",
    "outputId": "a2286f9e-01b9-475b-91f1-3cfac7c2d15a"
   },
   "outputs": [],
   "source": [
    "# Market Rate of Return\n",
    "market_rate_of_return = ten_year_risk_free_rate + (\n",
    "    stock_market_beta * market_risk_premium\n",
    ")\n",
    "market_rate_of_return"
   ]
  },
  {
   "cell_type": "markdown",
   "metadata": {
    "id": "W0Cvti00XuBZ"
   },
   "source": [
    "Now that we have calculated the market rate of return, we can determine the expected risk premium by subtracting the risk-free rate from the market rate of return and multiplying the result by the beta for the bond.\n",
    "\n",
    "**_Expected Risk Premium = (Market Rate of Return - Risk-free Rate of Return) * Beta_**\n",
    "\n",
    "In this step, we will use a one-year risk-free rate so that the expected risk premium matches the duration we want for the risk-adjusted discount rate. We accomplish this by taking the yield on the very liquid 10-year U.S. Treasury note and raising it to the power of 1/10 in order to convert the yield to a one-year equivalent.\n",
    "\n",
    "Note that 2\\*\\*3 is Pythonic for $2^3$, or 2 raised to the power of 3 (= 8).\n",
    "By the same token, 8**(1/3) is the cube root of 8 (=2)."
   ]
  },
  {
   "cell_type": "code",
   "execution_count": null,
   "metadata": {
    "colab": {
     "base_uri": "https://localhost:8080/"
    },
    "id": "LfNiy8D9XuBZ",
    "outputId": "6c63f32f-9521-45ba-bc1a-983ee43466e8"
   },
   "outputs": [],
   "source": [
    "# One-Year Risk-free Rate\n",
    "one_year_risk_free_rate = (1 + ten_year_risk_free_rate) ** (1 / 10) - 1\n",
    "one_year_risk_free_rate"
   ]
  },
  {
   "cell_type": "markdown",
   "metadata": {
    "id": "YcRZEKAeXuBa"
   },
   "source": [
    "The final component needed to calculate the expected risk premium is the corporate bond's beta.  Knowing that differences in liquidity within the universe of corporate bonds are great, we use the Vanguard Short-Term Corporate Bond Index Fund ETF Shares (VCSH) as a proxy for short-term maturity bonds. The beta from this index will enable us to embed some of the liquidity and maturity risk into the risk-adjusted discount rate that will be used to calculate the probability of default for the corporate bonds we will be analyzing. This should allow for better isolation of the credit risk associated with the chosen bonds.\n",
    "\n",
    "A bond's beta is the sensitivity of that bond's return to the return of the market index. It is a measure of undiversifiable, systematic risk. As you see below, it can be calculated in (at least) two ways.\n",
    "<br>\n",
    "<br>"
   ]
  },
  {
   "cell_type": "code",
   "execution_count": null,
   "metadata": {
    "id": "5L5i4tiAXuBa"
   },
   "outputs": [],
   "source": [
    "# Vanguard Short-Term Corporate Bond Index Fund ETF Shares\n",
    "bond_fund_ticker = \"VCSH\""
   ]
  },
  {
   "cell_type": "code",
   "execution_count": null,
   "metadata": {
    "id": "d7hQj_dcnWad"
   },
   "outputs": [],
   "source": [
    "# Download data for the bond fund and the market\n",
    "market_data = dr.get_data_yahoo(\"SPY\", past_date, current_date)  # the market\n",
    "fund_data = dr.get_data_yahoo(\"VCSH\", past_date, current_date)  # the bond fund"
   ]
  },
  {
   "cell_type": "markdown",
   "metadata": {
    "id": "0evshT3EXI4I"
   },
   "source": [
    "Calculate the beta of the bond fund (with respect to the S&P):"
   ]
  },
  {
   "cell_type": "code",
   "execution_count": null,
   "metadata": {
    "colab": {
     "base_uri": "https://localhost:8080/"
    },
    "id": "HeCm39NramOK",
    "outputId": "a745067c-6fd6-40d3-c9f6-a3f7d6c903f3"
   },
   "outputs": [],
   "source": [
    "# Approach #1 - Covariance/Variance Method:\n",
    "\n",
    "# Calculate the covariance between the fund and the market -- this is the numerator in the Beta calculation\n",
    "fund_market_cov = fund_data[\"Adj Close\"].cov(market_data[\"Adj Close\"])\n",
    "print(\"covariance between fund and market: \", fund_market_cov)\n",
    "\n",
    "# Calculate market (S&P) variance -- this is the denominator in the Beta calculation\n",
    "market_var = market_data[\"Adj Close\"].var()\n",
    "print(\"market variance: \", market_var)\n",
    "\n",
    "# Calculate Beta\n",
    "bond_fund_beta_cv = fund_market_cov / market_var\n",
    "print(\"bond fund beta (using covariance/variance): \", bond_fund_beta_cv)"
   ]
  },
  {
   "cell_type": "code",
   "execution_count": null,
   "metadata": {
    "colab": {
     "base_uri": "https://localhost:8080/"
    },
    "id": "IoZw2fTvQUcG",
    "outputId": "8502ec1c-99a0-444f-cd6f-b1efdf2453c5"
   },
   "outputs": [],
   "source": [
    "# Approach #2 - Correlation Method:\n",
    "\n",
    "# Calculate the standard deviation of the market by taking the square root of the variance, for use in the denominator\n",
    "market_stdev = market_var ** 0.5\n",
    "print(\"market standard deviation: \", market_stdev)\n",
    "\n",
    "# Calculate bond fund standard deviation, for use in the numerator\n",
    "\n",
    "fund_stdev = fund_data[\"Adj Close\"].std()\n",
    "print(\"fund standard deviation: \", fund_stdev)\n",
    "\n",
    "# Calculate Pearson correlation between bond fund and market (S&P), for use in the numerator\n",
    "fund_market_Pearson_corr = fund_data[\"Adj Close\"].corr(\n",
    "    market_data[\"Adj Close\"], method=\"pearson\"\n",
    ")\n",
    "print(\"Pearson correlation between fund and market: \", fund_market_Pearson_corr)\n",
    "\n",
    "# Calculate Beta\n",
    "fund_beta_corr = fund_stdev * fund_market_Pearson_corr / market_stdev\n",
    "print(\"bond fund beta (using correlation): \", fund_beta_corr)"
   ]
  },
  {
   "cell_type": "markdown",
   "metadata": {
    "id": "uPibylEKXSAc"
   },
   "source": [
    "\n",
    "\n",
    "Note that .corr() above can be used to calculate any of the three correlation metrics we have discussed, taking the arguments ‘pearson’, ‘kendall’, or ‘spearman’ (with 'pearson' as the default).\n",
    "We include the argument here to emphasize this fact."
   ]
  },
  {
   "cell_type": "code",
   "execution_count": null,
   "metadata": {
    "colab": {
     "base_uri": "https://localhost:8080/"
    },
    "id": "Gc7ZyNm4XuBa",
    "outputId": "aa7c2c98-d79f-44f5-cc20-87cf462741e2"
   },
   "outputs": [],
   "source": [
    "# Bond's Beta: use the result of either of the two above approaches, bond_fund_beta_cv or fund_beta_corr\n",
    "bond_beta = fund_beta_corr\n",
    "bond_beta"
   ]
  },
  {
   "cell_type": "markdown",
   "metadata": {
    "id": "sQLhok5-XuBa"
   },
   "source": [
    "We now have all the components required to calculate the expected risk premium."
   ]
  },
  {
   "cell_type": "code",
   "execution_count": null,
   "metadata": {
    "colab": {
     "base_uri": "https://localhost:8080/"
    },
    "id": "4s8jGBihXuBb",
    "outputId": "2e15cf9a-4afd-40c0-93d8-0171a7cc6e72"
   },
   "outputs": [],
   "source": [
    "# Expected Risk Premium\n",
    "expected_risk_premium = (market_rate_of_return - one_year_risk_free_rate) * bond_beta\n",
    "expected_risk_premium"
   ]
  },
  {
   "cell_type": "markdown",
   "metadata": {
    "id": "Ym4mNtsnXuBb"
   },
   "source": [
    "With the expected risk premium now in hand, we revisit the (risk-adjusted) discount rate equation:\n",
    "\n",
    "**_Discount Rate = Risk-free Rate  + Expected Risk Premium_**\n",
    "\n",
    "The final input required for the risk-adjusted discount rate is the risk-free interest rate, which we define next.\n",
    "\n",
    "*Estimating the Risk-Free Rate*<br>\n",
    "We will again use a one-year risk-free rate so that it matches the duration we want for the risk-adjusted discount rate, which we will use to discount expected cash flows to determine the probability of default."
   ]
  },
  {
   "cell_type": "code",
   "execution_count": null,
   "metadata": {
    "colab": {
     "base_uri": "https://localhost:8080/"
    },
    "id": "0XZcRCzaXuBb",
    "outputId": "235f7eb6-7a3a-45cb-c321-c262c45765ee"
   },
   "outputs": [],
   "source": [
    "# One-Year Risk-free Rate (same code as above)\n",
    "one_year_risk_free_rate = (1 + ten_year_risk_free_rate) ** (1 / 10) - 1\n",
    "one_year_risk_free_rate"
   ]
  },
  {
   "cell_type": "markdown",
   "metadata": {
    "id": "NYWPx3rRXuBb"
   },
   "source": [
    "We can now combine the risk-free interest rate and the expected risk premium to obtain the risk-adjusted discount rate."
   ]
  },
  {
   "cell_type": "code",
   "execution_count": null,
   "metadata": {
    "colab": {
     "base_uri": "https://localhost:8080/"
    },
    "id": "0He5a_K-XuBc",
    "outputId": "71a480b0-1a2d-4627-d550-7d155e1fae3f"
   },
   "outputs": [],
   "source": [
    "# Risk-adjusted Discount Rate\n",
    "risk_adjusted_discount_rate = one_year_risk_free_rate + expected_risk_premium\n",
    "risk_adjusted_discount_rate"
   ]
  },
  {
   "cell_type": "markdown",
   "metadata": {
    "id": "WjedYo6T-jz_"
   },
   "source": [
    "## 4. Conclusion\n",
    "In this lesson, we reviewed CAPM and found the risk-adjusted discount rate, which is an input to our market-implied probability of default estimation. \n",
    "\n",
    "In order to find the risk-adjusted discount rate, we had to find the one-year risk-free rate and the expected risk premium.\n",
    "\n",
    "We found the one-year risk-free rate by taking the tenth-root of the ten-year risk-free rate.\n",
    "\n",
    "We found the expected risk premium by first finding the market risk premium and the beta.\n",
    "\n",
    "We saw that beta can be calculated using correlation and standard deviations, or covariance and the market variance, due to the mathematical relationships between these variables.\n",
    "\n",
    "In the next lesson, we can use this newly found data point to finally calculate the market-implied probability of default, with a function built for this purpose.\n"
   ]
  },
  {
   "cell_type": "markdown",
   "metadata": {
    "id": "okL3Nue-XuBP"
   },
   "source": [
    "**References**\n",
    "\n",
    "* Donnelly, Hugh. \"Calculating a Company's Probability of Default with Python.\" AlphaWave Data. https://github.com/AlphaWaveData/Jupyter-Notebooks/blob/master/AlphaWave%20Market-Implied%20Probability%20of%20Default%20Example.ipynb.\n",
    "\n",
    "* The  code and related documentation used in this lesson is adapted from: <br>**Hugh Donnelly, CFA**<br>*AlphaWave Data* <br> **March 2021** under the following  MIT License:\n",
    "\n",
    "> Copyright (c) 2020 HDVI <br>Permission is hereby granted, free of charge, to any person obtaining a copy\n",
    "of this software and associated documentation files (the \"Software\"), to deal\n",
    "in the Software without restriction, including without limitation the rights\n",
    "to use, copy, modify, merge, publish, distribute, sublicense, and/or sell\n",
    "copies of the Software, and to permit persons to whom the Software is\n",
    "furnished to do so, subject to the following conditions:<br>The above copyright notice and this permission notice shall be included in all\n",
    "copies or substantial portions of the Software.<br>THE SOFTWARE IS PROVIDED \"AS IS\", WITHOUT WARRANTY OF ANY KIND, EXPRESS OR\n",
    "IMPLIED, INCLUDING BUT NOT LIMITED TO THE WARRANTIES OF MERCHANTABILITY,\n",
    "FITNESS FOR A PARTICULAR PURPOSE AND NONINFRINGEMENT. IN NO EVENT SHALL THE\n",
    "AUTHORS OR COPYRIGHT HOLDERS BE LIABLE FOR ANY CLAIM, DAMAGES OR OTHER\n",
    "LIABILITY, WHETHER IN AN ACTION OF CONTRACT, TORT OR OTHERWISE, ARISING FROM,\n",
    "OUT OF OR IN CONNECTION WITH THE SOFTWARE OR THE USE OR OTHER DEALINGS IN THE\n",
    "SOFTWARE.\n",
    "\n",
    "**Note:** The above MIT license notice is copied here to comply with its requirements, but it does **not** apply to the content in these lesson notes. \n",
    "\n",
    "\n"
   ]
  },
  {
   "cell_type": "markdown",
   "metadata": {},
   "source": [
    "---\n",
    "Copyright © 2022 WorldQuant University. This\n",
    "content is licensed solely for personal use. Redistribution or\n",
    "publication of this material is strictly prohibited.\n"
   ]
  }
 ],
 "metadata": {
  "colab": {
   "collapsed_sections": [],
   "name": "Financial Data_Module 5_Lesson 2.ipynb",
   "provenance": []
  },
  "kernelspec": {
   "display_name": "Python 3 (ipykernel)",
   "language": "python",
   "name": "python3"
  },
  "language_info": {
   "codemirror_mode": {
    "name": "ipython",
    "version": 3
   },
   "file_extension": ".py",
   "mimetype": "text/x-python",
   "name": "python",
   "nbconvert_exporter": "python",
   "pygments_lexer": "ipython3",
   "version": "3.9.7"
  }
 },
 "nbformat": 4,
 "nbformat_minor": 4
}
