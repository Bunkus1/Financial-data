{
 "cells": [
  {
   "cell_type": "markdown",
   "metadata": {
    "id": "Cjv9cnWAKW46"
   },
   "source": [
    "\n",
    "## FINANCIAL DATA\n",
    "MODULE 5 | LESSON 1\n",
    "\n",
    "\n",
    "---\n",
    "\n"
   ]
  },
  {
   "cell_type": "markdown",
   "metadata": {
    "id": "-h3zUEO8IpAh"
   },
   "source": [
    "# **DOWNLOADING, CLEANING, AND TRANSFORMING DATA**"
   ]
  },
  {
   "cell_type": "markdown",
   "metadata": {
    "id": "iDXcymjTJiXZ"
   },
   "source": [
    "|  |  |\n",
    "|:---|:---|\n",
    "|**Reading Time** |  30 minutes |\n",
    "|**Prior Knowledge** | Basic Python, Probability of default (PD)  |\n",
    "|**Keywords** |df.dropna(), inplace, df.replace(), .astype(), pd.to_datetime(), df['X'].dt.strftime, masking / filtering, df.concat(), <br> .append, df.values.tolist(), datetime.strptime, datetime.datetime|   \t\n",
    "\n",
    "---"
   ]
  },
  {
   "cell_type": "markdown",
   "metadata": {
    "id": "983-X4BojoHj"
   },
   "source": [
    "\n",
    "\n",
    "*In this module, we perform the several steps required to calculate the market-implied probability of default (PD), which we introduced in Module 5.*\n",
    "*In this lesson, we will indicate the company (bond issuer) and determine which of the company's bonds to use after cleaning, transforming, and filtering the data.*\n",
    "\n",
    "*In the lessons that follow in this module, we will estimate the expected cashflows and the risk-adjusted discount rate (lesson 2). Finally we estimate the market-implied probability of default (lesson 3) and compare it to the PD that Standard and Poor's (S&P) associates with the rating (lesson 4).*"
   ]
  },
  {
   "cell_type": "markdown",
   "metadata": {
    "id": "dmkXdI1YXuBS"
   },
   "source": [
    "## 1. Re-introduction to Probability of Default (PD)\n",
    "\n",
    "As we discussed in the Financial Markets course, the probability of default is the probability that a bond issuer will not meet its contractual obligations on schedule. Although the most common event of default is nonpayment leading to bankruptcy proceedings, the bond prospectus might identify other events of default, such as the failure to meet a different obligation or the violation of a financial covenant.\n",
    "\n",
    "In the following example, we will determine the probability of default given corporate bond prices. The default probabilities that are reached in this exercise are called market-implied default probabilities. Historically, practitioners have focused on the one-year probability of default calculation. Over shorter horizons of one or two years, firms are exposed to the business cycle effect, while over longer horizons, the business cycle effect tends to have a lesser impact and the company’s capital structure becomes more important. This effect has made long-run risk levels less cyclical and more stable. Intuitively, default risk over a longer time period is less sensitive to the instantaneous default rates in the economy (Beygi 3). For this reason, we will focus on corporate bonds with one or two years until maturity to calculate the market-implied default probabilities.\n",
    "\n",
    "We will verify the accuracy of the market-implied default probabilities with the Standard & Poor’s \"Average One-Year Transition Rates For Global Corporates\" table, which uses historical data from 1981-2019. This transition matrix shows the observed historical probabilities of a particular rating transitioning to another rating, including default, over the course of one year.\n",
    "\n",
    "In order to calculate the market-implied default probabilities, we must first acquire the company's current bond prices. Using a short Selenium script that emulates a user's keystrokes and clicks in a browser as a means of navigating to Trade Reporting and Compliance Engine (TRACE) bond data provided by the Financial Industry Regulatory Authority (FINRA), we can access the data needed to calculate the market-implied default probabilities.\n",
    "\n",
    "The following is an example script. In case you do not have [Selenium](https://pypi.org/project/selenium/) installed, you can visit their respective links and download them using pip in your terminal. We will also need a chromedriver (the simulated chrome browser Selenium controls). To download it using Python, you can use the [WebDriver-manager](https://pypi.org/project/webdriver-manager/) package also found in PyPi.\n",
    "\n",
    "You will need to insert your own path to your chromedriver in the code block below."
   ]
  },
  {
   "cell_type": "markdown",
   "metadata": {
    "id": "6FSwC0akcVP0"
   },
   "source": [
    "## 2. Selenium and WebDrivers\n",
    "\n",
    "[As discussed by van Gulik](https://www.go-euc.com/basic-website-performance-testing/), Selenium is tool we can use to automate browser activity that would be done by a user, for example loading a web page and filling out a form on that web page. It requires a WebDriver specific to one's web browser. \n",
    "\n",
    "We will use SM Energy (SM) in the subsequent code; however, this analysis works with the ticker of any large publicly traded company.\n",
    "\n",
    "We download information about the company's bonds from the database TRACE (Trade Reporting and Compliance Engine), which is maintained by FINRA (Financial Industry Regulatory Authority)."
   ]
  },
  {
   "cell_type": "code",
   "execution_count": null,
   "metadata": {
    "colab": {
     "base_uri": "https://localhost:8080/"
    },
    "id": "02Qlu1eDXuBQ",
    "outputId": "64c6e8fc-1ae4-4799-de89-3148f736c000"
   },
   "outputs": [],
   "source": [
    "# Python libraries to install\n",
    "import time\n",
    "from datetime import date\n",
    "from datetime import datetime as dt\n",
    "\n",
    "import numpy as np\n",
    "import pandas as pd\n",
    "from selenium import webdriver\n",
    "from selenium.webdriver.chrome.options import Options\n",
    "from selenium.webdriver.chrome.service import Service\n",
    "from selenium.webdriver.common.by import By\n",
    "from selenium.webdriver.support import expected_conditions as EC\n",
    "from selenium.webdriver.support.ui import Select, WebDriverWait\n",
    "from webdriver_manager.chrome import ChromeDriverManager"
   ]
  },
  {
   "cell_type": "code",
   "execution_count": null,
   "metadata": {
    "id": "6q2wjaumXuBR"
   },
   "outputs": [],
   "source": [
    "# Required\n",
    "company_ticker = \"HES\"\n",
    "# or Try:\n",
    "# 'F'\n",
    "# 'KHC'\n",
    "# 'DVN'\n",
    "\n",
    "# Optional\n",
    "company_name = \"Hess\"\n",
    "# or Try:\n",
    "# 'Ford Motor'\n",
    "# 'Kraft Heinz Co'\n",
    "# 'Devon Energy'\n",
    "\n",
    "# Optional Input Choices:\n",
    "# ALL, Annual, Anytime, Bi-Monthly, Monthly, N/A, None, Pays At Maturity, Quarterly, Semi-Annual, Variable\n",
    "coupon_frequency = \"Semi-Annual\""
   ]
  },
  {
   "cell_type": "code",
   "execution_count": null,
   "metadata": {
    "colab": {
     "base_uri": "https://localhost:8080/",
     "height": 882
    },
    "id": "5I_RzCXEXuBS",
    "outputId": "23cf19cc-a7d1-4ea6-a118-35303184d702"
   },
   "outputs": [],
   "source": [
    "# Selenium script\n",
    "options = Options()\n",
    "options.add_argument(\"--headless\")\n",
    "options.add_argument(\"--no-sandbox\")\n",
    "options.add_argument(\"--disable-dev-shm-usage\")\n",
    "driver = webdriver.Chrome(\n",
    "    service=Service(ChromeDriverManager().install()), options=options\n",
    ")\n",
    "\n",
    "# store starting time\n",
    "begin = time.time()\n",
    "\n",
    "# FINRA's TRACE Bond Center\n",
    "driver.get(\"http://finra-markets.morningstar.com/BondCenter/Results.jsp\")\n",
    "\n",
    "# click agree\n",
    "WebDriverWait(driver, 10).until(\n",
    "    EC.element_to_be_clickable((By.CSS_SELECTOR, \".button_blue.agree\"))\n",
    ").click()\n",
    "\n",
    "# click edit search\n",
    "WebDriverWait(driver, 10).until(\n",
    "    EC.element_to_be_clickable((By.CSS_SELECTOR, \"a.qs-ui-btn.blue\"))\n",
    ").click()\n",
    "\n",
    "# input Issuer Name\n",
    "WebDriverWait(driver, 10).until(\n",
    "    EC.presence_of_element_located((By.CSS_SELECTOR, \"input[id=firscreener-issuer]\"))\n",
    ")\n",
    "inputElement = driver.find_element_by_id(\"firscreener-issuer\")\n",
    "inputElement.send_keys(company_name)\n",
    "\n",
    "# input Symbol\n",
    "WebDriverWait(driver, 10).until(\n",
    "    EC.presence_of_element_located((By.CSS_SELECTOR, \"input[id=firscreener-cusip]\"))\n",
    ")\n",
    "inputElement = driver.find_element_by_id(\"firscreener-cusip\")\n",
    "inputElement.send_keys(company_ticker)\n",
    "\n",
    "# click advanced search\n",
    "WebDriverWait(driver, 10).until(\n",
    "    EC.element_to_be_clickable((By.CSS_SELECTOR, \"a.ms-display-switcher.hide\"))\n",
    ").click()\n",
    "\n",
    "# input Coupon Frequency\n",
    "WebDriverWait(driver, 10).until(\n",
    "    EC.presence_of_element_located((By.CSS_SELECTOR, \"select[name=interestFrequency]\"))\n",
    ")\n",
    "Select(\n",
    "    (driver.find_elements_by_css_selector(\"select[name=interestFrequency]\"))[0]\n",
    ").select_by_visible_text(coupon_frequency)\n",
    "\n",
    "# click show results\n",
    "WebDriverWait(driver, 10).until(\n",
    "    EC.element_to_be_clickable((By.CSS_SELECTOR, \"input.button_blue[type=submit]\"))\n",
    ").click()\n",
    "\n",
    "# wait for results\n",
    "WebDriverWait(driver, 10).until(\n",
    "    EC.presence_of_element_located(\n",
    "        (By.CSS_SELECTOR, \".rtq-grid-row.rtq-grid-rzrow .rtq-grid-cell-ctn\")\n",
    "    )\n",
    ")\n",
    "\n",
    "# create DataFrame from scrape\n",
    "frames = []\n",
    "for page in range(1, 11):\n",
    "    bonds = []\n",
    "    WebDriverWait(driver, 10).until(\n",
    "        EC.presence_of_element_located(\n",
    "            (By.CSS_SELECTOR, (f\"a.qs-pageutil-btn[value='{str(page)}']\"))\n",
    "        )\n",
    "    )  # wait for page marker to be on expected page\n",
    "    time.sleep(2)\n",
    "\n",
    "    headers = [\n",
    "        title.text\n",
    "        for title in driver.find_elements_by_css_selector(\n",
    "            \".rtq-grid-row.rtq-grid-rzrow .rtq-grid-cell-ctn\"\n",
    "        )[1:]\n",
    "    ]\n",
    "\n",
    "    tablerows = driver.find_elements_by_css_selector(\n",
    "        \"div.rtq-grid-bd > div.rtq-grid-row\"\n",
    "    )\n",
    "    for tablerow in tablerows:\n",
    "        tablerowdata = tablerow.find_elements_by_css_selector(\"div.rtq-grid-cell\")\n",
    "        bond = [item.text for item in tablerowdata[1:]]\n",
    "        bonds.append(bond)\n",
    "\n",
    "        # Convert to DataFrame\n",
    "        df = pd.DataFrame(bonds, columns=headers)\n",
    "\n",
    "    frames.append(df)\n",
    "\n",
    "    try:\n",
    "        driver.find_element_by_css_selector(\"a.qs-pageutil-next\").click()\n",
    "    except:  # noqa E722\n",
    "        break\n",
    "\n",
    "bond_prices_df = pd.concat(frames)\n",
    "\n",
    "# store end time\n",
    "end = time.time()\n",
    "\n",
    "# total time taken\n",
    "print(f\"Total runtime of the program is {end - begin} seconds\")\n",
    "\n",
    "bond_prices_df"
   ]
  },
  {
   "cell_type": "markdown",
   "metadata": {
    "id": "ZWwXJDPoXuBU",
    "tags": []
   },
   "source": [
    "## 3. Cleaning, Transforming, and Filtering\n",
    "\n",
    "We will now filter the corporate bond prices DataFrame to align with the purpose of this example using the code below."
   ]
  },
  {
   "cell_type": "code",
   "execution_count": null,
   "metadata": {
    "id": "vZMU2dKWXuBV"
   },
   "outputs": [],
   "source": [
    "def bond_dataframe_filter(df):\n",
    "    # Drop bonds with missing yields and missing credit ratings\n",
    "    df[\"Yield\"].replace(\"\", np.nan, inplace=True)\n",
    "    df[\"Moody's®\"].replace({\"WR\": np.nan, \"\": np.nan}, inplace=True)\n",
    "    df[\"S&P\"].replace({\"NR\": np.nan, \"\": np.nan}, inplace=True)\n",
    "    df = df.dropna(subset=[\"Yield\"])\n",
    "    df = df.dropna(subset=[\"Moody's®\"])\n",
    "    df = df.dropna(subset=[\"S&P\"])\n",
    "\n",
    "    # Create Maturity Years column that aligns with Semi-Annual Payments from corporate bonds\n",
    "    df[\"Yield\"] = df[\"Yield\"].astype(float)\n",
    "    df[\"Coupon\"] = df[\"Coupon\"].astype(float)\n",
    "    df[\"Price\"] = df[\"Price\"].astype(float)\n",
    "    now = dt.strptime(date.today().strftime(\"%m/%d/%Y\"), \"%m/%d/%Y\")\n",
    "    df[\"Maturity\"] = pd.to_datetime(df[\"Maturity\"]).dt.strftime(\"%m/%d/%Y\")\n",
    "    daystillmaturity = []\n",
    "    yearstillmaturity = []\n",
    "    for maturity in df[\"Maturity\"]:\n",
    "        daystillmaturity.append((dt.strptime(maturity, \"%m/%d/%Y\") - now).days)\n",
    "        yearstillmaturity.append((dt.strptime(maturity, \"%m/%d/%Y\") - now).days / 360)\n",
    "    df = df.reset_index(drop=True)\n",
    "    df[\"Maturity\"] = pd.Series(daystillmaturity)\n",
    "    #         `df['Maturity Years'] = pd.Series(yearstillmaturity).round()` # Better for Annual Payments\n",
    "    df[\"Maturity Years\"] = (\n",
    "        round(pd.Series(yearstillmaturity) / 0.5) * 0.5\n",
    "    )  # Better for Semi-Annual Payments\n",
    "\n",
    "    # Target bonds with short-term maturities\n",
    "    df[\"Maturity\"] = df[\"Maturity\"].astype(float)\n",
    "    years_mask = (df[\"Maturity Years\"] > 0) & (df[\"Maturity Years\"] <= 5)\n",
    "    df = df.loc[years_mask]\n",
    "    return df"
   ]
  },
  {
   "cell_type": "code",
   "execution_count": null,
   "metadata": {
    "colab": {
     "base_uri": "https://localhost:8080/",
     "height": 246
    },
    "id": "BWbL_ydTXuBW",
    "outputId": "109fe35e-7640-4a1c-ca3a-dfe8971c3166"
   },
   "outputs": [],
   "source": [
    "bond_df_result = bond_dataframe_filter(bond_prices_df)\n",
    "bond_df_result"
   ]
  },
  {
   "cell_type": "markdown",
   "metadata": {
    "id": "yHUxwvDRtmP-"
   },
   "source": [
    "Make sure that you review the documentation for the relevant code and are familiar with how the code above works; in particular, understand the following (and their parameters), as these will all serve you well when you clean, transform, and filter your data in the future (the related documentation is also required reading): \n",
    "\n",
    "df.dropna() <br>\n",
    "inplace <br>\n",
    "df.replace() <br>\n",
    "df['X'].astype() <br> \n",
    "pd.to_datetime() <br>\n",
    "df['X']).dt.strftime <br>\n",
    "and the code lines that involve the variable years_mask <br>\n",
    "\n",
    "Also, be sure to understand how df.values.tolist() works.<br>\n",
    "\n",
    "\n",
    "## 4. Conclusion\n",
    "\n",
    "In this lesson, we revisited the calculation for market-implied probability of default but in much more detail. We also downloaded price and rating information for bonds issued by a particular issuer from a well-regarded bond database, FINRA's TRACE. Once we downloaded it, we cleaned it, transformed some of the data related to bond maturity, and filtered the data so that we could focus our analysis on the bonds with shorter maturities.\n",
    "In the following lesson, we will take the next step toward calculating the market-implied probability of default by estimating the expected cashflows. Then, we can estimate the risk-adjusted discount rate, which equates the bond price to those expected cash flows.\n",
    "\n",
    "\n",
    "\n",
    "**References**\n",
    "\n",
    "* Donnelly, Hugh. \"Calculating a Company's Probability of Default with Python.\" AlphaWave Data. https://github.com/AlphaWaveData/Jupyter-Notebooks/blob/master/AlphaWave%20Market-Implied%20Probability%20of%20Default%20Example.ipynb.\n",
    "\n",
    "* van Gulik, Eltjo. \"Basic website performance testing with Python and Selenium.\" 19 Mar 2021. https://www.go-euc.com/basic-website-performance-testing/\n",
    "\n",
    "* Beygi, Sajjad et al. “Features of a Lifetime PD Model: Evidence from Public, Private, and Rated Firms.” Moody’s Analytics, May 2018.\n",
    "\n",
    "* The  code and related documentation used in this lesson is adapted from: <br>**Hugh Donnelly, CFA**<br>*AlphaWave Data* <br> **March 2021** under the following  MIT License:\n",
    "\n",
    "> Copyright (c) 2020 HDVI <br>Permission is hereby granted, free of charge, to any person obtaining a copy\n",
    "of this software and associated documentation files (the \"Software\"), to deal\n",
    "in the Software without restriction, including without limitation the rights\n",
    "to use, copy, modify, merge, publish, distribute, sublicense, and/or sell\n",
    "copies of the Software, and to permit persons to whom the Software is\n",
    "furnished to do so, subject to the following conditions:<br>The above copyright notice and this permission notice shall be included in all\n",
    "copies or substantial portions of the Software.<br>THE SOFTWARE IS PROVIDED \"AS IS\", WITHOUT WARRANTY OF ANY KIND, EXPRESS OR\n",
    "IMPLIED, INCLUDING BUT NOT LIMITED TO THE WARRANTIES OF MERCHANTABILITY,\n",
    "FITNESS FOR A PARTICULAR PURPOSE AND NONINFRINGEMENT. IN NO EVENT SHALL THE\n",
    "AUTHORS OR COPYRIGHT HOLDERS BE LIABLE FOR ANY CLAIM, DAMAGES OR OTHER\n",
    "LIABILITY, WHETHER IN AN ACTION OF CONTRACT, TORT OR OTHERWISE, ARISING FROM,\n",
    "OUT OF OR IN CONNECTION WITH THE SOFTWARE OR THE USE OR OTHER DEALINGS IN THE\n",
    "SOFTWARE.\n",
    "\n",
    "**Note:** The above MIT license notice is copied here to comply with its requirements, but it does **not** apply to the content in these lesson notes. \n",
    "\n",
    "\n",
    "\n"
   ]
  },
  {
   "cell_type": "markdown",
   "metadata": {},
   "source": [
    "---\n",
    "Copyright © 2022 WorldQuant University. This\n",
    "content is licensed solely for personal use. Redistribution or\n",
    "publication of this material is strictly prohibited.\n"
   ]
  }
 ],
 "metadata": {
  "colab": {
   "collapsed_sections": [],
   "name": "Financial Data_Module 5_Lesson 1.ipynb",
   "provenance": [],
   "toc_visible": true
  },
  "kernelspec": {
   "display_name": "Python 3 (ipykernel)",
   "language": "python",
   "name": "python3"
  },
  "language_info": {
   "codemirror_mode": {
    "name": "ipython",
    "version": 3
   },
   "file_extension": ".py",
   "mimetype": "text/x-python",
   "name": "python",
   "nbconvert_exporter": "python",
   "pygments_lexer": "ipython3",
   "version": "3.9.6"
  },
  "toc-autonumbering": false,
  "toc-showcode": true,
  "toc-showmarkdowntxt": false
 },
 "nbformat": 4,
 "nbformat_minor": 4
}
