{
 "cells": [
  {
   "cell_type": "markdown",
   "metadata": {
    "id": "ZsVRqyeT4i3U"
   },
   "source": [
    "\n",
    "## FINANCIAL DATA\n",
    "MODULE 4 | LESSON 3\n",
    "\n",
    "\n",
    "---\n"
   ]
  },
  {
   "cell_type": "markdown",
   "metadata": {
    "id": "veh7OORSFfpt"
   },
   "source": [
    "# **OPTION DATA AND ATTRIBUTES**"
   ]
  },
  {
   "cell_type": "markdown",
   "metadata": {
    "id": "J0Eiapu8FKcD"
   },
   "source": [
    "|  |  |\n",
    "|:---|:---|\n",
    "|**Reading Time** |  30- 40 minutes |\n",
    "|**Prior Knowledge** |Calls and Puts, Option Parameters, Option Payoffs, Option Prices, Option Strategies    |\n",
    "|**Keywords** |Open Interest, Put Call Parity Ratios, Bid-Ask Spread    |\n",
    "\n",
    "\n",
    "---"
   ]
  },
  {
   "cell_type": "markdown",
   "metadata": {
    "id": "3hBjA2Jk8Ulz"
   },
   "source": [
    "*In the previous lesson, we studied how options depend on the underlying parameters. In this lesson, we'll import option data: real-time pricing and attributes. We'll see the types of metadata available and how they relate to each other and option prices.*"
   ]
  },
  {
   "cell_type": "code",
   "execution_count": null,
   "metadata": {
    "id": "exE9eVte8L0Z"
   },
   "outputs": [],
   "source": [
    "import datetime\n",
    "\n",
    "import matplotlib.patches as mpatches\n",
    "import matplotlib.pyplot as plt\n",
    "import pandas as pd\n",
    "import yfinance as yf"
   ]
  },
  {
   "cell_type": "markdown",
   "metadata": {
    "id": "XM40l0Lp8L0b"
   },
   "source": [
    "## 1. Handling Option Complexity\n",
    "As an asset, options are N times more complicated than stocks\n",
    "(where N > 1 and is left up to you to determine the effects of \n",
    "non-linearity, leverage, kurtosis, hedging, model risk, and other issues).\n",
    "\n",
    "One of the reasons options are more complicated than stocks is the abundant array of options to choose from.\n",
    "\n",
    "Suppose you are bullish on Netflix (symbol = NFLX).\n",
    "(You may like the original series, and the wide variety of films, television series, and documentaries.)\n",
    "You can decide to buy the stock.\n",
    "But what if you decide to buy the option?\n",
    "Well, you will soon realize there are a multitude of options.\n",
    "\n",
    "So, the question is better phrased as, what if you decide to buy an option? Or even a set of options because some strategies involve multiple options?\n",
    "\n",
    "Remember, unless you are a volatility trader, when you trade options you need to get three things correct:\n",
    "1. Direction: based on what you choose between calls or puts\n",
    "2. Size: based on what you choose among strike levels\n",
    "3. Timing: based on what you choose among different expirations\n",
    "Let's count how many there are of each!"
   ]
  },
  {
   "cell_type": "markdown",
   "metadata": {
    "id": "5Yt4bql-8L0c"
   },
   "source": [
    "## 2. Importing Option Data"
   ]
  },
  {
   "cell_type": "markdown",
   "metadata": {
    "id": "Et7cMiTc8L0d"
   },
   "source": [
    "First, we'll refer to a function that helps not only to import option chain data but also to categorize and store it neatly.\n",
    "\n",
    "The function uses the Python package `yfinance`.\n",
    "It works with pandas Data Frames.\n",
    "It is used for loops, basic subsetting, and even lambda functions.\n",
    "Please do the required reading to ensure your knowledge of Python is complete and up-to-date.\n"
   ]
  },
  {
   "cell_type": "code",
   "execution_count": null,
   "metadata": {
    "id": "5lw0WuyL8L0e"
   },
   "outputs": [],
   "source": [
    "# https://medium.com/@txlian13/webscrapping-options-data-with-python-and-yfinance-e4deb0124613\n",
    "\n",
    "\n",
    "def options_chain(symbol):\n",
    "\n",
    "    tk = yf.Ticker(symbol)\n",
    "    # Expiration dates\n",
    "    exps = tk.options\n",
    "\n",
    "    # Get options for each expiration\n",
    "    options = pd.DataFrame()\n",
    "    for e in exps:\n",
    "        opt = tk.option_chain(e)\n",
    "        opt = pd.DataFrame().append(opt.calls).append(opt.puts)\n",
    "        opt[\"expirationDate\"] = e\n",
    "        options = options.append(opt, ignore_index=True)\n",
    "\n",
    "    # Bizarre error in `yfinance` that gives the wrong expiration date\n",
    "    # Add 1 day to get the correct expiration date\n",
    "    options[\"expirationDate\"] = pd.to_datetime(\n",
    "        options[\"expirationDate\"]\n",
    "    ) + datetime.timedelta(days=1)\n",
    "    options[\"dte\"] = (\n",
    "        options[\"expirationDate\"] - datetime.datetime.today()\n",
    "    ).dt.days / 365\n",
    "\n",
    "    # Boolean column if the option is a CALL\n",
    "    options[\"CALL\"] = options[\"contractSymbol\"].str[4:].apply(lambda x: \"C\" in x)\n",
    "\n",
    "    # options[['bid', 'ask', 'strike']] = options[['bid', 'ask', 'strike']].apply(pd.to_numeric)\n",
    "    options[[\"bid\", \"ask\", \"strike\", \"volume\", \"Implied Volatility\"]] = options[\n",
    "        [\"bid\", \"ask\", \"strike\", \"volume\", \"Implied Volatility\"]\n",
    "    ].apply(pd.to_numeric)\n",
    "    options[\"mark\"] = (\n",
    "        options[\"bid\"] + options[\"ask\"]\n",
    "    ) / 2  # Calculate the midpoint of the bid-ask\n",
    "\n",
    "    # Drop unnecessary and meaningless columns\n",
    "    options = options.drop(\n",
    "        columns=[\n",
    "            \"contractSize\",\n",
    "            \"currency\",\n",
    "            \"change\",\n",
    "            \"percentChange\",\n",
    "            \"lastTradeDate\",\n",
    "            \"lastPrice\",\n",
    "        ]\n",
    "    )\n",
    "\n",
    "    return options"
   ]
  },
  {
   "cell_type": "markdown",
   "metadata": {
    "id": "EM_r-FzO8L0f"
   },
   "source": [
    "## 3. Options Come in a Variety of Expiration Dates"
   ]
  },
  {
   "cell_type": "markdown",
   "metadata": {
    "id": "97u_1t0b8L0g"
   },
   "source": [
    "Now, let's count the number of different expiration dates."
   ]
  },
  {
   "cell_type": "code",
   "execution_count": null,
   "metadata": {
    "id": "XwctHul38L0h",
    "outputId": "15338a8c-35cb-4add-c20d-630735c48df9"
   },
   "outputs": [],
   "source": [
    "from yahoo_fin import options\n",
    "\n",
    "nflx_dates = options.get_expiration_dates(\"nflx\")\n",
    "len(nflx_dates)"
   ]
  },
  {
   "cell_type": "markdown",
   "metadata": {
    "id": "FK-X3rz58L0i"
   },
   "source": [
    "As of the time we ran this code, we have 15 different expiration dates.\n",
    "(You may have a different number.)\n",
    "Let's see how varied the dates are."
   ]
  },
  {
   "cell_type": "code",
   "execution_count": null,
   "metadata": {
    "colab": {
     "base_uri": "https://localhost:8080/",
     "height": 165
    },
    "id": "q83QmW5-8L0i",
    "outputId": "d48c2cf0-da0e-4a5c-954a-21b914af0ac7"
   },
   "outputs": [],
   "source": [
    "list(nflx_dates)"
   ]
  },
  {
   "cell_type": "markdown",
   "metadata": {
    "id": "0ND5cnZU8L0i"
   },
   "source": [
    "We notice that there are about six expiration dates that occur in 1-week intervals: 1-week options, 2-week options, 3-week options, 4-week options, 5-week options, and 6-week options. Then, they appear to be monthly, typically expiring the third Friday of the month. Then, there appear to be 1-year and perhaps even 2-year options. When you're bullish on Netflix, you will certainly want to know if you think the stock will increase within a few weeks for short-dated options or over longer periods of time for the longer-dated options.\n",
    "\n",
    "Next, let's get all the calls."
   ]
  },
  {
   "cell_type": "code",
   "execution_count": null,
   "metadata": {
    "id": "fGZZBnGM8L0j",
    "outputId": "d41cf94a-5622-4ca4-9e5b-92e7d23abb16"
   },
   "outputs": [],
   "source": [
    "try:\n",
    "    callsNflx = options.get_calls(\"nflx\")\n",
    "except:  # noQA E722\n",
    "    callsNflx = pd.read_csv(\"nflx_calls.csv\")\n",
    "\n",
    "list(callsNflx.columns)"
   ]
  },
  {
   "cell_type": "code",
   "execution_count": null,
   "metadata": {
    "id": "wJmb_Sox8L0j",
    "outputId": "2db057b0-431b-42b0-9962-5e1683959c3a"
   },
   "outputs": [],
   "source": [
    "callsNflx.head()"
   ]
  },
  {
   "cell_type": "code",
   "execution_count": null,
   "metadata": {
    "id": "0MM3kZLV8L0j",
    "outputId": "600622e0-fa8c-42c5-e382-e8be665bcca2"
   },
   "outputs": [],
   "source": [
    "callsNflx.dtypes"
   ]
  },
  {
   "cell_type": "markdown",
   "metadata": {
    "id": "uD_tazgm8L0k"
   },
   "source": [
    "There's lots of information available on options. Keep in mind the function used to collect them dropped some other columns that are not shown in this list.  The data we have on options includes:\n",
    "1. The Contract Name. This is similar to a CUSIP, ISIN, SEDOL, ticker, or identifier.\n",
    "2. The Last Trade Date. This is the date of the most recent activity. If an option is inactive, you may encounter a date from a long time ago.\n",
    "3. Strike. The strike level of the option.\n",
    "4. Last Price. Trades in the market occur at a specific price. This is the most recent one.\n",
    "5. Bid. Market participants willing to buy agree to do so at the bid price. This is a quote rather than a trade.\n",
    "6. Ask. Market participants willing to sell agree to do so at the ask price. This is also known as the offer price.  Again, this is quote data rather than trade data.\n",
    "Just to clarify: Last Price refers to data that actually traded. Bid and Ask refer to price levels offered by market makers to buy and sell, respectively.\n",
    "7. Change. This gives the change in price on the day.  Positive change means prices increased on the day; negative changes mean prices decreased.\n",
    "8. % Chg. This gives the percent change. This is usually more helpful than the level change because it is scaled relative to the option's price.\n",
    "9. Volume. This gives the number of contracts that traded today.\n",
    "10. Open Interest. This gives the number of contracts outstanding for that particular option. This is sometimes confused with volume.  \n",
    "11. Implied Volatility. Of all the option's inputs, volatility is the most important. The other numeric inputs, stock price, strike level, risk-free rate, and dividend yield, are easily observed in the market. The volatility is the one number that is key to the option's price. If we are given the price of an option, we can imply what volatility was used to achieve that price. This means that we had agreement on all the other parameters. When we imply the volatility from the option's price, we compute the implied probability.\n",
    "\n",
    "Let's start counting."
   ]
  },
  {
   "cell_type": "markdown",
   "metadata": {
    "id": "RDQQu5-j8L0k"
   },
   "source": [
    "## 4. Options Come in a Variety of Strikes"
   ]
  },
  {
   "cell_type": "markdown",
   "metadata": {
    "id": "mHrvTHRS8L0l"
   },
   "source": [
    "How many different strike levels are there?"
   ]
  },
  {
   "cell_type": "code",
   "execution_count": null,
   "metadata": {
    "id": "SjRIWGrM8L0l",
    "outputId": "5d19e1e1-7ea2-4f2b-f8c1-68c241e20b71"
   },
   "outputs": [],
   "source": [
    "numStrikes = callsNflx[\"Strike\"].count()\n",
    "numStrikes"
   ]
  },
  {
   "cell_type": "markdown",
   "metadata": {
    "id": "7L-09sEP8L0l"
   },
   "source": [
    "This great number of strikes is bewildering.  It can make the specific selection of an option's strike a daunting process.  Fortunately, if we  investigate the strikes, we see a lot of them are deep OTM or deep ITM."
   ]
  },
  {
   "cell_type": "code",
   "execution_count": null,
   "metadata": {
    "id": "HmmbWs1U8L0l",
    "outputId": "ea91362e-0c57-4c4a-d138-b5c024c8ff3d"
   },
   "outputs": [],
   "source": [
    "callsNflx[\"Strike\"]"
   ]
  },
  {
   "cell_type": "markdown",
   "metadata": {
    "id": "OfvI9v9b8L0m"
   },
   "source": [
    "At the time of writing, NFLX is 340.  However, you can find strikes ranging from 10 to 1050. The overwhelming majority of these are OTM."
   ]
  },
  {
   "cell_type": "markdown",
   "metadata": {
    "id": "jcURw4b-8L0m"
   },
   "source": [
    "## 5. Options Have Different Amounts of Open Interest"
   ]
  },
  {
   "cell_type": "markdown",
   "metadata": {
    "id": "1QryDlXH8L0m"
   },
   "source": [
    "An easy way to filter options is to examine their open interest.\n",
    "The open interest refers to the number of contracts in existence.  \n",
    "Unlike stocks, the open interest of options can change moment by moment.\n",
    "To issue a new option, a buyer and seller simply come to terms.  \n",
    "Effectively, there is as much supply as the sellers are willing to write.\n",
    "(Practically, they will want to have access to the underlying so they can properly hedge their exposures).\n",
    "Many of the strikes we examined have little or no open interest.\n",
    "That means, market makers are offering these securities, but there have been no contracts written yet.  Perhaps the combination of being far from the strike and the time to expiration being too soon means that there is little interest in hedging or speculating with these options."
   ]
  },
  {
   "cell_type": "code",
   "execution_count": null,
   "metadata": {
    "id": "jrDeSbtA8L0m"
   },
   "outputs": [],
   "source": [
    "callStrikes = list(callsNflx[\"Strike\"])\n",
    "callOpenInt = list(callsNflx[\"Open Interest\"])"
   ]
  },
  {
   "cell_type": "code",
   "execution_count": null,
   "metadata": {
    "id": "0JVRhqs_8L0m",
    "outputId": "3ff7fabc-e540-4382-cbba-45b01ac249b2"
   },
   "outputs": [],
   "source": [
    "plt.plot(callStrikes, callOpenInt)\n",
    "plt.xlabel(\"Call Strikes\")\n",
    "plt.ylabel(\"Call Open Interest\")"
   ]
  },
  {
   "cell_type": "code",
   "execution_count": null,
   "metadata": {
    "id": "yuIuMaOo8L0m",
    "outputId": "710dec36-5d10-499a-9129-88bce846b5a9"
   },
   "outputs": [],
   "source": [
    "plt.xlim([300, 500])\n",
    "plt.plot(callStrikes, callOpenInt)\n",
    "plt\n",
    "plt.xlabel(\"Strike\")\n",
    "plt.ylabel(\"Open Interest\")"
   ]
  },
  {
   "cell_type": "markdown",
   "metadata": {
    "id": "4Idvr9018L0n"
   },
   "source": [
    "A handful of options have the vast majority of open interest.  This means that when we move far from the strike, we see much less open activity."
   ]
  },
  {
   "cell_type": "markdown",
   "metadata": {
    "id": "0iEWpu_z8L0n"
   },
   "source": [
    "Options with low amounts of open interest are not liquid.  Recall from Financial Markets that we studied liquidity.  Think of each option as a vendor at an outdoor market.  Think of open interest as the number of customers who bought fruits and vegetables at this market.  \n",
    "A vendor with no customers is like an option with insufficient open interest.\n",
    "There are little to no option contracts written.\n",
    "Therefore, the markets are illiquid.  \n",
    "\n",
    "Unlike our outdoor market, the options market allows participants to buy and sell. For illiquid securities, there is likely going to be a large bid-ask spread. Those options will be unfavorable to trade due to the illiquidity."
   ]
  },
  {
   "cell_type": "markdown",
   "metadata": {
    "id": "gx5gm78s8L0n"
   },
   "source": [
    "So we have lots of calls. We could run through the same exercise for puts, but the results should be similar.  There would be a lot of strikes."
   ]
  },
  {
   "cell_type": "code",
   "execution_count": null,
   "metadata": {
    "id": "f7g7DpeP8L0n",
    "outputId": "954b0b29-1fe2-49e9-a890-3e54673d3c58"
   },
   "outputs": [],
   "source": [
    "try:\n",
    "    putsNflx = options.get_puts(\"nflx\")\n",
    "except:  # noqa E722\n",
    "    putsNflx = pd.read_csv(\"nflx_puts.csv\")\n",
    "\n",
    "for index in putsNflx.index:\n",
    "    if \"-\" == putsNflx[\"Volume\"][index]:\n",
    "        putsNflx.loc[index, \"Volume\"] = 0\n",
    "numPutStrikes = putsNflx[\"Strike\"].count()\n",
    "numPutStrikes"
   ]
  },
  {
   "cell_type": "code",
   "execution_count": null,
   "metadata": {
    "id": "cqykmRv68L0n",
    "outputId": "5118c0ba-dbf5-4b62-e7f6-6a1575b54485"
   },
   "outputs": [],
   "source": [
    "putStrikes = list(putsNflx[\"Strike\"])\n",
    "putOpenInt = list(putsNflx[\"Open Interest\"])\n",
    "plt.plot(putStrikes, putOpenInt)\n",
    "plt.xlabel(\"Put Strikes\")\n",
    "plt.ylabel(\"Put Open Interest\")"
   ]
  },
  {
   "cell_type": "markdown",
   "metadata": {
    "id": "KxQlylQA8L0o"
   },
   "source": [
    "Rather than plot all of the open interest amounts, let's just focus on the options near the current stock price."
   ]
  },
  {
   "cell_type": "code",
   "execution_count": null,
   "metadata": {
    "id": "hconJ9Mc8L0o",
    "outputId": "7deff1cb-7777-4dc4-e798-79d8c9e7ee99"
   },
   "outputs": [],
   "source": [
    "plt.xlim([300, 500])\n",
    "plt.plot(putStrikes, putOpenInt)\n",
    "plt.xlabel(\"Strike\")\n",
    "plt.ylabel(\"Open Interest\");"
   ]
  },
  {
   "cell_type": "markdown",
   "metadata": {
    "id": "9dsH-O_88L0o"
   },
   "source": [
    "## 6. Cleaning Volume"
   ]
  },
  {
   "cell_type": "markdown",
   "metadata": {
    "id": "rrMRSr178L0o"
   },
   "source": [
    "There's a problem with volume.  Contracts with no volume used '-' instead of 0.\n",
    "This data cleaning is an important step.  \n",
    "The following for loop will replace instances of '-' with a 0."
   ]
  },
  {
   "cell_type": "code",
   "execution_count": null,
   "metadata": {
    "id": "CKaG7TDG8L0o"
   },
   "outputs": [],
   "source": [
    "for index in callsNflx.index:\n",
    "    if \"-\" == callsNflx[\"Volume\"][index]:\n",
    "        callsNflx.loc[index, \"Volume\"] = 0"
   ]
  },
  {
   "cell_type": "markdown",
   "metadata": {
    "id": "VxiFp0UO8L0o"
   },
   "source": [
    "Now we convert the column to float."
   ]
  },
  {
   "cell_type": "code",
   "execution_count": null,
   "metadata": {
    "id": "VLmOYUio8L0o"
   },
   "outputs": [],
   "source": [
    "callsNflx.Volume = callsNflx.Volume.astype(float)"
   ]
  },
  {
   "cell_type": "markdown",
   "metadata": {
    "id": "EMdWNuj-8L0p"
   },
   "source": [
    "Let's do the same for puts: replace dashes and then convert to float."
   ]
  },
  {
   "cell_type": "code",
   "execution_count": null,
   "metadata": {
    "id": "XLCQ5m3X8L0p"
   },
   "outputs": [],
   "source": [
    "for index in putsNflx.index:\n",
    "    if \"-\" == putsNflx[\"Volume\"][index]:\n",
    "        putsNflx.loc[index, \"Volume\"] = 0\n",
    "\n",
    "putsNflx.Volume = putsNflx.Volume.astype(float)"
   ]
  },
  {
   "cell_type": "markdown",
   "metadata": {
    "id": "IcJJQpgG8L0p"
   },
   "source": [
    "Let's create simple lists so we can add them to a data frame later."
   ]
  },
  {
   "cell_type": "code",
   "execution_count": null,
   "metadata": {
    "id": "qEJJvArz8L0p"
   },
   "outputs": [],
   "source": [
    "callVolume = list(callsNflx[\"Volume\"])\n",
    "putVolume = list(putsNflx[\"Volume\"])"
   ]
  },
  {
   "cell_type": "markdown",
   "metadata": {
    "id": "6c8nOTyb8L0p"
   },
   "source": [
    " ## 7. Diving Deeper into Open Interest"
   ]
  },
  {
   "cell_type": "markdown",
   "metadata": {
    "id": "VOzHipW_8L0p"
   },
   "source": [
    "Let's dive deeper into open interest.\n",
    "We can start by graphing open interest for calls and puts across different strikes."
   ]
  },
  {
   "cell_type": "code",
   "execution_count": null,
   "metadata": {
    "id": "2X_NabpF8L0p"
   },
   "outputs": [],
   "source": [
    "callDf = pd.DataFrame()\n",
    "callDf[\"Strikes\"] = callStrikes\n",
    "callDf[\"CallOpenInt\"] = callOpenInt\n",
    "callDf[\"CallVolume\"] = callVolume\n",
    "putDf = pd.DataFrame()\n",
    "putDf[\"Strikes\"] = putStrikes\n",
    "putDf[\"PutOpenInt\"] = putOpenInt\n",
    "putDf[\"PutVolume\"] = putVolume"
   ]
  },
  {
   "cell_type": "markdown",
   "metadata": {
    "id": "MQr5tZLZ8L0p"
   },
   "source": [
    "Now let's merge the two data frames for strikes near the current stock price."
   ]
  },
  {
   "cell_type": "code",
   "execution_count": null,
   "metadata": {
    "id": "nfwj0OxG8L0p",
    "outputId": "fd7d4164-0b24-47c1-d0d3-95b40512a420"
   },
   "outputs": [],
   "source": [
    "df = callDf.merge(putDf)\n",
    "df = df[(df[\"Strikes\"] > 300) & (df[\"Strikes\"] < 400)]\n",
    "list(df.dtypes)"
   ]
  },
  {
   "cell_type": "code",
   "execution_count": null,
   "metadata": {
    "id": "U6J52AbZ8L0p",
    "outputId": "0a42f054-86cf-400c-d37e-44b6d99ed258"
   },
   "outputs": [],
   "source": [
    "plt.xlim([300, 400])\n",
    "plt.plot(list(df[\"Strikes\"]), list(df[\"CallOpenInt\"]))\n",
    "plt.plot(list(df[\"Strikes\"]), list(df[\"PutOpenInt\"]))\n",
    "plt.title(\"Open Interest vs. Strike Level\")\n",
    "plt.xlabel(\"Strike\")\n",
    "plt.ylabel(\"Open Interest\")\n",
    "patch1 = mpatches.Patch(color=\"blue\", label=\"Call Open Interest\")\n",
    "patch2 = mpatches.Patch(color=\"orange\", label=\"Put Open Interest\")\n",
    "plt.legend(handles=[patch1, patch2])"
   ]
  },
  {
   "cell_type": "markdown",
   "metadata": {
    "id": "HxmXiS6E8L0q"
   },
   "source": [
    "What is so interesting about open interest? \n",
    "Meaningful data ratios derive from these open interest numbers.\n",
    "Let's define one.\n",
    "Put Call Ratio of Open Interest = Put Open Interest / Call Open Interest\n",
    "\n",
    "Read the required reading to see how useful Open Interest can be in predicting the direction of a stock.\n",
    "How can we define a function for put call ratio?"
   ]
  },
  {
   "cell_type": "code",
   "execution_count": null,
   "metadata": {
    "id": "X3DhiXaB8L0q",
    "outputId": "2d2d59e1-fd49-4314-92d2-2a926b06294c"
   },
   "outputs": [],
   "source": [
    "def PutCallRatioOpenInterest(df):\n",
    "    pcroi = sum(df[\"PutOpenInt\"]) / sum(df[\"CallOpenInt\"])\n",
    "    return round(pcroi, 4)\n",
    "\n",
    "\n",
    "PutCallRatioOpenInterest(df)"
   ]
  },
  {
   "cell_type": "code",
   "execution_count": null,
   "metadata": {
    "id": "15n1ERSR8L0q",
    "outputId": "384dd767-c681-493d-df27-779e362e0f24"
   },
   "outputs": [],
   "source": [
    "def PutCallRatioVolume(df):\n",
    "    pcv = sum(df[\"PutVolume\"]) / sum(df[\"CallVolume\"])\n",
    "    return round(pcv, 4)\n",
    "\n",
    "\n",
    "PutCallRatioVolume(df)"
   ]
  },
  {
   "cell_type": "markdown",
   "metadata": {
    "id": "ZlB_9OW38L0q"
   },
   "source": [
    "## 8. Handling Python Data Structures"
   ]
  },
  {
   "cell_type": "code",
   "execution_count": null,
   "metadata": {
    "id": "bxnUG8928L0q",
    "outputId": "ecf6888d-9b2f-459a-8121-63c5acd1cb36"
   },
   "outputs": [],
   "source": [
    "info = {}\n",
    "for date in nflx_dates:\n",
    "    info[date] = options.get_options_chain(\"nflx\")\n",
    "type(info)"
   ]
  },
  {
   "cell_type": "markdown",
   "metadata": {
    "id": "0F4ORjU18L0q"
   },
   "source": [
    "Notice the familiar data structures.  Info is a dictionary.  It is keyed by the expiration date."
   ]
  },
  {
   "cell_type": "code",
   "execution_count": null,
   "metadata": {
    "id": "SJX2418u8L0q",
    "outputId": "b9837a6b-37a1-48fd-8e02-7341b8f77d86"
   },
   "outputs": [],
   "source": [
    "exp_dates = list(info.keys())\n",
    "exp_dates"
   ]
  },
  {
   "cell_type": "markdown",
   "metadata": {
    "id": "g5U77ivB8L0r"
   },
   "source": [
    "Let's extract one key by extracting one date."
   ]
  },
  {
   "cell_type": "code",
   "execution_count": null,
   "metadata": {
    "id": "DEpvCBwS8L0r",
    "outputId": "428fbecc-0a82-4f62-b9f3-e4fa8eda45cf"
   },
   "outputs": [],
   "source": [
    "z1 = info[exp_dates[0]]\n",
    "type(z1)"
   ]
  },
  {
   "cell_type": "code",
   "execution_count": null,
   "metadata": {
    "id": "3SQrh79W8L0r",
    "outputId": "f716e2ae-42c5-4829-ca8c-e8e497ee4c1d"
   },
   "outputs": [],
   "source": [
    "z1.keys()"
   ]
  },
  {
   "cell_type": "markdown",
   "metadata": {
    "id": "L-U8_QNS8L0r"
   },
   "source": [
    "We still have a dictionary. Let's get the calls."
   ]
  },
  {
   "cell_type": "code",
   "execution_count": null,
   "metadata": {
    "id": "ySJuo6hr8L0r",
    "outputId": "6ef814d7-0539-43a1-8d8d-3c6710f54bc4"
   },
   "outputs": [],
   "source": [
    "z2 = z1[\"calls\"]\n",
    "type(z2)"
   ]
  },
  {
   "cell_type": "markdown",
   "metadata": {
    "id": "kUgIb9q68L0r"
   },
   "source": [
    "Now, we have a data frame."
   ]
  },
  {
   "cell_type": "code",
   "execution_count": null,
   "metadata": {
    "id": "0Bvn7TtQ8L0r",
    "outputId": "db016abc-94ea-4a36-998b-54dc2c1bbd7a"
   },
   "outputs": [],
   "source": [
    "z2[\"Strike\"].count()\n",
    "z2.columns"
   ]
  },
  {
   "cell_type": "code",
   "execution_count": null,
   "metadata": {
    "id": "-BEsRQK98L0r",
    "outputId": "475becf6-dfe0-4481-b767-b413ce6cccdf"
   },
   "outputs": [],
   "source": [
    "z3 = z2[(z2[\"Strike\"] >= 330) & (z2[\"Strike\"] <= 350)]\n",
    "z3"
   ]
  },
  {
   "cell_type": "markdown",
   "metadata": {
    "id": "S_50beQZ8L0s"
   },
   "source": [
    "Let's compute the bid-ask spread."
   ]
  },
  {
   "cell_type": "code",
   "execution_count": null,
   "metadata": {
    "id": "z_5kfU5n8L0s",
    "outputId": "7c6efd74-519a-47d2-bf02-9c32b6fe5791"
   },
   "outputs": [],
   "source": [
    "# Compute the bid-ask spread\n",
    "z4 = z2[(z2[\"Strike\"] >= 300) & (z2[\"Strike\"] <= 400)]\n",
    "plt.plot(list(z4[\"Strike\"]), list(z4[\"Ask\"] - z4[\"Bid\"]))\n",
    "plt.title(\"Bid-Ask Spread as a Function of Strike\")\n",
    "plt.xlabel(\"Strike\")\n",
    "plt.ylabel(\"Bid-Ask Spread\")"
   ]
  },
  {
   "cell_type": "markdown",
   "metadata": {
    "id": "hnqoauHu8L0s"
   },
   "source": [
    "When we are OTM, the bid-ask spread is considerably higher.\n",
    "OTM calls tend to have very low liquidity.\n"
   ]
  },
  {
   "cell_type": "markdown",
   "metadata": {
    "id": "P_ZC607S8kBX"
   },
   "source": [
    "## 9. Conclusion\n",
    "In this lesson, we introduced Python functions to import option data. Unlike stock data, option data is messier because there are many options for a single stock: calls and puts, different strikes, and different expiration times. In the next lesson, we'll look at option strategies."
   ]
  },
  {
   "cell_type": "markdown",
   "metadata": {},
   "source": [
    "---\n",
    "Copyright © 2022 WorldQuant University. This\n",
    "content is licensed solely for personal use. Redistribution or\n",
    "publication of this material is strictly prohibited.\n"
   ]
  }
 ],
 "metadata": {
  "colab": {
   "collapsed_sections": [
    "RDQQu5-j8L0k",
    "jcURw4b-8L0m",
    "9dsH-O_88L0o",
    "6c8nOTyb8L0p",
    "ZlB_9OW38L0q",
    "P_ZC607S8kBX"
   ],
   "name": "DFT_Module 4_Lesson 3.ipynb",
   "provenance": []
  },
  "kernelspec": {
   "display_name": "Python 3 (ipykernel)",
   "language": "python",
   "name": "python3"
  },
  "language_info": {
   "codemirror_mode": {
    "name": "ipython",
    "version": 3
   },
   "file_extension": ".py",
   "mimetype": "text/x-python",
   "name": "python",
   "nbconvert_exporter": "python",
   "pygments_lexer": "ipython3",
   "version": "3.9.6"
  }
 },
 "nbformat": 4,
 "nbformat_minor": 4
}
