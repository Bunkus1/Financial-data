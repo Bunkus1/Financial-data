{
 "cells": [
  {
   "cell_type": "markdown",
   "metadata": {
    "id": "yERt3vcK4nKy"
   },
   "source": [
    "\n",
    "##FINANCIAL DATA\n",
    "MODULE 4 | LESSON 4\n",
    "\n",
    "\n",
    "---\n"
   ]
  },
  {
   "cell_type": "markdown",
   "metadata": {
    "id": "R1OMoku3H3jb"
   },
   "source": [
    "# **COMPARING LEVERAGED STRATEGIES**"
   ]
  },
  {
   "cell_type": "markdown",
   "metadata": {
    "id": "jPCRyZ1aH9LY"
   },
   "source": [
    "|  |  |\n",
    "|:---|:---|\n",
    "|**Reading Time** |  30 minutes |\n",
    "|**Prior Knowledge** |Option payoffs, Option pricing using Python, Option strategies, P&L concepts, Leverage     |\n",
    "|**Keywords** |Bull Spread    |\n",
    "\n",
    "\n",
    "---"
   ]
  },
  {
   "cell_type": "markdown",
   "metadata": {
    "id": "o_sOpsPh4oOm"
   },
   "source": [
    "\n",
    "*In the previous module, we showed how to get option data imported into Python. This data included not only price, but bid and ask levels, volume and open interest, and implied volatility, among other fields. In this lesson, we compare different ways to enact a bullish trade, using different combinations of stocks, options, and leverage.*"
   ]
  },
  {
   "cell_type": "markdown",
   "metadata": {
    "id": "GdKZVi7O4AWh"
   },
   "source": [
    "## 1. Importing Real-Time Data"
   ]
  },
  {
   "cell_type": "markdown",
   "metadata": {
    "id": "4cNDRHig4AWj"
   },
   "source": [
    "In this lesson, let's get some real-time pricing of stocks and options."
   ]
  },
  {
   "cell_type": "code",
   "execution_count": null,
   "metadata": {
    "id": "TSdptucC4AWk"
   },
   "outputs": [],
   "source": [
    "import math\n",
    "\n",
    "import opstrat as op\n",
    "import pandas as pd\n",
    "import pandas_datareader as pdr\n",
    "from optionprice import Option"
   ]
  },
  {
   "cell_type": "code",
   "execution_count": null,
   "metadata": {
    "id": "IMKdD5qE4AWl",
    "outputId": "81eb9e29-58fb-4228-a011-78ead834711c"
   },
   "outputs": [],
   "source": [
    "# https://analyticsindiamag.com/top-python-libraries-to-get-historical-stock-data-with-code/\n",
    "# Alpha vintage\n",
    "myApiKey = \"O2ZMKAVEVDVQ4RWF\"\n",
    "\n",
    "ts = pdr.av.time_series.AVTimeSeriesReader(\"NFLX\", api_key=myApiKey)\n",
    "df = ts.read()\n",
    "df.index = pd.to_datetime(df.index, format=\"%Y-%m-%d\")\n",
    "# plotting the opening and closing value\n",
    "df[[\"close\"]].plot()"
   ]
  },
  {
   "cell_type": "markdown",
   "metadata": {
    "id": "YEAdGHmf4AWm"
   },
   "source": [
    "## 2. Overview of Strategies"
   ]
  },
  {
   "cell_type": "markdown",
   "metadata": {
    "id": "NTJK-E--4AWm"
   },
   "source": [
    "Suppose we have \\$100,000 to invest in a bullish strategy for Netflix.\n",
    "\n",
    "1. Buy stock using cash.\n",
    "2. Buy stock on margin.\n",
    "3. Buy a call option.\n",
    "4. Buy a bull spread (buy call at K, sell call at K+d).\n",
    "\n",
    "How much data do we need?\n",
    "In all cases, we certainly need to know the current stock price, specifically the ask price.\n",
    "For the cash stock strategies, all we need to know is the current ask price.\n",
    "For the financed stock strategy, we also need to know the financing rate.\n",
    "For the option strategies, we need to know the option chain."
   ]
  },
  {
   "cell_type": "markdown",
   "metadata": {
    "id": "5Hbli7Mo4AWm"
   },
   "source": [
    "## 3. Stock Strategy"
   ]
  },
  {
   "cell_type": "markdown",
   "metadata": {
    "id": "EDGPbwh84AWn"
   },
   "source": [
    "First, we'll begin with the stock strategy.\n",
    "Let's suppose you buy NFLX at 333, and you plan to sell it at 345."
   ]
  },
  {
   "cell_type": "code",
   "execution_count": null,
   "metadata": {
    "id": "oXSEvBfl4AWn"
   },
   "outputs": [],
   "source": [
    "nflx0 = 333\n",
    "nflx1 = 345"
   ]
  },
  {
   "cell_type": "code",
   "execution_count": null,
   "metadata": {
    "id": "6gVlLQeZ4AWo"
   },
   "outputs": [],
   "source": [
    "def BuyShares(capital, sharePrice):\n",
    "    return math.floor(capital / sharePrice)"
   ]
  },
  {
   "cell_type": "code",
   "execution_count": null,
   "metadata": {
    "id": "GYkkVlVi4AWo",
    "outputId": "714f792c-8f32-40a3-cb05-c0f10046338d"
   },
   "outputs": [],
   "source": [
    "myCapital = 100000\n",
    "numShares = BuyShares(myCapital, nflx0)\n",
    "numShares"
   ]
  },
  {
   "cell_type": "code",
   "execution_count": null,
   "metadata": {
    "id": "yuNTiQfB4AWo"
   },
   "outputs": [],
   "source": [
    "def CalculatePnL(sellPrice, buyPrice, numShares):\n",
    "    return round(numShares * (sellPrice - buyPrice), 2)"
   ]
  },
  {
   "cell_type": "markdown",
   "metadata": {
    "id": "Njk2_V-v4AWp"
   },
   "source": [
    "You can buy 300 shares"
   ]
  },
  {
   "cell_type": "code",
   "execution_count": null,
   "metadata": {
    "id": "4XO02avO4AWp",
    "outputId": "10ff4f59-252f-415b-801b-b3fcb6b6d0b2"
   },
   "outputs": [],
   "source": [
    "cashStockPnL = CalculatePnL(nflx1, nflx0, numShares)\n",
    "cashStockPnL"
   ]
  },
  {
   "cell_type": "markdown",
   "metadata": {
    "id": "J8ATe5oH4AWp"
   },
   "source": [
    "You made \\$3,600. Let's write a quick function to compute percent return."
   ]
  },
  {
   "cell_type": "code",
   "execution_count": null,
   "metadata": {
    "id": "aowhIab14AWp"
   },
   "outputs": [],
   "source": [
    "def CalculatePctReturn(fundsOut, fundsIn):\n",
    "    return round(fundsOut / fundsIn * 100, 2)"
   ]
  },
  {
   "cell_type": "code",
   "execution_count": null,
   "metadata": {
    "id": "wTte4tlL4AWq",
    "outputId": "031b3047-2905-411e-bbc5-ac0984e2ed48"
   },
   "outputs": [],
   "source": [
    "CalculatePctReturn(cashStockPnL, myCapital)"
   ]
  },
  {
   "cell_type": "markdown",
   "metadata": {
    "id": "TJvsG4it4AWq"
   },
   "source": [
    "The stock increased (345-333)/333 = 3.6%\n",
    "You bought the stock cash.\n",
    "Your investment earned 3.6%\n",
    "This is an example of no leverage.\n",
    "All the other examples involve some form of leverage.\n",
    "Consequently, they will have higher returns due to that leverage."
   ]
  },
  {
   "cell_type": "markdown",
   "metadata": {
    "id": "WqKIdMzD4AWq"
   },
   "source": [
    "## 4. Financed Stock Strategy"
   ]
  },
  {
   "cell_type": "markdown",
   "metadata": {
    "id": "6pmInhbX4AWq"
   },
   "source": [
    "Let's write a short function to calculate functions for buying stocks with borrowed funds."
   ]
  },
  {
   "cell_type": "code",
   "execution_count": null,
   "metadata": {
    "id": "vWBGvmn-4AWq"
   },
   "outputs": [],
   "source": [
    "def FinanceShares(capital, sharePrice, financePct=0.50):\n",
    "    return BuyShares(capital / financePct, sharePrice)"
   ]
  },
  {
   "cell_type": "code",
   "execution_count": null,
   "metadata": {
    "id": "CBA9blwQ4AWq",
    "outputId": "daf9c28e-1b5a-4162-e2c8-dc08c3d48cf4"
   },
   "outputs": [],
   "source": [
    "# We can finance 50% of our purchase.\n",
    "numLvgShares = FinanceShares(myCapital, nflx0)\n",
    "lvgPnL = CalculatePnL(nflx1, nflx0, numLvgShares)\n",
    "lvgPnL"
   ]
  },
  {
   "cell_type": "code",
   "execution_count": null,
   "metadata": {
    "id": "vrUSxlKl4AWq",
    "outputId": "9874fe8f-4f3e-46f6-a7e0-19226f4bc796"
   },
   "outputs": [],
   "source": [
    "CalculatePctReturn(lvgPnL, myCapital)"
   ]
  },
  {
   "cell_type": "markdown",
   "metadata": {
    "id": "-sxFPv8z4AWr"
   },
   "source": [
    "## 5. Call Option Strategy"
   ]
  },
  {
   "cell_type": "markdown",
   "metadata": {
    "id": "CSsew-SD4AWr"
   },
   "source": [
    "For the call option strategy, we have to select a call and an expiration date.\n",
    "Clearly, there are many choices.\n",
    "Suppose we think the stock will increase \\$10.\n",
    "\n",
    "It is prudent to purchase a call that is OTM (strike above the current stock, but not more than \\$10; otherwise, it will not be ITM.\n"
   ]
  },
  {
   "cell_type": "code",
   "execution_count": null,
   "metadata": {
    "id": "Ib1-qh8D4AWr",
    "outputId": "dbc83232-5afe-4623-f2a2-5618a58b0986"
   },
   "outputs": [],
   "source": [
    "from yahoo_fin import options\n",
    "\n",
    "nflx_dates = options.get_expiration_dates(\"nflx\")\n",
    "print(len(nflx_dates))\n",
    "\n",
    "try:\n",
    "    callsNflx = options.get_calls(\"nflx\")\n",
    "except:  # noQA E722\n",
    "    callsNflx = pd.read_csv(\"nflx_calls.csv\")\n",
    "\n",
    "    list(callsNflx.columns)"
   ]
  },
  {
   "cell_type": "markdown",
   "metadata": {
    "id": "UEn5GThq4AWr"
   },
   "source": [
    "Let's choose a call option with a strike of 340."
   ]
  },
  {
   "cell_type": "code",
   "execution_count": null,
   "metadata": {
    "id": "6axyzp5J4AWr",
    "outputId": "a4dffff4-6f55-4fdc-b57d-97631e7a9715"
   },
   "outputs": [],
   "source": [
    "myOption = callsNflx[(340 == callsNflx[\"Strike\"])]\n",
    "opt = myOption[\"Last Price\"]\n",
    "myOption"
   ]
  },
  {
   "cell_type": "code",
   "execution_count": null,
   "metadata": {
    "id": "gYgI5GSH4AWr",
    "outputId": "ba576633-d8e8-4069-ee30-83dc16fc479f"
   },
   "outputs": [],
   "source": [
    "nflxCall1 = Option(\n",
    "    european=True, kind=\"call\", s0=333, k=340, t=4, sigma=0.573, r=0.0, dv=0\n",
    ")\n",
    "nflxOpt1 = round(nflxCall1.getPrice(), 4)\n",
    "round(nflxOpt1 * 100, 2)"
   ]
  },
  {
   "cell_type": "code",
   "execution_count": null,
   "metadata": {
    "id": "Q4vdymvH4AWs",
    "outputId": "24ccfbe1-fcbc-4c25-9a5f-412653e4c3d4"
   },
   "outputs": [],
   "source": [
    "# The option will cost 100 times this, or $503.\n",
    "nflxOpt1 = 503\n",
    "numCallOptions = BuyShares(myCapital, nflxOpt1)\n",
    "numCallOptions"
   ]
  },
  {
   "cell_type": "markdown",
   "metadata": {
    "id": "l6-Cn3484AWs"
   },
   "source": [
    "We can buy 198 options; that's a lot of options! Now the stock price jumps to 345. Let's revalue the option at this new price."
   ]
  },
  {
   "cell_type": "code",
   "execution_count": null,
   "metadata": {
    "id": "9u7ca35F4AWs",
    "outputId": "c9272db9-83a5-4668-ea8c-90480a18db27"
   },
   "outputs": [],
   "source": [
    "nflxCall2 = Option(\n",
    "    european=True, kind=\"call\", s0=345, k=340, t=4, sigma=0.573, r=0.0, dv=0\n",
    ")\n",
    "nflxOpt2 = round(nflxCall2.getPrice(), 4)\n",
    "round(nflxOpt2 * 100, 2)"
   ]
  },
  {
   "cell_type": "markdown",
   "metadata": {
    "id": "s9h8vPrE4AWs"
   },
   "source": [
    "Let's calculate the P&L."
   ]
  },
  {
   "cell_type": "code",
   "execution_count": null,
   "metadata": {
    "id": "vSH4Qeyl4AWs",
    "outputId": "f5969050-ffeb-4c3c-ab73-86c87626b69f"
   },
   "outputs": [],
   "source": [
    "optPnL = CalculatePnL(nflxOpt2, nflxOpt1, numCallOptions)\n",
    "optPnL"
   ]
  },
  {
   "cell_type": "markdown",
   "metadata": {
    "id": "l0l4MDl_4AWs"
   },
   "source": [
    "Now, calculate the return."
   ]
  },
  {
   "cell_type": "code",
   "execution_count": null,
   "metadata": {
    "id": "FXHBJzn54AWs",
    "outputId": "0aeaefc8-88b7-4306-cf2e-3ff7f3654073"
   },
   "outputs": [],
   "source": [
    "CalculatePctReturn(optPnL, myCapital)"
   ]
  },
  {
   "cell_type": "markdown",
   "metadata": {
    "id": "2olIIvTW4AWs"
   },
   "source": [
    "## 6. Bull Spread Strategy"
   ]
  },
  {
   "cell_type": "markdown",
   "metadata": {
    "id": "HXrCh3IJ4AWs"
   },
   "source": [
    "In this strategy, we buy a call option at 340 and sell one at 350.\n",
    "Let's price these options."
   ]
  },
  {
   "cell_type": "code",
   "execution_count": null,
   "metadata": {
    "id": "BqvXA-Tg4AWs",
    "outputId": "9ec9347a-625d-48eb-b183-183c087c5d14"
   },
   "outputs": [],
   "source": [
    "nflxCall1 = Option(\n",
    "    european=True, kind=\"call\", s0=333, k=340, t=4, sigma=0.573, r=0.0, dv=0\n",
    ")\n",
    "nflxOpt1 = round(nflxCall1.getPrice(), 4)\n",
    "nflxCall2 = Option(\n",
    "    european=True, kind=\"call\", s0=333, k=350, t=4, sigma=0.573, r=0.0, dv=0\n",
    ")\n",
    "nflxOpt2 = round(nflxCall2.getPrice(), 4)\n",
    "print([nflxOpt1, nflxOpt2])\n",
    "nflxSpr1 = nflxOpt1 - nflxOpt2"
   ]
  },
  {
   "cell_type": "markdown",
   "metadata": {
    "id": "TmOqU8bI4AWt"
   },
   "source": [
    "Let's use the `opstrat` package to view the payoff of the bull strategy."
   ]
  },
  {
   "cell_type": "code",
   "execution_count": null,
   "metadata": {
    "id": "Sur7DL9N4AWt",
    "outputId": "24c34f11-b133-4f9d-f7a0-2353900fdb7a"
   },
   "outputs": [],
   "source": [
    "myCall = {\"op_type\": \"c\", \"strike\": 340, \"tr_type\": \"b\", \"op_pr\": 5.0306}\n",
    "myPut = {\"op_type\": \"c\", \"strike\": 350, \"tr_type\": \"s\", \"op_pr\": 3.4836}\n",
    "op_list = [myCall, myPut]\n",
    "op.multi_plotter(spot=333, spot_range=10, op_list=op_list)"
   ]
  },
  {
   "cell_type": "markdown",
   "metadata": {
    "id": "U3F6c5304AWt"
   },
   "source": [
    "For each call option we buy, we need to sell one.\n",
    "The sale creates \\\\$233.33 per contract.\n",
    "The purchase costs \\\\$503.06 per contract.\n",
    "Therefore, the net price is \\\\$269.73.\n",
    "The bull spread costs a little more than half the amount that the regular call option costs. This is because we are \"rebated\" by selling a call that is further OTM."
   ]
  },
  {
   "cell_type": "code",
   "execution_count": null,
   "metadata": {
    "id": "WKBeTdZx4AWt",
    "outputId": "504886fa-1060-474a-ced5-0cee8f99c718"
   },
   "outputs": [],
   "source": [
    "# The option will cost 100 times this, or $269.73\n",
    "nflxOptB = (nflxOpt1 - nflxOpt2) * 100\n",
    "numSpreadOptions = BuyShares(myCapital, nflxOptB)\n",
    "numSpreadOptions"
   ]
  },
  {
   "cell_type": "code",
   "execution_count": null,
   "metadata": {
    "id": "xOgjNEK04AWt",
    "outputId": "1a00413b-460d-4dbb-eaed-4e55f4749a35"
   },
   "outputs": [],
   "source": [
    "nflxCall3 = Option(\n",
    "    european=True, kind=\"call\", s0=345, k=340, t=4, sigma=0.573, r=0.0, dv=0\n",
    ")\n",
    "nflxOpt3 = round(nflxCall3.getPrice(), 4)\n",
    "nflxCall4 = Option(\n",
    "    european=True, kind=\"call\", s0=345, k=350, t=4, sigma=0.573, r=0.0, dv=0\n",
    ")\n",
    "nflxOpt4 = round(nflxCall4.getPrice(), 4)\n",
    "print([nflxOpt3, nflxOpt4])\n",
    "nflxSpr2 = nflxOpt3 - nflxOpt4"
   ]
  },
  {
   "cell_type": "code",
   "execution_count": null,
   "metadata": {
    "id": "XGdAtmWT4AWt",
    "outputId": "3dc430be-cfcb-4d92-fb1d-798d01b62fea"
   },
   "outputs": [],
   "source": [
    "sprPnL = CalculatePnL(nflxSpr2, nflxSpr1, numCallOptions)\n",
    "sprPnL"
   ]
  },
  {
   "cell_type": "code",
   "execution_count": null,
   "metadata": {
    "id": "BKufUX6L4AWt",
    "outputId": "94a6018c-e45e-47c8-9aa4-0b22e5d3379d"
   },
   "outputs": [],
   "source": [
    "CalculatePctReturn(sprPnL, myCapital)"
   ]
  },
  {
   "cell_type": "markdown",
   "metadata": {
    "id": "k4rH7uS54AWt"
   },
   "source": [
    "## 7. Leverage"
   ]
  },
  {
   "cell_type": "markdown",
   "metadata": {
    "id": "698xG9CF4AWt"
   },
   "source": [
    "Stock              3.6%\n",
    "Financed Stock     7.2%\n",
    "Call Option       117.4%\n",
    "Bull Spread       43.5%     \n",
    "\n",
    "Keep in mind that these options expire in four days.\n",
    "If the price does not move that much in a short time, we stand to lose 100% of the option investment. This is extremely risky.\n",
    "Of course, we could find options that have more time to expiration, which\n",
    "would be more expensive to buy but less risky since the extra time allows more volatility to take place.\n",
    "\n",
    "Nevertheless, the results are evident.\n",
    "The most leveraged position is the call option: It has the highest return.\n",
    "Options have built-in leverage because they control 100 shares of stock.\n",
    "\n",
    "The next most leveraged position is the bull spread: It has a long call option but is hedged by selling another call option. This limits the upside but is cheaper than merely buying the call option.\n",
    "\n",
    "The next most leveraged position is using the underlying. Borrowing money to buy assets is a different type of leverage; rather than through a multiplier, it is simply through the fact that the invested funds should earn a higher rate of return than the borrowed funds.\n",
    "\n",
    "The unleveraged position is simply trading the underlying without any financing. Leveraged returns attract institutional money for the potential of greater returns. Looking at data, such as the put call open interest ratio, tells us how the option traders are behaving through market data.\n",
    "\n",
    "There is much more data than just prices and returns. When you use derivatives, there are extraordinary amounts of data that indicate both sentiment and fear in the market. In future courses, we'll examine these in more detail, especially when we study implied volatility.\n"
   ]
  },
  {
   "cell_type": "markdown",
   "metadata": {
    "id": "toYWRcC35bJH"
   },
   "source": [
    "## 8. Conclusion\n",
    "\n",
    "In this lesson, we compared different ways to enact a bullish trade, using different combinations of stocks, options, and leverage. Leverage can work through borrowed funds or through a derivative controlling a multitude of underlying assets. In the next module, we expand our knowledge of Python to areas of securitization and credit."
   ]
  },
  {
   "cell_type": "markdown",
   "metadata": {},
   "source": [
    "---\n",
    "Copyright © 2022 WorldQuant University. This\n",
    "content is licensed solely for personal use. Redistribution or\n",
    "publication of this material is strictly prohibited.\n"
   ]
  }
 ],
 "metadata": {
  "colab": {
   "name": "DFT_Module 4_Lesson 4.ipynb",
   "provenance": []
  },
  "kernelspec": {
   "display_name": "Python 3 (ipykernel)",
   "language": "python",
   "name": "python3"
  },
  "language_info": {
   "codemirror_mode": {
    "name": "ipython",
    "version": 3
   },
   "file_extension": ".py",
   "mimetype": "text/x-python",
   "name": "python",
   "nbconvert_exporter": "python",
   "pygments_lexer": "ipython3",
   "version": "3.9.6"
  }
 },
 "nbformat": 4,
 "nbformat_minor": 4
}
