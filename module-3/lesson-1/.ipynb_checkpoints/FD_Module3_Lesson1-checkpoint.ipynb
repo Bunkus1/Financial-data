{
 "cells": [
  {
   "cell_type": "markdown",
   "metadata": {},
   "source": [
    "## FINANCIAL DATA\n",
    "\n",
    "MODULE 3 | LESSON 1\n",
    "\n",
    "\n",
    "---\n"
   ]
  },
  {
   "cell_type": "markdown",
   "metadata": {},
   "source": [
    "# CALCULATING PORTFOLIO RISK/RETURN STATISTICS"
   ]
  },
  {
   "cell_type": "markdown",
   "metadata": {},
   "source": [
    "|  |  |\n",
    "|:---|:---|\n",
    "|**Reading Time** |  40 minutes |\n",
    "|**Prior Knowledge** | Simple Stock Returns, Variance, Python, Linear Algebra, Matrix Multiplication  |\n",
    "|**Keywords** | Portfolio Return, Variance, Sharpe Ratio |\n",
    "\n",
    "---"
   ]
  },
  {
   "cell_type": "markdown",
   "metadata": {},
   "source": [
    "*The previous module had a focus on the individual security. For this lesson, we take what we have learned previously and apply it to a portfolio setting using a basket of stocks/crypto.*"
   ]
  },
  {
   "cell_type": "code",
   "execution_count": null,
   "metadata": {},
   "outputs": [],
   "source": [
    "import datetime\n",
    "import math\n",
    "\n",
    "import numpy as np\n",
    "import pandas_datareader.data as web\n",
    "from IPython.display import VimeoVideo"
   ]
  },
  {
   "cell_type": "markdown",
   "metadata": {},
   "source": [
    "## 1. Portfolio Returns\n",
    "Up to this point in the course, we've spent our time analyzing individual securities. Today, we perform a similar analysis except using a portfolio of assets. We will first quickly recap how to determine return on investment for a single asset, General Electric (GE).\n",
    "\n",
    "### 1.1 Single Asset Return Recap\n",
    "We will assume we bought 100 shares 10 years ago. To determine the cash return, we just need to use the following formula:\n",
    "\n",
    "$r_f = (p_f - p_i) * 100$"
   ]
  },
  {
   "cell_type": "code",
   "execution_count": null,
   "metadata": {},
   "outputs": [],
   "source": [
    "start = datetime.date(2011, 11, 29)\n",
    "end = datetime.date(2021, 11, 28)"
   ]
  },
  {
   "cell_type": "code",
   "execution_count": null,
   "metadata": {},
   "outputs": [],
   "source": [
    "# start = datetime.date.today()-datetime.timedelta(365*10)\n",
    "# end = datetime.date.today()\n",
    "prices = web.DataReader([\"GE\"], \"yahoo\", start, end)[\"Adj Close\"]"
   ]
  },
  {
   "cell_type": "code",
   "execution_count": null,
   "metadata": {},
   "outputs": [],
   "source": [
    "start = datetime.date.today() - datetime.timedelta(365 * 10)\n",
    "end = datetime.date.today()\n",
    "prices = web.DataReader([\"GE\"], \"yahoo\", start, end)[\"Adj Close\"]\n",
    "initialPrice = prices.GE[0]\n",
    "finalPrice = prices.GE[-1]\n",
    "cashReturn = (finalPrice - initialPrice) * 100\n",
    "print(\n",
    "    \"With an initial investment of $%.2f, the cash return of this investment would be %.3f - %.3f * 100 = $%.3f\"\n",
    "    % (initialPrice * 100, finalPrice, initialPrice, cashReturn)\n",
    ")"
   ]
  },
  {
   "cell_type": "markdown",
   "metadata": {},
   "source": [
    "### 1.2 How to Calculate Return with a Basket of Assets\n",
    "We’ve now gone over returns of a single asset many times during this course. It’s time to apply similar logic to a basket of multiple assets. This will once again be best illustrated with an example. The following calculations can easily be extended to n number of securities, but to keep it simple, we will use two for our example. For this, we need to make some basic assumptions:\n",
    "\n",
    "* 2 stocks\n",
    "    * Meta—We will refer to it as its previous name from here on out: Facebook (FB) \n",
    "    * Chipotle (CMG)\n",
    "* Bought 100 shares of each five years ago\n",
    "* Goal: Calculate percentage return obtained by the portfolio at the end of the period\n",
    "\n",
    "To start, we need to calculate the weights of each asset at the start of the period:"
   ]
  },
  {
   "cell_type": "code",
   "execution_count": null,
   "metadata": {},
   "outputs": [],
   "source": [
    "# Define all initial variables\n",
    "# start = datetime.date.today()-datetime.timedelta(365*5)\n",
    "# end = datetime.date.today()\n",
    "start = datetime.date(2016, 11, 29)\n",
    "end = datetime.date(2021, 11, 28)\n",
    "prices = web.DataReader([\"FB\", \"CMG\"], \"yahoo\", start, end)[\"Adj Close\"]\n",
    "initialFB = prices.FB[0]\n",
    "initialCMG = prices.CMG[0]\n",
    "finalFB = prices.FB[-1]\n",
    "finalCMG = prices.CMG[-1]\n",
    "FBWeight = initialFB / (initialFB + initialCMG)\n",
    "CMGWeight = initialCMG / (initialFB + initialCMG)\n",
    "\n",
    "print(\n",
    "    \"We have an initial investment in FB of $%.2f and in CMG $%.2f\"\n",
    "    % (initialFB * 100, initialCMG * 100)\n",
    ")"
   ]
  },
  {
   "cell_type": "code",
   "execution_count": null,
   "metadata": {},
   "outputs": [],
   "source": [
    "print(\n",
    "    \"This would make the weights %.2f and %.2f for FB and CMG respectively\"\n",
    "    % (FBWeight, CMGWeight)\n",
    ")"
   ]
  },
  {
   "cell_type": "markdown",
   "metadata": {},
   "source": [
    "### 1.3 Final Returns\n"
   ]
  },
  {
   "cell_type": "markdown",
   "metadata": {},
   "source": [
    "In order to calculate the final portfolio percentage returns, we need to find the returns of each asset individually, multiply the return by the weight in our portfolio, and then add them together. The formula to calculate this for two assets is:\n",
    "\n",
    "$Portfolio_{Return} = w_1R_1 + w_2R_2$"
   ]
  },
  {
   "cell_type": "code",
   "execution_count": null,
   "metadata": {},
   "outputs": [],
   "source": [
    "returnFB = 100 * (finalFB - initialFB) / initialFB\n",
    "returnCMG = 100 * (finalCMG - initialCMG) / initialCMG"
   ]
  },
  {
   "cell_type": "code",
   "execution_count": null,
   "metadata": {},
   "outputs": [],
   "source": [
    "print(\n",
    "    \"This return over this period for Facebook is %.2f%% and %.2f%% for Chipotle\"\n",
    "    % (returnFB, returnCMG)\n",
    ")"
   ]
  },
  {
   "cell_type": "code",
   "execution_count": null,
   "metadata": {},
   "outputs": [],
   "source": [
    "print(\n",
    "    \"Multiplying these individual returns by their weights gives %.2f (FB) and %.2f (CMG)\"\n",
    "    % (returnFB * FBWeight, returnCMG * CMGWeight)\n",
    ")"
   ]
  },
  {
   "cell_type": "markdown",
   "metadata": {},
   "source": [
    "Adding these weighted returns together gives us a portfolio return of 41.14+250.35 = 291.49% "
   ]
  },
  {
   "cell_type": "markdown",
   "metadata": {},
   "source": [
    "Our portfolio would have returned 291.49% over the last five years, assuming we invested in both assets on the same starting date and with our weights.\n",
    "\n",
    "In the first video of this lesson, we show how to transition from calculating an individual security's returns to calculating the returns of a portfolio of assets."
   ]
  },
  {
   "cell_type": "code",
   "execution_count": null,
   "metadata": {},
   "outputs": [],
   "source": [
    "VimeoVideo(\"706655699\", h=\"1a478ba2bf\", width=600)"
   ]
  },
  {
   "cell_type": "markdown",
   "metadata": {},
   "source": [
    "##### [Access video transcript here](https://drive.google.com/file/d/1XBLrPLm9xtBfS74KK2xve2TuU5Ci9ZOf/view?usp=sharing)"
   ]
  },
  {
   "cell_type": "markdown",
   "metadata": {},
   "source": [
    "## 2. Calculating Portfolio Variance\n",
    "This was discussed at a high level during the Financial Markets course, but here, we will show how to calculate variance in Python with empirical data. While returns are important, investors are also concerned about risk or volatility. We will use variance of returns to determine risk. Once again, we will use an example, using the same data as before to drive the point home. A bit of linear algebra is needed, but luckily, we have Python to do the tough calculations for us. \n",
    "\n",
    "If we were to calculate this for two assets using pencil and paper, we could use the following formula:\n",
    "\n",
    "$\\textrm{Portfolio variance} = w_1^2\\sigma_1^2 + w_2^2\\sigma_2^2 + 2w_1w_2Cov_{1,2}$\n",
    "\n",
    "Where:\n",
    "\n",
    "* $w_1$ = the portfolio weight of the first asset\n",
    "\n",
    "* $w_2$ = the portfolio weight of the second asset\n",
    "\n",
    "* $\\sigma_1$ = the standard deviation of the first asset\n",
    "\n",
    "* $\\sigma_2$ = the standard deviation of the second asset\n",
    "\n",
    "* $Cov_{1,2} = \\textrm{the covariance of the two assets, which can thus be expressed as } \\rho_{(1,2)}\\sigma_1\\sigma_2, \\textrm{where }\\rho_{(1,2)} \\textrm{is the correlation coefficient between the two assets}$\n",
    "\n",
    "\n",
    "\n",
    "Luckily, Python makes it easy for us to expand the formula to n number of assets. This formula is better expressed in matrix notation since it's easier to apply this way in Python: \n",
    "\n",
    "$Portfolio Variance = Weights transposed * (covariance matrix) * weights$\n",
    "\n",
    "### 2.1 Defining Variables\n",
    "Let's put those portfolio weights we calculated before into an array and also calculate the simple daily returns of our asset along with a covariance matrix of these daily returns. Keep in mind that we will multiply the daily returns covariance matrix by 252 to measure annual variance.\n",
    "\n"
   ]
  },
  {
   "cell_type": "code",
   "execution_count": null,
   "metadata": {},
   "outputs": [],
   "source": [
    "weights = np.array([0.23, 0.77])\n",
    "returns = prices.pct_change()\n",
    "covariance = 252 * returns.cov()"
   ]
  },
  {
   "cell_type": "markdown",
   "metadata": {},
   "source": [
    "After defining these, we simply need to take the dot product of the transposed weights with the dot product of the covariance matrix and weights to get the annual variance of our portfolio. Note: The t-method in numpy just transposes the array."
   ]
  },
  {
   "cell_type": "code",
   "execution_count": null,
   "metadata": {},
   "outputs": [],
   "source": [
    "variance = np.dot(weights.T, np.dot(covariance, weights))\n",
    "\n",
    "# Print the result\n",
    "print(str(np.round(variance, 4) * 100) + \"%\")"
   ]
  },
  {
   "cell_type": "markdown",
   "metadata": {},
   "source": [
    "We determine that the annual variance of our portfolio is 10.33%. Let’s compare this to the variance of each individual asset.\n",
    "\n",
    "### 2.2 Comparing Portfolio Variance to Individual Stock Variance\n",
    "This shows the annual variance of a portfolio with FB and CMG weighted 23% and 77% respectively has shown a 10.33% annual variance over the last five years.\n",
    "\n",
    "One extremely interesting byproduct of this result can be seen when calculating variance of the equities individually. One of the main pillars of modern portfolio theory is about how diversification reduces risk. We can see this clear as day by looking at each stock's variance over the same time period."
   ]
  },
  {
   "cell_type": "code",
   "execution_count": null,
   "metadata": {},
   "outputs": [],
   "source": [
    "returns.var() * 252"
   ]
  },
  {
   "cell_type": "markdown",
   "metadata": {},
   "source": [
    "We can see in above that both stocks' variance is higher than that of our portfolio, and even though CMG has a 77% weighting and a 13.7% variance, our portfolio's variance is more than 3 percentage points lower. This is because, if assets are not perfectly correlated, there will be some diversification benefit to risk by investing in multiple securities."
   ]
  },
  {
   "cell_type": "markdown",
   "metadata": {},
   "source": [
    "### 2.3 Calculating Standard Deviation of the Portfolio\n",
    "Taking this a step further, since we know standard deviation is just the square root of variance, we can also calculate that here.\n",
    "\n",
    "The below calculation shows the annual standard deviation of our portfolio to be about 32%:"
   ]
  },
  {
   "cell_type": "code",
   "execution_count": null,
   "metadata": {},
   "outputs": [],
   "source": [
    "np.round(math.sqrt(variance) * 100, 2)"
   ]
  },
  {
   "cell_type": "markdown",
   "metadata": {},
   "source": [
    "Just like with the last video where we moved from thinking about individual stocks to a basket of stocks, we do the same here in order to calculate variance and standard deviation of returns for a portfolio."
   ]
  },
  {
   "cell_type": "code",
   "execution_count": null,
   "metadata": {},
   "outputs": [],
   "source": [
    "VimeoVideo(\"706655745\", h=\"8aa2f6d895\", width=600)"
   ]
  },
  {
   "cell_type": "markdown",
   "metadata": {},
   "source": [
    "##### [Access video transcript here](https://drive.google.com/file/d/1GJfJMRmDvKy1Hd8eUWL8VeGQcuwAsR-I/view?usp=sharing)"
   ]
  },
  {
   "cell_type": "markdown",
   "metadata": {},
   "source": [
    "## 3. Sharpe Ratio of Portfolio\n",
    "Calculating the Sharpe ratio of a portfolio is pretty easy at this point since we have all the variables we need at our disposal. As a recap, the Sharpe ratio is just:\n",
    "\n",
    "$\\cfrac{Portfolio_{Return} - \\textrm{risk-free rate}}{Portfolio_{StandardDev}}$\n",
    "\n",
    "Since interest rates have been near 0 for a while now, we will assume 0 for the risk-free rate. Our formula is now: \n",
    "\n",
    "$\\cfrac{\\textrm{Portfolio}_{Return}}{\\textrm{Portfolio}_{StandardDev}}$\n",
    "\n",
    "We have calculated the total return of our portfolio over five years to be 291.49%. To get a single-year return, we can divide this number by 5 to get 58.298%. Considering our annual standard deviation is 32.01%, we can get the Sharpe ratio by dividing these two numbers to get 1.821 as the Sharpe ratio for our portfolio. In most cases, a Sharpe ratio over 1 is an exceptional risk/return metric. This makes sense considering how advantageous investments in Chipotle or Facebook would have been if you had invested in them five years ago.\n",
    "\n",
    "\n",
    "\n",
    "## 4. Performing Similar Analysis on Cryptocurrencies\n",
    "We will use the two most popular cryptocurrencies to perform a similar analysis, and we will compare and contrast them to the equity results we have obtained. We'll perform the analysis over the same time frame (the last five years) for the two most popular cryptocurrencies: Bitcoin and Ethereum. This time, let's say we bought five Bitcoin and 100 Ethereum five years ago."
   ]
  },
  {
   "cell_type": "code",
   "execution_count": null,
   "metadata": {},
   "outputs": [],
   "source": [
    "# Define all initial variables\n",
    "# start = datetime.date.today()-datetime.timedelta(365*5)\n",
    "# end = datetime.date.today()\n",
    "start = datetime.date(2016, 11, 29)\n",
    "end = datetime.date(2021, 11, 28)\n",
    "prices = web.DataReader([\"BTC-USD\", \"ETH-USD\"], \"yahoo\", start, end)[\"Adj Close\"]\n",
    "prices = prices.rename(columns={\"BTC-USD\": \"Bitcoin\", \"ETH-USD\": \"Ethereum\"})\n",
    "\n",
    "initialBTC = 5 * prices.Bitcoin[0]\n",
    "initialETH = 100 * prices.Ethereum[0]\n",
    "finalBTC = 10 * prices.Bitcoin[-1]\n",
    "finalETH = 100 * prices.Ethereum[-1]\n",
    "BTCWeight = initialBTC / (initialBTC + initialETH)\n",
    "ETHWeight = initialETH / (initialBTC + initialETH)"
   ]
  },
  {
   "cell_type": "code",
   "execution_count": null,
   "metadata": {},
   "outputs": [],
   "source": [
    "print(\n",
    "    \"This would make the weights %.2f and %.2f for Bitcoin and Ethereum respectively\"\n",
    "    % (BTCWeight, ETHWeight)\n",
    ")"
   ]
  },
  {
   "cell_type": "code",
   "execution_count": null,
   "metadata": {},
   "outputs": [],
   "source": [
    "returnBTC = 100 * (finalBTC - initialBTC) / initialBTC\n",
    "returnETH = 100 * (finalETH - initialETH) / initialETH"
   ]
  },
  {
   "cell_type": "code",
   "execution_count": null,
   "metadata": {},
   "outputs": [],
   "source": [
    "np.round(returnBTC, 3)"
   ]
  },
  {
   "cell_type": "code",
   "execution_count": null,
   "metadata": {},
   "outputs": [],
   "source": [
    "np.round(returnETH, 3)"
   ]
  },
  {
   "cell_type": "markdown",
   "metadata": {},
   "source": [
    "Now, our returns for the stock portfolio were high, but this takes it to another level: Bitcoin and Ethereum have shown unprecedented returns over the last five years. Bitcoin returned 15,616.76% and Ethereum has returned 54,280.23%. If we keep using our portfolio weights from before, our portfolio would have returned 22,647.01%"
   ]
  },
  {
   "cell_type": "code",
   "execution_count": null,
   "metadata": {},
   "outputs": [],
   "source": [
    "np.round(returnBTC * BTCWeight + returnETH * ETHWeight, 3)"
   ]
  },
  {
   "cell_type": "markdown",
   "metadata": {},
   "source": [
    "### 4.1 Calculating Variance for Cryptos\n",
    "Notice instead of multiplying by 252 like we did previously to annualize our variance, we use 365 here since cryptos trade seven days a week:"
   ]
  },
  {
   "cell_type": "code",
   "execution_count": null,
   "metadata": {},
   "outputs": [],
   "source": [
    "weights = np.array([0.82, 0.18])\n",
    "returns = prices.pct_change()\n",
    "covariance = 365 * returns.cov()\n",
    "variance = np.dot(weights.T, np.dot(covariance, weights))\n",
    "print(str(np.round(variance, 3) * 100) + \"%\")"
   ]
  },
  {
   "cell_type": "markdown",
   "metadata": {},
   "source": [
    "We get 63.6% variance for our portfolio, which translates to an annual standard deviation of 79.73%. Even though we were in relatively risky stocks, the standard deviation of that portfolio (32.14%) pales in comparison to this. Even though it's riskier, the crypto portfolio also returned a much higher rate. This illustrates a classic financial principle: With more risk, there is more potential return. Can you think of one simple way we can compare the portfolios taking into account risk AND return?\n",
    "\n",
    "Yes, that's right, we can go back to the trusty Sharpe ratio."
   ]
  },
  {
   "cell_type": "markdown",
   "metadata": {},
   "source": [
    "### 4.2 Sharpe Ratio Comparison\n",
    "The Sharpe ratio of our stock portfolio was 1.821. If we run the same calculation on our crypto portfolio we get:\n",
    "\n",
    "22647.01/5 = 4,529.40% as our annual percentage return. If we divide this by the standard deviation we get:\n",
    "\n",
    "45.294/.7973 = 56.81 Sharpe Ratio\n",
    "\n",
    "This is a truly outstanding Sharpe ratio, and it's obvious at this point that if you had invested in Bitcoin or Ethereum five years ago and held it today, you're in very good shape. While this would've been a great investment, hindsight is 20/20, and it must be said that just because the last five years had incredible returns, it does not mean the next five years will."
   ]
  },
  {
   "cell_type": "markdown",
   "metadata": {},
   "source": [
    "## 5. Conclusion\n",
    "\n",
    "During this lesson, we hint and imply that diversifying reduces risk in a portfolio. In the next lesson, we will prove it by quantifying the benefits of diversification."
   ]
  }
 ],
 "metadata": {
  "kernelspec": {
   "display_name": "Python 3 (ipykernel)",
   "language": "python",
   "name": "python3"
  },
  "language_info": {
   "codemirror_mode": {
    "name": "ipython",
    "version": 3
   },
   "file_extension": ".py",
   "mimetype": "text/x-python",
   "name": "python",
   "nbconvert_exporter": "python",
   "pygments_lexer": "ipython3",
   "version": "3.9.7"
  }
 },
 "nbformat": 4,
 "nbformat_minor": 4
}
