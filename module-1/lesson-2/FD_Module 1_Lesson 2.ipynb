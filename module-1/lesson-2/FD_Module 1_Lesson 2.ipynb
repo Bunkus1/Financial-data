{
 "cells": [
  {
   "cell_type": "markdown",
   "metadata": {
    "id": "0MvCEl5LNRrq"
   },
   "source": [
    "## FINANCIAL DATA\n",
    "MODULE 1 | LESSON 2\n",
    "\n",
    "\n",
    "---\n"
   ]
  },
  {
   "cell_type": "markdown",
   "metadata": {
    "id": "as2FdIOUNXiu"
   },
   "source": [
    "# **TYPES OF FINANCIAL DATA**\n"
   ]
  },
  {
   "cell_type": "markdown",
   "metadata": {
    "id": "GRC8IJq0NZx_"
   },
   "source": [
    "\n",
    "|  |  |\n",
    "|:---|:---|\n",
    "|**Reading Time** |  40 minutes |\n",
    "|**Prior Knowledge** | Equities, Bonds, Credit Risk, Fundamental Analysis, Technical Analysis  |\n",
    "|**Keywords** | Structured Data, Unstructured Data, Alternative Data |\n",
    "\n",
    "\n",
    "---"
   ]
  },
  {
   "cell_type": "markdown",
   "metadata": {
    "id": "A2zo_qdDAbla"
   },
   "source": [
    "*The previous  lesson introduced the macroeconomic view of data as it affects interest rates.  It also covered the role of liquidity in markets, as measured by the bid-ask spread.   This lesson will drill down into the specific types of data we want to collect: structured, unstructured, and semi-structured data.  It will also address 10 question you can ask about the data you collect.*"
   ]
  },
  {
   "cell_type": "markdown",
   "metadata": {
    "id": "89zTQRDQGqqV"
   },
   "source": [
    "## **1. Types of Data for Equities**\n",
    "\n",
    "\n",
    "\n",
    "In this first section, think of all the types of data that you can collect pertaining to equity markets. Note that each of these fields has associated with it an observation time.\n",
    "1. Prices. Price data tends to be continuous and strictly positive.\n",
    "\n",
    "2. Issuance. Issuance data tends to be continuous and positive, reflecting a number of outstanding shares.\n",
    "\n",
    "\n",
    "3. Quotes. Quote data refers to a lot of information. At any given time, there is a picture of the limit order book. This includes prices, sizes, and sides (buy or sell) for many different price levels. If any market maker adds, deletes, or changes a price, size, or side, then the quote data is updated. Indeed, there can be thousands and thousands of quotes per second if market makers are aggressively updating their trade blotter thanks to high-frequency algorithms.\n",
    "\n",
    "4. Industry Classifications. This data is largely categorical and does not change over time. An exception would be if a company entered into a new industry.\n",
    "\n",
    "5. Index Memberships. This data is effectively binary (in or out of a membership) and largely time invariant between index rebalances. However, periodically some indices do get redefined, at which points names are deleted from the index (+1 becomes 0) and some names are added to the index (0 becomes +1). Indeed, a classic equity trading strategy is predicting the additions and deletions to an index like the Russell 5000. Typically, stocks that are added tend to have a short-term gain (due to many participants buying the stock so they can track the index). Likewise, stocks that are deleted from the index tend to have a short-term loss due to many participants selling the stock since they no longer need it to track the index.\n",
    "\n",
    "6. Returns. These are derived from consecutive prices to produce daily returns. While these may use logs or percent, the key is ensuring that the returns are measured using key levels--like official closes.  \n",
    "\n",
    "7. Volatilities(realized, implied ATM, implied OTM). These should be strictly positive, but also need to take into account that their sizes reflect the period to which they apply -- daily volatilities, in other words, are smaller than weekly volatilities, which are smaller than annual volatilities, etc.\n",
    "\n",
    "8. Skew.  This is a difficult thing to measure because, as stock prices change, the particular strikes that are in the money and out of the money also change. Moneyness is the ratio of strike level to current stock price. So skew needs to track a moving target of moneyness and the option volatilities at those levels.\n",
    "\n",
    "9. Financing Costs. This is also difficult because financing can be issue-specific. In other words, a given stock or a specific bond from an issuer can have a very high financing cost due to the supply being quite limited.  When items go \"on special,\" they become very expensive to finance.\n",
    "\n",
    "10. Portfolio Fees. This is an example of data that may contain hybrid data. The fees could be based on both trading activity and on assets under management. Fees may not seem important, but when backtests are run and all costs are included, the fees could turn an otherwise profitable strategy into an unprofitable one!"
   ]
  },
  {
   "cell_type": "markdown",
   "metadata": {
    "id": "GvqhAqGUPy80"
   },
   "source": [
    "## **2. Types of Data for Bonds and Other Assets**\n",
    "\n",
    "Similarly, there are lots of different data to get from bond markets.\n",
    "1. Bond Yields (continuous, largely positive)\n",
    "2. Bond Carry\n",
    "3. Bond Financing\n",
    "4. Bond Issuance\n",
    "5. Bond Spreads\n",
    "6. Issuer  \n",
    "7. Credit Ratings (ordered categories, time variant)\n",
    "8. Default Probabilities (0 to 1)\n",
    "9. Recovery Rates (0 to 1)\n",
    "10. Default Correlations (-1 to 1, but typically positive)\n",
    "\n",
    "Notice that the last 3 variables are noticeably bounded.  Probabilities and recovery rates are effectively percentages that must lie within the range of 0 to 1 inclusive. Likewise, default correlations are in a band of minus 1 to plus 1. However, negative default correlations among assets in the same market are uncommon.  "
   ]
  },
  {
   "cell_type": "code",
   "execution_count": null,
   "metadata": {},
   "outputs": [],
   "source": [
    "# Let's use the investpy package to get Argentinian bond data.\n",
    "import investpy\n",
    "\n",
    "data = investpy.get_bond_historical_data(\n",
    "    bond=\"Argentina 3Y\", from_date=\"01/01/2018\", to_date=\"31/12/2021\"\n",
    ")\n",
    "data.head()"
   ]
  },
  {
   "cell_type": "markdown",
   "metadata": {
    "id": "WgMSB32lQdi7"
   },
   "source": [
    "## **3. Other Types of Data**\n",
    "\n",
    "Within any asset class, there are multitudes of fundamental and technical factors: price-to-earnings ratio, upper Bollinger band, etc. In fact, we could list hundreds of these factors! Why are there so many?\n",
    "Consider the moving average.\n",
    "You could have a 5-day moving average (MA)\n",
    "You could have a 20-day moving average (MA).\n",
    "You could have an indicator that determines if the 20-day MA is above, equal, or below the 5-day MA.\n",
    "You could have an exponentially weighted moving average.\n",
    "With this short example, we could vary the length (5-day versus 20-day), the calculation (simple MA versus exponential MA), or the relationship (the crossover).\n",
    "\n",
    "\n",
    "In addition to traditional data, there is also the availability of alternative data. This includes\n",
    "1. headlines\n",
    "2. news articles\n",
    "3. analyst recommendations\n",
    "4. social media content\n",
    "5. social media traffic (e.g., number of tweets)\n",
    "6. reviews\n",
    "\n",
    "This data tends to be non-numeric, non-rectangular, and very much in need of processing before it can be useful."
   ]
  },
  {
   "cell_type": "markdown",
   "metadata": {
    "id": "h5n43TYbRYEM"
   },
   "source": [
    "## **4. Structured Data**\n",
    "\n",
    "Broadly speaking, there are two types of data.\n",
    "Typically, structured data is rectangular. It can be organized into rows and columns. Rows reflect observation times. Columns represent variables.\n",
    "For example, you could have a 1000 by 50 matrix of stock prices. One thousand rows represents approximately 4 years worth of daily closes (i.e., business days). Fifty columns represent the 50 stocks within an exchange-traded fund.  \n",
    "This data can easily be stored thanks to a friendly structure.\n",
    "One row gives you a snapshot of the portfolio at a particular moment in time--known as a cross-section.\n",
    "One column gives you a \"movie\" of a stock over four years--known as a time series.\n",
    "\n",
    "In this example, the difference between observations is effectively the same--one business day (even though they may range from one calendar day for weekdays to three calendar days for the weekend, or even four calendar days for three-day weekends).\n",
    "\n",
    "It is also possible to have structured data where the observation times form an irregular time series. For example, if these 1000 points reflect intraday observation times, then the time itself could be a variable.\n",
    "\n",
    "In Python, structured data can be handled by a variety of data structures, but pandas data frames are often the best choice."
   ]
  },
  {
   "cell_type": "markdown",
   "metadata": {
    "id": "IpasLfiaRfJs"
   },
   "source": [
    "## **5. Unstructured Data**\n",
    "Most financial data is numeric, but of course there is also non-numerical data. These data types include social media posts, review sites, photographs, audio, and video files.  If you are pricing weather derivatives, perhaps satellite photos of weather are considered key data. If you are monitoring particular companies, perhaps the sentiment from Facebook, Twitter, or other social media sites reflect the short-term optimism about the stock. Likewise, you might examine customer reviews on Yelp or Instagram for photographs from satisfied users to determine product adoption, popularity and brand loyalty, and customer churning. Indeed, much of machine learning takes inputs from this type of data and builds models known as sentiment analysis. Unstructured data is not as easy to store as structured data, due to the unconventional, non-rectangular format.  \n",
    "\n",
    "In Python, unstructured data can be handled by dictionaries and lists, which can allow for flexible keys, data types, and data lengths."
   ]
  },
  {
   "cell_type": "markdown",
   "metadata": {
    "id": "nLmewkjzRjmr"
   },
   "source": [
    "## **6. Semistructured Data**\n",
    "Data forms a spectrum ranging from unstructured to structured. We can consider a category in between. For example, emails are semi-structured: They have well-defined fields but are unstructured within given fields.  \n",
    "\n",
    "In Python, semi-structured data can be handled by a combination of data structures. It is difficult to give a specific rule, but Python certainly has a variety of data structures to handle this."
   ]
  },
  {
   "cell_type": "markdown",
   "metadata": {
    "id": "1AFjx36zSG6j"
   },
   "source": [
    "## **7. Know Your Data**\n",
    "\n",
    "In finance, when you deal with customers, there's an acronym, KYC: Know Your Customer.\n",
    "In financial engineering, when you deal with data, we can create an analogous acronym, KYD: Know Your Data.\n",
    "\n",
    "Here are 10 questions you can ask about the data you collect and intend to use for financial models.\n",
    "\n",
    "1. Does the data have predefined fields?\n",
    "2. Is the data scaled?\n",
    "3. is the data bounded?\n",
    "4. Is the data observable?\n",
    "5. Does the data comes from a trade, a limit order book, or neither?\n",
    "6. Is the data quantitative, qualitative, or a hybrid?\n",
    "7. Is it continuous or categorical?\n",
    "8. If it is non-numerical, are there language issues?\n",
    "9. Was the data collected at the frequency with which it was produced?\n",
    "10. Was the data cleaned or checked from the vendor?\n",
    "\n",
    "\n",
    "Let's review these.\n",
    "1. When data has predefined fields, the data structure is easier to identify and maintain. When data lacks predefined fields, a looser data structure is needed.\n",
    "\n",
    "2. Some data is best left in its raw form, while other data may need to be scaled. Scaling could be as simple as a log transformation or a volume-weighting applied to the price to produce a Volume Weighted Average Price, or VWAP.  \n",
    "\n",
    "3. If data is bounded, then we should acknowledge the lowest possible value and the largest possible value the data could have. If we measured probabilities, then we would expect no value to be negative and no value to be greater than 1. Suppose missing values were coded with -99. Clearly, we would need to recognize this as a missing value and not as data. This is often the mistake with importing data.\n",
    "\n",
    "4. Many financial data series are directly observable-- like stock prices, stock volumes, bond issuance, etc.  Ironically, not all data is directly observable. For example, number of defaults may not be made available, as some data is proprietary. Some data may only be visible based on a given model--for example, default probabilities are not directly observable in the market but are values implied or outputted by credit risk models. The choice of credit risk model will very much affect the default probability we see. The same is true for certain types of volatility--they are not directly observable.\n",
    "\n",
    "5. Be sure to distinguish trade data--values at which buyers and sellers transacted--versus quote data, which are bids, asks, and their sizes. When the bid-ask spread is wide, the midquote, which is the average of the bid and ask, may not be a good representative of the price.\n",
    "\n",
    "6. Clearly, qualitative data needs to be processed and interpreted, either through text mining, sentiment analysis, or some other means.\n",
    "\n",
    "7.  Much of financial data series are actually categorical. For example, credit spreads are categorical and ordered as well. Others are merely categorical, such as industry classifications. It is easy to confuse the two types when the categories are listed as numbers.  \n",
    "\n",
    "8. Non-standard data is complicated by the fact that it may be in different languages. Sentiment analysis needs to account for the parts of language, such as metaphors, figures of speech, expressions, idioms, multiple negations, sarcasms, and even emojis.\n",
    "\n",
    "9. For exchanges, there is often a wealth of data provided--closing prices, top of book, and various depths of book data bundles. If you are an infrequent trader, say in your own retirement account, you may be inundated by high-frequency data, which provides too much information and would require enormous processing just to make sense at a scale that is more appropriate to the trading decisions you would make. Conversely, daily data would be inappropriate for a market maker.  Market makers are subject to intraday volatility because they have to make two-sided markets throughout the day.  The volatility at the daily level is too low a frequency to capture what could be a significant event.\n",
    "\n",
    "10. If you assume data is cleaned from the vendor, then you invite the vendor's gaps, omissions, oversights, misprints, mixups, transpositions into your data, as well as errors in transferring and importing from their side to yours.  \n",
    "One way to clean data is to have redundant sources.  Imagine you had four sources to tell you a stock's price.  Any discrepancies can be identified and handled manually; even better, rules and filters can be applied so that data seems to agree with itself.\n",
    "\n",
    "\n",
    "\n"
   ]
  },
  {
   "cell_type": "markdown",
   "metadata": {
    "id": "-HVxVWWhAtNo"
   },
   "source": [
    "## **8. Conclusion**\n",
    "This lesson outlined the types of data for the major asset classes--stocks and bonds--and categorized different types of structured and unstructured data. It concluded by addressing 10 questions you can ask about your data. In the next lesson, we look at working with securities data. "
   ]
  },
  {
   "cell_type": "markdown",
   "metadata": {},
   "source": [
    "**References**\n",
    "\n",
    "- Del Canto, Alvaro Bartolome. “Investpy - Financial Data Extraction from Investing.Com with Python.” *Investpy*, GitHub, https://investpy.readthedocs.io/_info/installation.html. Accessed 4 May 2022."
   ]
  },
  {
   "cell_type": "markdown",
   "id": "817572e4",
   "metadata": {},
   "source": [
    "---\n",
    "Copyright © 2022 WorldQuant University. This\n",
    "content is licensed solely for personal use. Redistribution or\n",
    "publication of this material is strictly prohibited.\n"
   ]
  }
 ],
 "metadata": {
  "colab": {
   "collapsed_sections": [],
   "name": "Financial Data_Module 1_Lesson 2.ipynb",
   "provenance": []
  },
  "kernelspec": {
   "display_name": "Python 3 (ipykernel)",
   "language": "python",
   "name": "python3"
  },
  "language_info": {
   "codemirror_mode": {
    "name": "ipython",
    "version": 3
   },
   "file_extension": ".py",
   "mimetype": "text/x-python",
   "name": "python",
   "nbconvert_exporter": "python",
   "pygments_lexer": "ipython3",
   "version": "3.9.7"
  }
 },
 "nbformat": 4,
 "nbformat_minor": 4
}
