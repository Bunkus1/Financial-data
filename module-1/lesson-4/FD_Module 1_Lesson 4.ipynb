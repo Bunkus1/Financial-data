{
 "cells": [
  {
   "cell_type": "markdown",
   "metadata": {
    "id": "lihmXrHhsU2-"
   },
   "source": [
    "\n",
    "## FINANCIAL DATA\n",
    "MODULE 1 | LESSON 4\n",
    "\n",
    "\n",
    "---\n"
   ]
  },
  {
   "cell_type": "markdown",
   "metadata": {
    "id": "pXGHar_IsY7e"
   },
   "source": [
    "# **FROM A FINANCIAL ENGINEERING VIEW TO A MACHINE LEARNING VIEW**"
   ]
  },
  {
   "cell_type": "markdown",
   "metadata": {
    "id": "s18RsvBksoPc"
   },
   "source": [
    "|  |  |\n",
    "|:---|:---|\n",
    "|**Reading Time** |  30 minutes |\n",
    "|**Prior Knowledge** | Structured Data, Unstructured Data  |\n",
    "|**Keywords** | Flash Crash, Data Volume, Data Variety, Data Velocity, Data Veracity, Data Value |\n",
    "\n",
    "\n",
    "---"
   ]
  },
  {
   "cell_type": "markdown",
   "metadata": {
    "id": "fiMt0VC6sPN5"
   },
   "source": [
    "*When you are in a shopping mall or airport terminal, you walk up to the information kiosk to find a map that says “You are here.”  If we were to do so in the world of data, what would the map look like?  As financial engineers, where are we in the vast world of data? There is time series data, survey data, economic data, alternative data, big data. This lesson will attempt to answer that by examining data from the financial engineering perspective to the machine learning perspective. We’ll begin by looking at desirable features of data.*"
   ]
  },
  {
   "cell_type": "markdown",
   "metadata": {
    "id": "33jPoKSksPN6"
   },
   "source": [
    "## **1. Data Quality**\n",
    "\n",
    "As financial engineers, we think of data as information provided by markets. Those markets could be securities exchanges, over-the-counter markets, credit agencies, central banks, economic institutions, etc. The data can be provided by the exchanges themselves, broker-dealers with whom we trade, the agencies who make and sell the credit models, central banks, and economic institutions through their API portals. There are also third-party companies that use data to build factor models, or other value-added models that score or rank stocks, securities, factors, and sectors to assist in financial decision-making.\n",
    "Regardless of the source, there are four features of data equality we always seek:\n",
    "\n",
    "a.\tAccuracy <br>\n",
    "b.\tCompleteness <br>\n",
    "c.\tConsistency <br>\n",
    "d.\tTimeliness <br>\n",
    "\n",
    "Suppose we were making a lending decision to a consumer.  How would we know the credit risks to determine a suitable credit limit, interest rate, and repayment terms? All four of the principles would apply. Here’s how the four features would apply.\n",
    "\n",
    "### **1.1 Accuracy**\n",
    "First, we’d like to ensure that the data we have is about the person to whom we intend to loan funds. We’d want to make sure we have the correct individual and would rely on reference data pointing to the person (a national ID number).  Just as securities have their primary keys like CUSIPs or SEDOLs, people should have unique identification. We would want to make sure we don’t mix up people with the same name or even family members with the same name who live at the same address.    \n",
    "\n",
    "### **1.2 Completeness**\n",
    "Second, we would want a complete history. Imagine if we only pulled credit reports say within the last 10 years for homes and other collateralized loans, but not for ordinary credit cards. We would have only a partial picture.  Completeness means that the lender has to perform due diligence to discover all information. Of course, regulation may prohibit a lender from getting information that is not allowed. For example, some credit prohibits a person’s age or gender as a criterion for getting a loan.  These protected classes ensure fairness in lending.  Completeness must abide within the confines of what information is allowed, and find full histories.\n",
    "\n",
    "### **1.3 Consistency**\n",
    "Third, we would like the data that is provided from different sources to agree. As there are multiple companies that collect and provide credit ratings, we may want to pull from two or agencies to see if the data is consistent. Indeed, using multiple credit agencies we can correct for any discrepancies.\n",
    "\n",
    "### **1.4 Timeliness**\n",
    "Fourth, we would like the data to be timely. Suppose a customer applied for six different credit cards all within one morning. We would need to make sure our credit checks reflect real-time lending. Even data that is one day old would not show the extra credit or outstanding balance an individual may have. Such a system could be gamed, and ill-intentioned borrowers can get an inordinate amount of loans all within a short window of time, achieving a balance far beyond what would be accepted if they applied for these loans over a longer period of time. Indeed, the burden on many analytics providers now is that data analytics are performed in real-time. This requires not only the ability to handle real-time requests, but also the ability to run analyses that take a short time so that decisions can be made quickly. For example, many credit cards offer an opportunity for a credit increase and are able to provide an answer in under a minute.   \n",
    "\n",
    "The computational and modeling burdens these demands place on the analysis require a thorough understanding of the data. In the next section, we’ll start by reviewing structured data."
   ]
  },
  {
   "cell_type": "markdown",
   "metadata": {
    "id": "Rdi4OzxOsPN7"
   },
   "source": [
    "## **2. Structured Data**\n",
    "\n",
    "In the last section, we discussed four principles of quality data. Let’s apply these to structured data, the topic of our previous lesson.  \n",
    "\n",
    "### **2.1 Accuracy**\n",
    "We’ve been taught “garbage in, garbage out” as a reminder to incorporate accuracy. Clearly, if we have data that is well structured, but highly inaccurate, we have garbage coming out. Note that this is not merely useless. It is dangerous! Models that produce outputs that \"seem\" correct may be used for pricing and hedging and cause untold amounts of financial damage. Recall the operating hazard of mismatching price and quantity, resulting in a \\$225 million dollar trading error. Had the model simply produced no output or warning messages, no trade would be executed and no money would be lost. Useless means a model has no use. Dangerous means a model can lose big time.  \n",
    "\n",
    "### **2.2 Completeness**\n",
    "What about completeness? Suppose we were measuring volatility. Imagine we included the week of the flash crash, but only looked at a frequency that misses the event, say weekly data. Would our data be complete? If we had decisions in place, such as stop-losses, then those could trigger when using live market prices, which we would not know with a volatility measure based on weekly returns. As you progress in your coursework through econometrics, stochastic modeling, and machine learning, you will be exposed to different frequencies of data. Volatility will look different at different time scales. Having a complete set of data will depend on your application.  \n",
    "\n",
    "\n",
    "### **2.3 Consistency**\n",
    "Likewise, consistency is key. Is data that comes from different sources the same? For example, suppose you had been closely monitoring the equity market in the U.S. On April 23, 2018, the news agency Associated Press had their Twitter account hacked.  The tweet read “Breaking: Two Explosions in the White House and Barack Obama is injured.” The Dow Jones Industrial Average plunged -0.33%, and the S&P500 fell -1.21%. In dollar amounts, \\\\$136 billion of market cap evaporated (Domm).\n",
    "\n",
    "However, there were no other tweets or headlines about the story. Could the Associated Press be that much quicker than all the other global news sources? Surely, such a story would have received wide media coverage. If we insisted on having consistent data sources, we would anticipate a second data source providing the same news. There was none because it was fake news due to a hacked account. The White House quickly confirmed there was no incident. Within six minutes, stocks returned to their normal levels. However, the turbulence for those 6 minutes was enough to wipe out more than $22 billion per minute! Most of the trading was performed by automated trading rules, which were likely to react first rather than “wait for confirmation” later.  \n",
    "\n",
    "Consider a different example: credit scoring individuals applying for a loan. We can enforce consistency by comparing credit scores from different sources. For example, there are three major credit agencies that provide FICO scores for individuals. While the “true” value is never known, we can compare all 3 scores. Many lenders may use a median score as a means to resolve any discrepancies. Therefore, redundancy in data sources is a good practice.\n",
    "\n",
    "### **2.4 Timeliness**\n",
    "The last point concerns the timeliness of data. Arguably, this is the most difficult issue in finance, because financial models built with data can easily become “miscalibrated”. Finance is not physics. In physics, the laws of the universe are largely invariant over time. Data we collected yesterday can be used to construct a model that would likely work just as well tomorrow as it does today. Finance, however, is not physics but social science. In social science, laws are replaced by “principles” or “rules” by which humans tend to behave and make decisions.  However, people change their behavior and their decision-making, so models that work one day in finance may not necessarily work the next–-either because a new calibration is needed or perhaps because the model as a whole is no longer appropriate.  \n",
    "For example, several years ago, the app Google Maps suggested a shortcut for commuters driving to New York City over the George Washington Bridge. At first, only a few drivers followed this shortcut. But as Google Maps and other navigation apps had wider adoption, more and more drivers took this shortcut. It reached a point where the shortcut became just the opposite: traffic congestion. The town attempted to ban out-of-town drivers from using their roads. When people learn of shortcuts, tricks, and secrets, they can change their behavior in a way that effectively eliminates the short cut (Foderaro). \n",
    "\n",
    "In market terms, if there is arbitrage (‘extra time’), as market participants learn and exploit it, it goes away: a restoration of market efficiency. As financial engineers, the price we pay is a constant and healthy amount of skepticism: How can we know that the data we collected continues to accurately represent the way the system works today?  \n"
   ]
  },
  {
   "cell_type": "code",
   "execution_count": null,
   "metadata": {},
   "outputs": [],
   "source": [
    "# The FX market is open 24 hours a day, 5 days a week.\n",
    "# Let's get the most recent FX data: Japanese Yen to Eurodollars\n",
    "import yfinance as yf\n",
    "\n",
    "data = yf.download(tickers=\"JPYAUD=X\", period=\"1d\", interval=\"15m\")\n",
    "data"
   ]
  },
  {
   "cell_type": "markdown",
   "metadata": {
    "id": "82AS-hnPsPN7"
   },
   "source": [
    "## **3. Unstructured Data**\n",
    "\n",
    "As we move to unstructured data, we see that the same principles apply.  Let’s discuss what makes data unstructured.  Unlike structured data, unstructured data lacks a predefined format.  It tends to be qualitative, but can be numeric.  It is disjoint, disorganized, complex.  The key distinction is that the data isn’t easily placed into a tabular format that relational databases expect.  Rules of thumb in the industry estimate that approximately 80% of all data is unstructured.    \n",
    "a.\tBusiness Documents\n",
    "b.\tProduct Photos or Barcodes\n",
    "c.\tAudio Clips\n",
    "d.\tVideos\n",
    "e.\tReviews\n",
    "f.\tSocial Media\n",
    "g.\tCustomer Feedback\n",
    "h.\tWeb pages\n",
    "Some data may lie in between structured and unstructured.  Emails are considered semi-structured because they contain some known fields: sender, recipient, header, and message.  However, within the message field, the data is unstructured and cannot easily be parsed using traditional methods.   "
   ]
  },
  {
   "cell_type": "markdown",
   "metadata": {
    "id": "gNcQyenAsPN8"
   },
   "source": [
    "## **4. Alternative Data**\n",
    "Finance has often referred to unstructured data as alternative data. Let’s look at some examples. Suppose you are pricing weather derivatives. How do you construct hedges? For example, [one bank uses NASA satellite imagery for pricing and hedging weather derivatives](https://www.artemis.bm/news/mitsui-sumitomo-to-use-nasa-satellites-for-weather-derivative-sales/).  \n",
    "Consider sentiment analysis for social media. Social media contains many unstructured data fields we discussed in the previous section. Those data need to be captured, from which a rigorous sentiment analysis can be performed.  Please read the paper by Hansen on alternative data and sentiment analysis.\n",
    "\n",
    "### **4.1 Properties of Alternative Data**\n",
    "What are the properties of alternative data?  We can list at least half a dozen:\n",
    "\n",
    "1.   They tend to be unstructured\n",
    "2.   They tend to be less commonly used in traditional finance \n",
    "3. Many of the sources (but not all) come from non-financial markets\n",
    "4. Many of the data contain rare or extreme events\n",
    "5. Many contain non-textual information, such as audio, video, or imagery\n",
    "6. They may be the exclusive source of this information\n",
    "\n",
    "\n",
    "\n",
    "### **4.2  Quality of Alternative Data**\n",
    "The same principles of accuracy, consistency, completeness, and timeliness apply to unstructured data. However, these can be harder to assert if there is only one source. As an example, an artist with some extra time on his hands decided to trick Google Maps. He collected 99 iPhones, put them in a wagon, and walked them up and down the street in Berlin in front of the Google headquarters. With many phones moving that slowly, Google Maps reported a massive traffic jam--though there were no cars on the road! (Somos)\n",
    "\n",
    "Fake reviews abound. A food writer, also with a lot of extra time, created a \"fake restaurant\" and wrote fake reviews of it. Despite there being no physical restaurant there, the restaurant became TripAdvisor's No. 1 ranked restaurant in London! (Bender)\n",
    "We could look at these events as pranks played by artists.  But the Flash Crash is no different--trades entered by a spoofer who caused a trillion dollars of market swings.  Read the Akansu paper “The Flash Crash: A Review.”\n",
    "We’ll conclude this section with a review of the data.\n",
    "\n",
    "### **4.3 Assessing Alternative Data**\n",
    "Consider some questions to ask about alternative data.\n",
    "Who generates the data?\n",
    "Who collects the data?  \n",
    "How is it recorded?\n",
    "Who has access to the data?\n",
    "How can it be verified?\n",
    "\n"
   ]
  },
  {
   "cell_type": "code",
   "execution_count": null,
   "metadata": {},
   "outputs": [],
   "source": [
    "# Let's look at a few fundamentals on Uber.\n",
    "ticker = \"UBER\"\n",
    "UberFundamentals = yf.Ticker(ticker)\n",
    "print(UberFundamentals.info.keys())\n",
    "print(UberFundamentals.info[\"freeCashflow\"])\n",
    "print(UberFundamentals.info[\"priceToBook\"])"
   ]
  },
  {
   "cell_type": "markdown",
   "metadata": {
    "id": "YhoZlrzDsPN8",
    "tags": []
   },
   "source": [
    "## **5. The Big Data: The 5 Vs** \n",
    "\n",
    "In the field of data science, machine learning has provided best practices of data for more than 20 years. There is a well-known “Big 5 Vs.\" (Some papers point to dozens and dozens of Vs!) We’ll discuss these five features. (Please see the Ishwarappa paper for more details.)\n",
    "\n",
    "* **Volume**\n",
    "\n",
    "    Volume is the amount of data. Streams and streams of data pour in.\n",
    "\n",
    "* **Variety**\n",
    "\n",
    "    Variety refers to the different sources and forms. In our previous sections, we saw that data can be structured, semi-structured, or unstructured.\n",
    "\n",
    "* **Velocity**\n",
    "\n",
    "    Velocity refers to the rate at which data is created in real time. Exchange data can be as fast as fractions of a millisecond! Other financial data may not be \n",
    "    available more than once a day or even quarterly in the case of economic indicators.\n",
    "\n",
    "* **Veracity**\n",
    "\n",
    "    Veracity refers to the confidence in the data source.  Think fake news accounts and spoofed trades.\n",
    "\n",
    "* **Value**\n",
    "\n",
    "    Value refers to the insights available in the data.  \n",
    "\n",
    "## **6. Conclusion** \n",
    "\n",
    "Data science has influenced every field due to its universal nature of addressing data collection, visualization, modeling, and presentation. Financial engineering is no exception. As financial engineers, we’ll examine machine learning problems through a financial lens and follow the best practices for data that have been recommended in both fields."
   ]
  },
  {
   "cell_type": "markdown",
   "metadata": {
    "id": "A9s0YsusvQtX"
   },
   "source": [
    "**References**\n",
    "\n",
    "*   Bender, Andrew. TripAdvisor Gets Totally Punked when Fake Restaurant is Ranked No. 1. *Forbes*, December 8, 2017.  \n",
    "https://www.forbes.com/sites/andrewbender/2017/12/08/tripadvisor-gets-totally-punked-when-fake-restaurant-is-ranked-no-1/?sh=2d5d01282c23\n",
    "\n",
    "* Domm, Patti. “False Rumor of Explosion at White House Causes Stocks to Briefly Plunge; AP Confirms Its Twitter Feed Was Hacked.” *CNBC*, 24 Apr. 2013, www.cnbc.com/id/100646197.\n",
    "\n",
    "* Foderaro, Lisa. “Navigation Apps Are Turning Quiet Neighborhoods Into Traffic Nightmares.” *The New York Times*, 24 Dec. 2017, www.nytimes.com/2017/12/24/nyregion/traffic-apps-gps-neighborhoods.html.\n",
    "\n",
    "*   Somos, Christy. German Artist Uses 99 Smartphones to Fool Google Maps with Fake Traffic Jam. *Sci-Tech News*, February 4, 2020.\n",
    "https://www.ctvnews.ca/sci-tech/german-artist-uses-99-smartphones-to-fool-google-maps-with-fake-traffic-jam-1.4797313?cache=yes%3FclipId%3D89619%2Fexpert-advice-5-ways-to-get-rid-of-annoying-fruit-flies-1.2492904\n",
    "\n"
   ]
  },
  {
   "cell_type": "markdown",
   "id": "8054807e",
   "metadata": {},
   "source": [
    "---\n",
    "Copyright © 2022 WorldQuant University. This\n",
    "content is licensed solely for personal use. Redistribution or\n",
    "publication of this material is strictly prohibited.\n"
   ]
  }
 ],
 "metadata": {
  "colab": {
   "collapsed_sections": [],
   "name": "Financial Data_Module 1_Lesson 4.ipynb",
   "provenance": []
  },
  "kernelspec": {
   "display_name": "Python 3 (ipykernel)",
   "language": "python",
   "name": "python3"
  },
  "language_info": {
   "codemirror_mode": {
    "name": "ipython",
    "version": 3
   },
   "file_extension": ".py",
   "mimetype": "text/x-python",
   "name": "python",
   "nbconvert_exporter": "python",
   "pygments_lexer": "ipython3",
   "version": "3.9.7"
  }
 },
 "nbformat": 4,
 "nbformat_minor": 4
}
