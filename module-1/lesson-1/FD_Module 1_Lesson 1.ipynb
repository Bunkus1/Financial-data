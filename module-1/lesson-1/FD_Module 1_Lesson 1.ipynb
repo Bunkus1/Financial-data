{
 "cells": [
  {
   "cell_type": "markdown",
   "metadata": {
    "id": "A_djuWRzMXkq"
   },
   "source": [
    "\n",
    "## FINANCIAL DATA\n",
    "MODULE 1 | LESSON 1\n",
    "\n",
    "\n",
    "---\n"
   ]
  },
  {
   "cell_type": "markdown",
   "metadata": {
    "id": "sQfsxvu2MrAc"
   },
   "source": [
    "# **FINANCIAL DATA BEST PRACTICES**\n"
   ]
  },
  {
   "cell_type": "markdown",
   "metadata": {
    "id": "aSW9-996Miww"
   },
   "source": [
    "|  |  |\n",
    "|:---|:---|\n",
    "|**Reading Time** |  30 minutes |\n",
    "|**Prior Knowledge** | Liquidity, Exchanges vs OTC markets, Interest Rates  |\n",
    "|**Keywords** | Liquidity (re-introduced), Information Shocks |\n",
    "\n",
    "---\n"
   ]
  },
  {
   "cell_type": "markdown",
   "metadata": {
    "id": "t6JWZbCYFhmI"
   },
   "source": [
    "*In Financial Markets, we examined how the world of financial engineering is influenced by concepts like credit risk, financing, volatility, correlation, liquidity, regulation, leverage, non-linearity, model failure, and financial crisis. In Financial Data, we will revisit all of these concepts by introducing data to can help us populate models that can interpret, predict, and even prescribe solutions to the challenges financial engineers face.*\n",
    "\n",
    "*In this module, we will examine what constitutes financial data: where it comes from, the factors that affect data, the types of data, how to handle missing or extreme cases, and the foundations of data preparation for machine learning.* *In this lesson, we'll focus on a half dozen lessons we can make about data, based on understanding the macroeconomy, central banks, and one of the key financial concepts from the last course--liquidity.*"
   ]
  },
  {
   "cell_type": "markdown",
   "metadata": {
    "id": "x-eBBynFFjqe"
   },
   "source": [
    "## **1. Economics**\n",
    "Asset prices are greatly influenced by what happens in the macroeconomy. A thriving business cycle invites equity investments, increases in personal spending, and perhaps actions taken by the central bank. In the first module of Financial Markets, you saw examples where depositors were earning a specific interest rate.  At the same time, lenders (or borrowers) earned a different interest rate.  Depositing money in a bank will surely earn less interest than the interest you would pay on a loan from the same bank!\n",
    "\n",
    "One of the biggest influences on markets in general, and interest rates in particular, is news.  \n",
    "News can be thought of as expected or unexpected. Recall that efficient markets may have incorporated much of the expected news already. For example, suppose Netflix declares a \\\\$2.00 dividend. If this is indeed the amount that gets announced, then it comes as no surprise and should not affect Netflix's stock price. However, suppose there is unexpected news.\n",
    "-Netflix had stronger than anticipated growth due to underestimated popularity with certain shows, causing a larger than expected number of subscribers in Korea. The dividend is \\\\$2.40. The stock price will likely rally.\n",
    "-On the other hand, suppose Netflix had higher than expected costs for producing original content, causing net profits to drop. The dividend is only \\\\$1.80. The stock price will likely tumble.\n",
    "\n",
    "Unexpected news can be good or bad, that is, it may result in higher prices or lower prices, depending on the situation. For example, consider bad news. It can increase credit risk, threaten financing cash flows, create volatility, disrupt correlation, aggravate leverage, induce non-linearities, challenge model assumptions, stress models by incurring added costs for liquidity, promote model failure, and even bring about financial crises. Of course, one piece of bad news may not do all that, but what if the bad news affected many business--such as higher than expected interest rates?\n",
    "\n",
    "Let's examine how interest rates work. Investing in business affects interest rates, but simultaneously, interest rates affect business investments. Most relationships in finance are complex because they can be multi-directional. It's not just that A affects B and B affects A. It's that A affects B and C; B affects A and C; C affects A and B; and so on. Your required reading for this lesson, Ozenbas Chapter 3 Section 1, will help you understand the complex interaction of business investment and interest rates.\n",
    "\n",
    "This gives us our first lesson about the type of data. If we just collect interest rates and have no sense of monetary policy or money supply or economic decisions, we lose data that both affects interest rates and in turn are affected by those same rates. Indeed, we may want to collect associated data so that we can examine if that other variable (e.g., Fed decisions) affect our variable of interest. Indeed, we will do this later in the course with conditional averages, or run conditional regressions."
   ]
  },
  {
   "cell_type": "markdown",
   "metadata": {
    "id": "EPpr0S0AFmiX",
    "tags": []
   },
   "source": [
    "## **2. Federal Reserve**\n",
    "\n",
    "Recall from Financial Markets that we read about central banks.  The Federal Reserve is the central bank in the United States. The Fed's output is vast: It includes decisions, research, and printed and spoken market commentaries. These findings are heavily watched and analyzed, as they significantly affect markets. For example, eight times a year, the Federal Reserve has regularly scheduled releases of decisions about interest rates. These meetings result in decisions about interest rates released to the market. Like any other information, this is news that can be expected or unexpected.  If the news is expected, then that information is already priced in the market.  If the news is unexpected, then there are likely to be information shocks that cause market volatility.  In addition, the Fed selects 8 other dates at which they release the minutes of the meetings. These releases contain qualitative rather than quantitative data. These releases can also affect not only interest rates, but stock trading as well, as they indicate the opinions and intended actions of the Fed. For example, in 2019, the Fed decided to cut interest rates three times. This led to a 29% decrease in the S&P 500 during the 4th quarter of 2019.\n",
    "\n",
    "This gives us our second lesson about data. If we collected data during 2018 and then attempted to extrapolate, we would miss out on key events that affect data. Oftentimes, we need to understand key events that affect our data, as we might consider a data sample as information between those events.\n",
    "\n",
    "For example, if you construct a sample of equity data, you could collect daily equity closes, but when it comes to analyzing them, you could consider:\n",
    "1) no grouping \n",
    "2) 1 group per equity dividend announcement\n",
    "3) groups based on the level of the Fed Reserve rate\n",
    "4) 1 group per Fed fund meeting\n",
    "\n",
    "To get data from the Federal Reserve, please visit https://fred.stlouisfed.org/docs/api/api_key.html\n",
    "From there, you can request a free API key.\n",
    "\n",
    "While the data collected may be the same, there is a recognition that the data as a whole (example 1) may have different properties and can be better analyzed based on an intrinsic property of the company (example 2, earnings) or based on an extrinsic property, like monetary policy (examples 3 and 4). Understanding that our data experiences changes means that we will want to understand markets as systems. It also means we may want to collect and analyze data that is qualitative (e.g., Fed statements)."
   ]
  },
  {
   "cell_type": "code",
   "execution_count": null,
   "metadata": {},
   "outputs": [],
   "source": [
    "import pandas_datareader as pdr  # access fred"
   ]
  },
  {
   "cell_type": "code",
   "execution_count": null,
   "metadata": {},
   "outputs": [],
   "source": [
    "# extract api key: put your key in between the angle brackets <>\n",
    "myKey = \"xxxxxxxxxxxxxxxxxxxxxxxxxxxxxxxx\"\n",
    "fred_api_key = \"<ENTER YOUR API KEY HERE>\""
   ]
  },
  {
   "cell_type": "code",
   "execution_count": null,
   "metadata": {},
   "outputs": [],
   "source": [
    "# Using code from FRED API: Get US Economic Data using Python\n",
    "def get_fred_data(param_list, start_date, end_date):\n",
    "    df = pdr.DataReader(param_list, \"fred\", start_date, end_date)\n",
    "    return df.reset_index()"
   ]
  },
  {
   "cell_type": "code",
   "execution_count": null,
   "metadata": {},
   "outputs": [],
   "source": [
    "# Let's see what the Fed Funds rate was since 2000\n",
    "series = \"FEDFUNDS\"\n",
    "# get data for series\n",
    "df = get_fred_data(param_list=[series], start_date=\"2000-01-01\", end_date=\"2022-05-03\")\n",
    "df"
   ]
  },
  {
   "cell_type": "markdown",
   "metadata": {
    "id": "m88UVZIrFv6H"
   },
   "source": [
    "## **3. Types of Financial Markets**\n",
    "\n",
    "Even the type of financial market influences the data.\n",
    "Read about the various types of financial markets in the required reading.\n",
    "\n",
    "If we use prices, we may be using data only where actual trades occurred.\n",
    "If we use quotations, then we have a richer set of data because this includes information in the limit order book.  The limit order book includes\n",
    "1. bid price: the best (i.e., highest) price at which a buyer is willing to pay. This is the top of the book.\n",
    "2. bid size: the amount the best bid is willing to purchase at that price.\n",
    "3. ask price: the best (i.e., lowest) price at which a seller is willing to trade. This is also the top of the book on the offer side. Note that the ask price is also known as the offer price.\n",
    "4. ask  size: the number of shares the best offer is willing to sell at that price.\n",
    "As we saw in the previous course, the difference between the bid and ask price is known as the bid-ask spread.  \n",
    "\n",
    "In Financial Markets, we stated that illiquid markets have a high bid-ask spread. If is high relative to the level of the securities' prices.  You can see examples of this in neighborhoods where there are vacant storefronts. In the commercial real estate world, retail businesses are willing to pay \\\\$x for a 1-year rental (the bid price). Landlords, however, would like to receive \\$y for the same rental. The bid-ask spread, y - x, could be quite large indeed. The two sides could be 10%, 20%, 30%, or even more away from each other.  With neither side willing to budge, the market remains illiquid. As a result, the properties remain vacant.\n",
    "\n",
    "If no new rentals occurred within 2 years, how would you collect data to analyze the market?\n",
    "Trade data, where actual trades occurred, would be two years out of date.  \n",
    "Quote data, where you have recent bids and offers, would be more applicable, since they are more recent. But where is this quote data? Commercial real estate is NOT exchange traded. Commercial real estate does not trade on an over-the-counter market. Therefore, either side does not have a  detailed, accurate, and comprehensive history of bids, offers, and such. In short, there is no publicly accessible limit order book of real estate. These markets could be auction markets or dealer markets, where information is much more difficult to obtain. Indeed, each landlord may deal directly with each prospective tenant.  Alternatively, there may be a middleman (i.e., real estate broker) who ironically makes the market more illiquid by inserting big transaction costs (brokerage fees) that drive the two sides even further apart. In securities markets, there are even dark pools where some details are hidden and others are visible to make markets more equitable by hiding information from advantaged traders, like high-frequency traders.\n",
    "\n",
    "This gives us the third point of financial data: know your source! Exchange-traded data is often the best because it tends to be complete, detailed, available with not only trade information but also quote information. In the case of cryptocurrencies, there can literally be billions of pieces of information, given the top of book, depth of book, type of trade, and many other fields. Considering  the fact that it trades high-frequency, there can be thousands of points per second of trading.\n",
    "Quote data does not reflect where prices occur but does show the supply and demand of participants at a given time. Quote data is one of the most comprehensive types of data because it gives a two-sided view of the market.\n"
   ]
  },
  {
   "cell_type": "code",
   "execution_count": null,
   "metadata": {},
   "outputs": [],
   "source": [
    "import yfinance as yf\n",
    "\n",
    "data = yf.download(tickers=\"NFLX\", period=\"1d\", interval=\"5m\")\n",
    "# Print data\n",
    "data"
   ]
  },
  {
   "cell_type": "markdown",
   "metadata": {
    "id": "D8jcp-NJF7In"
   },
   "source": [
    "## **4. Information Shocks**\n",
    "\n",
    "Indeed, we may want to collect many types of data because we get a fuller picture when we capture data from different markets and sources. Often, we will want to understand that the market experiences shocks, and having different types of data can reveal how significant those shocks are. The required reading for this module walks you through a case study about the Federal Reserve. The Fed's Chairman, Jerome Powell, made statements in October 2018 that affected equity prices for the remainder of 2018 Q4 (i.e., the fourth quarter of 2018). In short, equity prices dropped 29% over this period. Please note that we are not saying that a simple action (Fed decisions) caused these events.  Rather, we are recognizing that finance is an empirical science, rather than a controlled experiment. \n",
    "\n",
    "In finance, we perform observational studies and use the enriched analysis to understand the results. Often, results do not simply continue trending or directly mean revert because the conditions continually change. As you do the reading, please study the graphs of federal funds rates, the ten-year U.S. Treasury note, and the S&P 500 stock market level to see how macroeconomic policy affects financial markets and vice versa.\n",
    "\n",
    "This gives us the fourth point of financial data: financial series jump. Many of the models we will study in this program simplify the behavior of asset prices by assuming they are continuous (like  Brownian motion). In reality, nearly every asset, index, or economic ratio has a tendency to jump. Jumps are not \"outliers\" or \"market corrections\" per se, but rather an illustration of how markets consist of a multitude of human decision-makers who tend to react and overreact, causing extreme moves and reversals in markets. We may use models that assume jumps aren't allowed, but it is always prudent to see if the assumptions of those models can be relaxed to accommodate jumps. "
   ]
  },
  {
   "cell_type": "markdown",
   "metadata": {
    "id": "GcqFrakMF8tX"
   },
   "source": [
    "## **5. High Frequency**\n",
    "Indeed, some of the data collected may actually contain so much information and noise that it is hard to see the forest for the trees.\n",
    "\n",
    "This leads us to the fifth point: understanding the frequency of data.\n",
    "Some series exist at exceptionally high frequencies--limit order books for cryptocurrencies, which can have millions of points each day. Some series are much slower moving, such as corporate bonds, which may trade only a few times per year. Imagine having to run a correlation on series such as these: Do you slow down a fast-moving series, or do you somehow interpolate a slower-moving series? You will see that the financial problem you face will be solved on a time scale--high frequency, intraday, daily, weekly, monthly, periodically. Choose your data accordingly.\n",
    "\n",
    "Indeed, we will run regressions later in the program that use financial series whose data you could get intraday, along with economic indicators whose values only change quarterly. Learning to combine time series that start out with different frequencies is a key part of financial engineering because we cannot control the experiments, but we can somehow transform data to be modeled."
   ]
  },
  {
   "cell_type": "markdown",
   "metadata": {
    "id": "KAjPELGQGAT-"
   },
   "source": [
    "## **6. Liquid Securities**\n",
    "\n",
    "In this section, we'll emphasize one more aspect about financial data. Not all securities are as liquid as other securities. In general, it is better to get data from liquid securities than from illiquid securities. To review, we can consider five characteristics that liquid securities have.\n",
    "1) A relatively small bid-ask spread\n",
    "2) Frequent trading\n",
    "3) Considerable volume\n",
    "4) Small market impact\n",
    "5) Units tend to be indistinguishable\n",
    "  \n",
    "In the example from the reading, from 9:30-11:30, Flushing Financial stock traded 25 times. During that same time, Microsoft traded 25,250 times! The daily volume for Flushing Financial was 67,250. The volume of Microsoft's daily volume was 44 million!  \n",
    "In relative terms, Microsoft traded 100 times as often and 655 times as much volume!  \n",
    "Shares of an S&P 500 stock that trades on an exchange tends to be liquid because it likely meets all five characteristics. Real estate, on the other hand, fails to meet most of these, particularly number 5, because no two properties are identical.\n",
    "\n",
    "In our simple example of analyzing interest rates, we may want to build a term structure of rates. It would be preferable to use, say, 7 liquid securities (like 7 U.S.-issued treasury notes and bonds), and interpolate to get dozens of points, rather than use 60 illiquid securities.  In other words, only one U.S. bond is liquid--the \"active\" one, also known as the \"on-the-run\" or the \"current\" one.  Meanwhile, there are dozens of 30-year bonds that have been issued; one was issued three months ago, one six months ago, one nine months ago, etc. These bonds are not as liquid as the active one! Why? They don't trade as much because some investors buy and hold. For example, a pension fund manager may buy a 30-year bond and hold it in her portfolio, never to trade it again. The coupon payments the manager receives twice a year can pay retirees their pension. In 30 years time, the principal is repaid, and the process can be repeated. Since these bonds are unlikely to default, they are a way to earn coupon interest over a long period of time.\n",
    "\n",
    "\n",
    "This gives us the sixth and final point of financial data: try not to combine illiquid and liquid data! Liquid data tends to contain more rapidly changing information.  Illiquid data does not. Think of an illiquid security as having a great standard error around the data value itself. The price from a liquid security is informative, as there was trading there. The price from an illiquid security may not give a good sense of the impact of liquidity."
   ]
  },
  {
   "cell_type": "markdown",
   "metadata": {
    "id": "bkLsVDE2GODO"
   },
   "source": [
    "## 7. **Conclusion**\n",
    "\n",
    "This lesson introduced the macroeconomic view of data as it affects interest rates. It also covered the role of liquidity in markets, as measured by the bid-ask spread.   The next lesson will drill down into the specific types of data we want to collect."
   ]
  },
  {
   "cell_type": "markdown",
   "metadata": {},
   "source": [
    "**References**\n",
    "\n",
    "* Herrera, Ariel. “FRED API: Get US Economic Data Using Python - Towards Dev.” *Medium*, 30 Mar. 2022, https://towardsdev.com/fred-api-get-us-economic-data-using-python-e51ac8e7b1cc"
   ]
  },
  {
   "cell_type": "markdown",
   "id": "e4141aa0",
   "metadata": {},
   "source": [
    "---\n",
    "Copyright © 2022 WorldQuant University. This\n",
    "content is licensed solely for personal use. Redistribution or\n",
    "publication of this material is strictly prohibited.\n"
   ]
  }
 ],
 "metadata": {
  "colab": {
   "collapsed_sections": [],
   "name": "Financial Data_Module 1_Lesson 1.ipynb",
   "provenance": []
  },
  "kernelspec": {
   "display_name": "Python 3 (ipykernel)",
   "language": "python",
   "name": "python3"
  },
  "language_info": {
   "codemirror_mode": {
    "name": "ipython",
    "version": 3
   },
   "file_extension": ".py",
   "mimetype": "text/x-python",
   "name": "python",
   "nbconvert_exporter": "python",
   "pygments_lexer": "ipython3",
   "version": "3.9.7"
  }
 },
 "nbformat": 4,
 "nbformat_minor": 4
}
